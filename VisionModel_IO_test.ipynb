{
 "cells": [
  {
   "cell_type": "code",
   "execution_count": 1,
   "metadata": {},
   "outputs": [],
   "source": [
    "import torch\n",
    "import torch.nn as nn\n",
    "import torch.nn.functional as F\n",
    "import torch.optim as optim\n",
    "from torch.distributions.normal import Normal\n",
    "\n",
    "class VisionModel(torch.nn.Module):\n",
    "    def __init__(self,  channel_size, height, width, dim_z, lr, device):\n",
    "        super(VisionModel, self).__init__()\n",
    "\n",
    "        self.channel_size = channel_size\n",
    "        self.height = height\n",
    "        self.width = width\n",
    "        self.dim_z = dim_z\n",
    "        self.lr = lr\n",
    "        self.device = device\n",
    "\n",
    "        ## Input size : [batch, 3, 84, 84]\n",
    "        ### Encoder\n",
    "        \n",
    "        self.conv1 = nn.Conv2d(in_channels=self.channel_size, out_channels=32,\n",
    "                               kernel_size=4, stride=2, padding=0).to(device) # [32, 41, 41]\n",
    "        self.conv2 = nn.Conv2d(in_channels=32, out_channels=32,\n",
    "                               kernel_size=5, stride=2, padding=2).to(device) # [32, 21, 21]\n",
    "        self.conv3 = nn.Conv2d(in_channels=32, out_channels=32,\n",
    "                               kernel_size=7, stride=7, padding=0).to(device) # [32, 3, 3]\n",
    "\n",
    "        self.mu = nn.Linear(32 * 9, self.dim_z).to(device)\n",
    "        self.log_std = nn.Linear(32 * 9, self.dim_z).to(device)\n",
    "\n",
    "        self.recons = nn.Linear(dim_z, 256).to(device)\n",
    "\n",
    "\n",
    "        ### Decoder\n",
    "        self.t_conv1 = nn.ConvTranspose2d(in_channels=256, out_channels=128,\n",
    "                                          kernel_size=3, stride=1, padding=0).to(device)  # [128, 3, 3]\n",
    "        self.t_conv2 = nn.ConvTranspose2d(in_channels=128, out_channels=64,\n",
    "                                          kernel_size=7, stride=7, padding=0).to(device)  # [64, 21, 21]\n",
    "        self.t_conv3 = nn.ConvTranspose2d(in_channels=64, out_channels=32,\n",
    "                                          kernel_size=5, stride=2, padding=2).to(device)  # [32, 41, 41]\n",
    "        self.t_conv4 = nn.ConvTranspose2d(in_channels=32, out_channels= self.channel_size,\n",
    "                                          kernel_size=4, stride=2, padding=0).to(device)  # [3, 84, 84]\n",
    "\n",
    "        self.optimizer = optim.Adam(self.parameters(), lr=self.lr)\n",
    "\n",
    "    def encode(self, x):\n",
    "        assert len(x.shape) == 4\n",
    "\n",
    "        x = F.celu(self.conv1(x))\n",
    "        x = F.celu(self.conv2(x))\n",
    "        x = F.celu(self.conv3(x))\n",
    "\n",
    "        x = x.view(-1, 32 * 9)\n",
    "\n",
    "        mu = self.mu(x)\n",
    "        sigma = torch.exp(self.log_std(x))\n",
    "\n",
    "        return mu, sigma\n",
    "\n",
    "    def reparameterization(self, mu, sigma):\n",
    "        temp_normal = Normal(mu, sigma)\n",
    "\n",
    "        return temp_normal.rsample()  # [batch, 16]\n",
    "\n",
    "    def decode(self, z):\n",
    "        x = F.celu(self.recons(z))  # [batch, 256]\n",
    "\n",
    "        x = x.view(-1, 256, 1, 1)\n",
    "\n",
    "        x = F.celu(self.t_conv1(x))\n",
    "        x = F.celu(self.t_conv2(x))\n",
    "        x = F.celu(self.t_conv3(x))\n",
    "        x = torch.sigmoid(self.t_conv4(x))\n",
    "\n",
    "        return x\n",
    "\n",
    "    def train(self, batch):\n",
    "        assert len(batch.shape) == 4\n",
    "\n",
    "        mus, sigmas = self.encode(batch)\n",
    "        zs = self.reparameterization(mus, sigmas)\n",
    "\n",
    "        recons = self.decode(zs)\n",
    "\n",
    "        reconstruction_error = F.binary_cross_entropy(recons, batch, reduction=\"sum\") / batch.shape[0]\n",
    "\n",
    "        var = sigmas ** 2\n",
    "        mu_2 = mus ** 2\n",
    "\n",
    "        regularization_error = torch.mean(torch.sum(-0.5 * (1 + torch.log(var) - mu_2 - var), dim=1, keepdim=False))\n",
    "\n",
    "        loss = reconstruction_error + regularization_error\n",
    "\n",
    "        self.optimizer.zero_grad()\n",
    "        loss.backward()\n",
    "        torch.nn.utils.clip_grad_value_(self.parameters(), 1.0)\n",
    "        self.optimizer.step()\n",
    "\n",
    "        return reconstruction_error.detach().cpu().numpy(), regularization_error.detach().cpu().numpy(), loss.detach().cpu().numpy()"
   ]
  },
  {
   "cell_type": "code",
   "execution_count": 2,
   "metadata": {},
   "outputs": [],
   "source": [
    "vm = VisionModel(3, 84, 84, 64, 1e-3, torch.device(\"cuda\"))"
   ]
  },
  {
   "cell_type": "code",
   "execution_count": 4,
   "metadata": {},
   "outputs": [],
   "source": [
    "t = torch.randn([1,3,84,84]).to(torch.device(\"cuda\"))"
   ]
  },
  {
   "cell_type": "code",
   "execution_count": 5,
   "metadata": {},
   "outputs": [],
   "source": [
    "z = vm.encode(t)"
   ]
  },
  {
   "cell_type": "code",
   "execution_count": 8,
   "metadata": {},
   "outputs": [],
   "source": [
    "z = vm.reparameterization(*z)"
   ]
  },
  {
   "cell_type": "code",
   "execution_count": 10,
   "metadata": {},
   "outputs": [],
   "source": [
    "im = vm.decode(z)"
   ]
  },
  {
   "cell_type": "code",
   "execution_count": 16,
   "metadata": {},
   "outputs": [],
   "source": [
    "import matplotlib.pyplot as plt\n",
    "import numpy as np"
   ]
  },
  {
   "cell_type": "code",
   "execution_count": 20,
   "metadata": {},
   "outputs": [
    {
     "data": {
      "text/plain": [
       "(84, 84, 3)"
      ]
     },
     "execution_count": 20,
     "metadata": {},
     "output_type": "execute_result"
    }
   ],
   "source": [
    "np.moveaxis(im[0].detach().cpu().numpy(),[0,1,2],[2,0,1]).shape"
   ]
  },
  {
   "cell_type": "code",
   "execution_count": 21,
   "metadata": {},
   "outputs": [
    {
     "data": {
      "text/plain": [
       "<matplotlib.image.AxesImage at 0x7fde28456d30>"
      ]
     },
     "execution_count": 21,
     "metadata": {},
     "output_type": "execute_result"
    },
    {
     "data": {
      "image/png": "[encoded data removed]",
      "text/plain": [
       "<Figure size 432x288 with 1 Axes>"
      ]
     },
     "metadata": {
      "needs_background": "light"
     },
     "output_type": "display_data"
    }
   ],
   "source": [
    "plt.imshow(np.moveaxis(im[0].detach().cpu().numpy(),[0,1,2],[2,0,1]))"
   ]
  }
 ],
 "metadata": {
  "kernelspec": {
   "display_name": "Python 3",
   "language": "python",
   "name": "python3"
  },
  "language_info": {
   "codemirror_mode": {
    "name": "ipython",
    "version": 3
   },
   "file_extension": ".py",
   "mimetype": "text/x-python",
   "name": "python",
   "nbconvert_exporter": "python",
   "pygments_lexer": "ipython3",
   "version": "3.5.2"
  }
 },
 "nbformat": 4,
 "nbformat_minor": 2
}
