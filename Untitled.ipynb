{
 "cells": [
  {
   "cell_type": "code",
   "execution_count": 2,
   "metadata": {
    "scrolled": true
   },
   "outputs": [
    {
     "name": "stdout",
     "output_type": "stream",
     "text": [
      "Policy Net conv flatten size :  768\n",
      "QNet conv flatten size :  768\n",
      "Value Net conv flatten size :  768\n",
      "Value Net conv flatten size :  768\n"
     ]
    }
   ],
   "source": [
    "from Model.ReplayBuffer import ReplayBuffer\n",
    "from Model.policy_net import ConvSACPolicy\n",
    "from Model.q_net import ConvSACQNet\n",
    "from Model.v_net import ConvSACValue\n",
    "from Model.SAC_base import target_initialize\n",
    "from Model.SAC_base import conv_train\n",
    "import lib_duju.utils as duju_utils\n",
    "from Model.ImageBuffer import ImageBuffer\n",
    "\n",
    "import torch\n",
    "import torch.nn as nn\n",
    "import torch.nn.functional as F\n",
    "import torch.optim as optim\n",
    "import cv2\n",
    "\n",
    "from dm_control import suite\n",
    "import numpy as np\n",
    "\n",
    "exp_title = \"CONV_CELU\"\n",
    "\n",
    "env = suite.load(domain_name=\"cartpole\",task_name=\"swingup\")\n",
    "\n",
    "state_dim = duju_utils.state_1d_dim_calc(env)[-1]\n",
    "\n",
    "stepsize = 10\n",
    "channelsize = 3\n",
    "\n",
    "step_channelsize = stepsize * channelsize\n",
    "\n",
    "height = 48\n",
    "width = 64\n",
    "\n",
    "action_dim = env.action_spec().shape[-1]\n",
    "\n",
    "buffer_size = 2e5\n",
    "batch_size = 16\n",
    "\n",
    "lr = 1e-4\n",
    "device = torch.device(\"cuda\")\n",
    "\n",
    "replay_buffer = ReplayBuffer(buffer_size)\n",
    "image_buffer = ImageBuffer(height,width, stepsize, channelsize, int(buffer_size*1.1))\n",
    "eval_image_buffer = ImageBuffer(height, width, stepsize, channelsize, 1100)\n",
    "\n",
    "policy = ConvSACPolicy(step_channelsize, height, width, action_dim, lr, device)\n",
    "QNet = ConvSACQNet(step_channelsize, height, width, action_dim, lr, device)\n",
    "VNet_main = ConvSACValue(step_channelsize, height, width, lr, device)\n",
    "VNet_target = ConvSACValue(step_channelsize, height, width, lr, device)\n",
    "\n",
    "target_initialize(VNet_main, VNet_target)\n",
    "\n",
    "max_episode = 10000\n",
    "image_idx = 0\n",
    "eval_image_idx = 0\n",
    "\n",
    "### Image Idx starts from 1\n"
   ]
  },
  {
   "cell_type": "code",
   "execution_count": 4,
   "metadata": {
    "scrolled": true
   },
   "outputs": [
    {
     "name": "stdout",
     "output_type": "stream",
     "text": [
      "Train 0\n",
      "Train 1\n",
      "Train 2\n",
      "Train 3\n",
      "Train 4\n",
      "Train 5\n",
      "Train 6\n",
      "Train 7\n",
      "Train 8\n",
      "Train 9\n",
      "Train 10\n",
      "Train 11\n",
      "Train 12\n",
      "Train 13\n",
      "Train 14\n",
      "Train 15\n",
      "Train 16\n",
      "Train 17\n",
      "Train 18\n",
      "Train 19\n",
      "Train 20\n",
      "Train 21\n",
      "Train 22\n",
      "Train 23\n",
      "Train 24\n",
      "Train 25\n",
      "Train 26\n",
      "Train 27\n",
      "Train 28\n",
      "Train 29\n",
      "Train 30\n",
      "Train 31\n",
      "Train 32\n",
      "Train 33\n",
      "Train 34\n",
      "Train 35\n",
      "Train 36\n",
      "Train 37\n",
      "Train 38\n",
      "Train 39\n",
      "Train 40\n",
      "Train 41\n",
      "Train 42\n",
      "Train 43\n",
      "Train 44\n",
      "Train 45\n",
      "Train 46\n",
      "Train 47\n",
      "Train 48\n",
      "Train 49\n",
      "Train 50\n",
      "Train 51\n",
      "Train 52\n",
      "Train 53\n",
      "Train 54\n",
      "Train 55\n"
     ]
    },
    {
     "ename": "KeyboardInterrupt",
     "evalue": "",
     "output_type": "error",
     "traceback": [
      "\u001b[0;31m---------------------------------------------------------------------------\u001b[0m",
      "\u001b[0;31mKeyboardInterrupt\u001b[0m                         Traceback (most recent call last)",
      "\u001b[0;32m<ipython-input-4-7c74dede1474>\u001b[0m in \u001b[0;36m<module>\u001b[0;34m\u001b[0m\n\u001b[1;32m     31\u001b[0m     \u001b[0;32mfor\u001b[0m \u001b[0m_idx\u001b[0m \u001b[0;32min\u001b[0m \u001b[0mrange\u001b[0m\u001b[0;34m(\u001b[0m\u001b[0;36m1000\u001b[0m\u001b[0;34m)\u001b[0m\u001b[0;34m:\u001b[0m\u001b[0;34m\u001b[0m\u001b[0m\n\u001b[1;32m     32\u001b[0m         \u001b[0mprint\u001b[0m\u001b[0;34m(\u001b[0m\u001b[0;34m\"Train\"\u001b[0m\u001b[0;34m,\u001b[0m\u001b[0m_idx\u001b[0m\u001b[0;34m)\u001b[0m\u001b[0;34m\u001b[0m\u001b[0m\n\u001b[0;32m---> 33\u001b[0;31m         \u001b[0mmax_v\u001b[0m \u001b[0;34m=\u001b[0m \u001b[0mconv_train\u001b[0m\u001b[0;34m(\u001b[0m\u001b[0mpolicy\u001b[0m\u001b[0;34m,\u001b[0m \u001b[0mQNet\u001b[0m\u001b[0;34m,\u001b[0m \u001b[0mVNet_main\u001b[0m\u001b[0;34m,\u001b[0m \u001b[0mVNet_target\u001b[0m\u001b[0;34m,\u001b[0m \u001b[0mreplay_buffer\u001b[0m\u001b[0;34m,\u001b[0m \u001b[0mimage_buffer\u001b[0m\u001b[0;34m,\u001b[0m \u001b[0mbatch_size\u001b[0m\u001b[0;34m,\u001b[0m \u001b[0malpha\u001b[0m\u001b[0;34m=\u001b[0m\u001b[0;36m0.2\u001b[0m\u001b[0;34m,\u001b[0m \u001b[0mgamma\u001b[0m\u001b[0;34m=\u001b[0m\u001b[0;36m0.99\u001b[0m\u001b[0;34m)\u001b[0m\u001b[0;34m\u001b[0m\u001b[0m\n\u001b[0m\u001b[1;32m     34\u001b[0m \u001b[0;34m\u001b[0m\u001b[0m\n\u001b[1;32m     35\u001b[0m     \u001b[0mprint\u001b[0m\u001b[0;34m(\u001b[0m\u001b[0mepi_i\u001b[0m\u001b[0;34m,\u001b[0m \u001b[0;34m\"***\"\u001b[0m\u001b[0;34m,\u001b[0m \u001b[0mep_reward\u001b[0m\u001b[0;34m,\u001b[0m \u001b[0;34m\"***\"\u001b[0m\u001b[0;34m,\u001b[0m \u001b[0mmax_v\u001b[0m\u001b[0;34m)\u001b[0m\u001b[0;34m\u001b[0m\u001b[0m\n",
      "\u001b[0;32m~/animal_ai_olympics/duju_animal_ai_olympics/Model/SAC_base.py\u001b[0m in \u001b[0;36mconv_train\u001b[0;34m(policy, Qnet, Value_main, Value_target, replay_buffer, image_buffer, batch_size, alpha, gamma)\u001b[0m\n\u001b[1;32m     93\u001b[0m \u001b[0;34m\u001b[0m\u001b[0m\n\u001b[1;32m     94\u001b[0m     \u001b[0;32mfor\u001b[0m \u001b[0mi\u001b[0m \u001b[0;32min\u001b[0m \u001b[0ms_batch\u001b[0m\u001b[0;34m:\u001b[0m\u001b[0;34m\u001b[0m\u001b[0m\n\u001b[0;32m---> 95\u001b[0;31m         \u001b[0ms\u001b[0m\u001b[0;34m,\u001b[0m \u001b[0ms2\u001b[0m \u001b[0;34m=\u001b[0m \u001b[0mimage_buffer\u001b[0m\u001b[0;34m.\u001b[0m\u001b[0mget_state_and_next\u001b[0m\u001b[0;34m(\u001b[0m\u001b[0mi\u001b[0m\u001b[0;34m)\u001b[0m\u001b[0;34m\u001b[0m\u001b[0m\n\u001b[0m\u001b[1;32m     96\u001b[0m         \u001b[0ms1_batch\u001b[0m\u001b[0;34m.\u001b[0m\u001b[0mappend\u001b[0m\u001b[0;34m(\u001b[0m\u001b[0ms\u001b[0m\u001b[0;34m)\u001b[0m\u001b[0;34m\u001b[0m\u001b[0m\n\u001b[1;32m     97\u001b[0m         \u001b[0ms2_batch\u001b[0m\u001b[0;34m.\u001b[0m\u001b[0mappend\u001b[0m\u001b[0;34m(\u001b[0m\u001b[0ms2\u001b[0m\u001b[0;34m)\u001b[0m\u001b[0;34m\u001b[0m\u001b[0m\n",
      "\u001b[0;32m~/animal_ai_olympics/duju_animal_ai_olympics/Model/ImageBuffer.py\u001b[0m in \u001b[0;36mget_state_and_next\u001b[0;34m(self, idx)\u001b[0m\n\u001b[1;32m     54\u001b[0m     \u001b[0;32mdef\u001b[0m \u001b[0mget_state_and_next\u001b[0m\u001b[0;34m(\u001b[0m\u001b[0mself\u001b[0m\u001b[0;34m,\u001b[0m \u001b[0midx\u001b[0m\u001b[0;34m)\u001b[0m\u001b[0;34m:\u001b[0m\u001b[0;34m\u001b[0m\u001b[0m\n\u001b[1;32m     55\u001b[0m         \u001b[0;32massert\u001b[0m \u001b[0midx\u001b[0m \u001b[0;34m>\u001b[0m \u001b[0;36m0\u001b[0m \u001b[0;32mand\u001b[0m \u001b[0midx\u001b[0m \u001b[0;34m<\u001b[0m \u001b[0mself\u001b[0m\u001b[0;34m.\u001b[0m\u001b[0mcount\u001b[0m \u001b[0;34m+\u001b[0m \u001b[0mself\u001b[0m\u001b[0;34m.\u001b[0m\u001b[0mfull_count\u001b[0m\u001b[0;34m\u001b[0m\u001b[0m\n\u001b[0;32m---> 56\u001b[0;31m         \u001b[0;32mreturn\u001b[0m \u001b[0mself\u001b[0m\u001b[0;34m.\u001b[0m\u001b[0mget_state\u001b[0m\u001b[0;34m(\u001b[0m\u001b[0midx\u001b[0m\u001b[0;34m)\u001b[0m\u001b[0;34m,\u001b[0m \u001b[0mself\u001b[0m\u001b[0;34m.\u001b[0m\u001b[0mget_state\u001b[0m\u001b[0;34m(\u001b[0m\u001b[0midx\u001b[0m\u001b[0;34m+\u001b[0m\u001b[0;36m1\u001b[0m\u001b[0;34m)\u001b[0m\u001b[0;34m\u001b[0m\u001b[0m\n\u001b[0m",
      "\u001b[0;32m~/animal_ai_olympics/duju_animal_ai_olympics/Model/ImageBuffer.py\u001b[0m in \u001b[0;36mget_state\u001b[0;34m(self, idx)\u001b[0m\n\u001b[1;32m     45\u001b[0m         \u001b[0;32massert\u001b[0m \u001b[0mtemp_idx\u001b[0m \u001b[0;34m>\u001b[0m \u001b[0;36m0\u001b[0m\u001b[0;34m,\u001b[0m \u001b[0;34m\"temp_idx : \"\u001b[0m \u001b[0;34m+\u001b[0m \u001b[0mstr\u001b[0m\u001b[0;34m(\u001b[0m\u001b[0mtemp_idx\u001b[0m\u001b[0;34m)\u001b[0m\u001b[0;34m\u001b[0m\u001b[0m\n\u001b[1;32m     46\u001b[0m \u001b[0;34m\u001b[0m\u001b[0m\n\u001b[0;32m---> 47\u001b[0;31m         \u001b[0mreturn_array\u001b[0m \u001b[0;34m=\u001b[0m \u001b[0mnp\u001b[0m\u001b[0;34m.\u001b[0m\u001b[0mconcatenate\u001b[0m\u001b[0;34m(\u001b[0m\u001b[0mself\u001b[0m\u001b[0;34m.\u001b[0m\u001b[0mbuffer\u001b[0m\u001b[0;34m[\u001b[0m\u001b[0mtemp_idx\u001b[0m \u001b[0;34m-\u001b[0m \u001b[0mself\u001b[0m\u001b[0;34m.\u001b[0m\u001b[0mstepsize\u001b[0m\u001b[0;34m:\u001b[0m \u001b[0mtemp_idx\u001b[0m\u001b[0;34m]\u001b[0m\u001b[0;34m,\u001b[0m \u001b[0maxis\u001b[0m\u001b[0;34m=\u001b[0m\u001b[0;36m0\u001b[0m\u001b[0;34m)\u001b[0m\u001b[0;34m\u001b[0m\u001b[0m\n\u001b[0m\u001b[1;32m     48\u001b[0m \u001b[0;34m\u001b[0m\u001b[0m\n\u001b[1;32m     49\u001b[0m         \u001b[0;32massert\u001b[0m \u001b[0mreturn_array\u001b[0m\u001b[0;34m.\u001b[0m\u001b[0mshape\u001b[0m \u001b[0;34m==\u001b[0m \u001b[0;34m(\u001b[0m\u001b[0mself\u001b[0m\u001b[0;34m.\u001b[0m\u001b[0mstep_channelsize\u001b[0m\u001b[0;34m,\u001b[0m \u001b[0mself\u001b[0m\u001b[0;34m.\u001b[0m\u001b[0mheight\u001b[0m\u001b[0;34m,\u001b[0m \u001b[0mself\u001b[0m\u001b[0;34m.\u001b[0m\u001b[0mwidth\u001b[0m\u001b[0;34m)\u001b[0m\u001b[0;34m\u001b[0m\u001b[0m\n",
      "\u001b[0;31mKeyboardInterrupt\u001b[0m: "
     ]
    }
   ],
   "source": [
    "for epi_i in range(1, max_episode + 1):\n",
    "\n",
    "    timestep = env.reset()\n",
    "    ep_reward = 0.0\n",
    "\n",
    "    # timestep, reward, discount, observation\n",
    "    end, _, _, _ = timestep\n",
    "    start_frame = env.physics.render(camera_id=0, width=64, height=48)\n",
    "    for _ in range(stepsize):\n",
    "        image_buffer.dm_add(start_frame)\n",
    "        image_idx += 1\n",
    "    end = end.last()\n",
    "\n",
    "    s = image_buffer.get_state(image_idx)\n",
    "\n",
    "    while not end:\n",
    "        a = policy.sample(torch.FloatTensor(s).to(device).view(1,step_channelsize,height,width)).cpu().numpy()[0]\n",
    "        timestep = env.step(a)\n",
    "\n",
    "        end, r, _, _ = timestep\n",
    "        image_buffer.dm_add(env.physics.render(camera_id=0, width=64, height=48))\n",
    "        image_idx += 1\n",
    "        end = end.last()\n",
    "        s2 = image_buffer.get_state(image_idx)\n",
    "\n",
    "        replay_buffer.add(image_idx - 1, a, np.array([r]),np.array([end]), image_idx)\n",
    "\n",
    "        s = s2\n",
    "        ep_reward += r\n",
    "\n",
    "    for _idx in range(1000):\n",
    "        print(\"Train\",_idx)\n",
    "        max_v = conv_train(policy, QNet, VNet_main, VNet_target, replay_buffer, image_buffer, batch_size, alpha=0.2, gamma=0.99)\n",
    "\n",
    "    print(epi_i, \"***\", ep_reward, \"***\", max_v)\n",
    "\n",
    "    if (epi_i % 1) == 0 :\n",
    "\n",
    "        timestep = env.reset()\n",
    "        end, _, _, _ = timestep\n",
    "        eval_frame = env.physics.render(camera_id=0, width=64, height=48)\n",
    "        for _ in range(stepsize):\n",
    "            eval_image_buffer.dm_add(eval_frame)\n",
    "            eval_image_idx += 1\n",
    "\n",
    "        end = end.last()\n",
    "        s = eval_image_buffer.get_state(eval_image_idx)\n",
    "\n",
    "        eval_ep_reward = 0.0\n",
    "\n",
    "        eval_action = []\n",
    "\n",
    "        while not end:\n",
    "            a = policy.mean_action(torch.FloatTensor(s).to(device).view(1,step_channelsize,height,width)).cpu().numpy()[0]\n",
    "            timestep = env.step(a)\n",
    "            eval_action.append(a)\n",
    "\n",
    "            end, r, _, s2 = timestep\n",
    "            eval_image_buffer.dm_add(env.physics.render(camera_id=0, width=64, height=48))\n",
    "            eval_image_idx += 1\n",
    "            end = end.last()\n",
    "\n",
    "            s2 = eval_image_buffer.get_state(eval_image_idx)\n",
    "\n",
    "            s = s2\n",
    "            eval_ep_reward += r\n",
    "\n",
    "            frame = env.physics.render(camera_id=0, width=64, height=48) #[height, width, channel]\n",
    "#             cv2.imshow(\"test\", frame)\n",
    "#             cv2.waitKey(1)\n",
    "\n",
    "\n",
    "        print(\"Eval! *** \", eval_ep_reward)\n",
    "        print(eval_action)\n",
    "\n",
    "#     if (epi_i % 1) == 0:\n",
    "#         print(\"Networks Saved!\")\n",
    "#         duju_utils.torch_network_save(policy,\"../trained/\"+exp_title+\"_pi_\"+str(epi_i)+\".torch\")\n",
    "#         duju_utils.torch_network_save(QNet, \"../trained/\"+exp_title+\"_Q_\"+str(epi_i)+\".torch\")\n",
    "#         duju_utils.torch_network_save(VNet_main, \"../trained/\"+exp_title+\"_VM_\"+str(epi_i)+\".torch\")\n",
    "#         duju_utils.torch_network_save(VNet_target, \"../trained/\"+exp_title+\"_VT_\"+str(epi_i)+\".torch\")\n",
    "\n",
    "\n",
    "# cv2.destroyAllWindows()\n"
   ]
  },
  {
   "cell_type": "code",
   "execution_count": 6,
   "metadata": {},
   "outputs": [],
   "source": [
    "duju_utils.torch_network_load(policy,\"trained/CONV_CELU_pi_37.torch\")"
   ]
  },
  {
   "cell_type": "code",
   "execution_count": null,
   "metadata": {},
   "outputs": [],
   "source": [
    "import pandas as pd"
   ]
  },
  {
   "cell_type": "code",
   "execution_count": null,
   "metadata": {
    "scrolled": false
   },
   "outputs": [],
   "source": [
    "policy.conv2.weight.shape"
   ]
  },
  {
   "cell_type": "code",
   "execution_count": null,
   "metadata": {},
   "outputs": [],
   "source": [
    "conv2 = policy.conv2.weight.detach().cpu().numpy()"
   ]
  },
  {
   "cell_type": "code",
   "execution_count": null,
   "metadata": {},
   "outputs": [],
   "source": []
  },
  {
   "cell_type": "code",
   "execution_count": null,
   "metadata": {},
   "outputs": [],
   "source": [
    "np.mean(conv2[0])"
   ]
  },
  {
   "cell_type": "code",
   "execution_count": null,
   "metadata": {
    "scrolled": false
   },
   "outputs": [],
   "source": [
    "for i in conv2[0]:\n",
    "    print(pd.DataFrame(i))"
   ]
  },
  {
   "cell_type": "code",
   "execution_count": null,
   "metadata": {},
   "outputs": [],
   "source": [
    "policy.conv2.bias"
   ]
  },
  {
   "cell_type": "code",
   "execution_count": 7,
   "metadata": {},
   "outputs": [],
   "source": [
    "image = image_buffer.get_state(50)"
   ]
  },
  {
   "cell_type": "code",
   "execution_count": 47,
   "metadata": {},
   "outputs": [],
   "source": [
    "import matplotlib.pyplot as plt"
   ]
  },
  {
   "cell_type": "code",
   "execution_count": 49,
   "metadata": {},
   "outputs": [
    {
     "name": "stderr",
     "output_type": "stream",
     "text": [
      "W1004 11:27:08.624399 140391631472384 image.py:656] Clipping input data to the valid range for imshow with RGB data ([0..1] for floats or [0..255] for integers).\n"
     ]
    },
    {
     "data": {
      "text/plain": [
       "<matplotlib.image.AxesImage at 0x7faf74d50d30>"
      ]
     },
     "execution_count": 49,
     "metadata": {},
     "output_type": "execute_result"
    },
    {
     "data": {
      "image/png": "[encoded data removed]",
      "text/plain": [
       "<Figure size 432x288 with 1 Axes>"
      ]
     },
     "metadata": {
      "needs_background": "light"
     },
     "output_type": "display_data"
    }
   ],
   "source": [
    "plt.imshow(np.moveaxis(image[-3:],[0,1,2],[2,0,1])+ 1)"
   ]
  },
  {
   "cell_type": "code",
   "execution_count": null,
   "metadata": {
    "scrolled": false
   },
   "outputs": [],
   "source": [
    "torch.mean(policy.conv1.weight[0])"
   ]
  },
  {
   "cell_type": "code",
   "execution_count": 17,
   "metadata": {},
   "outputs": [],
   "source": [
    "t = policy.conv1(torch.FloatTensor(image).to(device).view(1,30,48,64))"
   ]
  },
  {
   "cell_type": "code",
   "execution_count": 18,
   "metadata": {},
   "outputs": [],
   "source": [
    "tt = torch.tanh(t)"
   ]
  },
  {
   "cell_type": "code",
   "execution_count": 19,
   "metadata": {},
   "outputs": [],
   "source": [
    "ttt = policy.conv2(tt)"
   ]
  },
  {
   "cell_type": "code",
   "execution_count": 20,
   "metadata": {},
   "outputs": [],
   "source": [
    "tttt = torch.tanh(ttt)"
   ]
  },
  {
   "cell_type": "code",
   "execution_count": 60,
   "metadata": {},
   "outputs": [
    {
     "data": {
      "text/plain": [
       "tensor([[-0.0611, -0.0426, -0.0201, -0.0232, -0.0057, -0.0093, -0.0376, -0.0617],\n",
       "        [-0.9271, -0.9958, -0.9943, -0.9944, -0.9944, -0.9940, -0.9948, -0.9957],\n",
       "        [-0.9749, -0.9995, -0.9994, -0.9994, -0.9994, -0.9994, -0.9994, -0.9995],\n",
       "        [-0.9868, -0.9999, -0.9998, -0.9997, -0.9993, -0.9997, -0.9998, -0.9999],\n",
       "        [-0.9985, -1.0000, -1.0000, -1.0000, -1.0000, -1.0000, -1.0000, -1.0000],\n",
       "        [-0.9997, -1.0000, -1.0000, -1.0000, -1.0000, -1.0000, -1.0000, -1.0000]],\n",
       "       device='cuda:0', grad_fn=<SelectBackward>)"
      ]
     },
     "execution_count": 60,
     "metadata": {},
     "output_type": "execute_result"
    }
   ],
   "source": [
    "tttt[0][10]"
   ]
  },
  {
   "cell_type": "code",
   "execution_count": 61,
   "metadata": {},
   "outputs": [],
   "source": [
    "ttttt = policy.fc1(tttt.view(1,1,-1))"
   ]
  },
  {
   "cell_type": "code",
   "execution_count": 62,
   "metadata": {},
   "outputs": [
    {
     "data": {
      "text/plain": [
       "tensor([[[ 0.9472, -0.1349,  2.8373, -1.1097, -0.2227, -0.3358, -0.7272,\n",
       "          -0.2696, -0.2571, -1.5481, -0.4551,  1.2827, -1.5614,  1.5961,\n",
       "          -0.1825, -1.2740, -0.9457, -0.3842, -0.2470, -0.9374, -0.8401,\n",
       "           1.4853, -0.1770, -0.2962,  2.1615, -0.5107, -1.7693, -0.5498,\n",
       "          -0.1638, -0.3635, -0.3963, -0.3784, -0.8957, -0.3249,  0.2956,\n",
       "          -0.4041,  3.4846, -0.8623, -0.5917, -0.4944,  1.5911, -0.3506,\n",
       "          -1.5894, -0.8999, -0.7269, -1.3974, -0.4463, -0.6553, -0.1446,\n",
       "          -1.6974, -0.6293, -1.6048, -0.6301, -1.7714, -1.6164, -0.7317,\n",
       "          -0.7221, -1.4935, -0.5444, -1.0871, -0.5980, -1.3417, -0.5416,\n",
       "          -0.6576, -0.5162,  2.4586, -1.3566, -0.7890, -0.6827, -0.1898,\n",
       "          -1.6450,  0.6091, -0.1944, -0.4339, -0.9417, -1.6914, -1.6380,\n",
       "          -0.4816, -0.5246, -0.7821, -0.2705, -1.6253, -0.4310, -0.8371,\n",
       "          -0.8063, -0.7348,  1.5073, -0.5707, -0.5898, -0.6169, -1.3698,\n",
       "          -0.3780, -0.8874, -0.1460, -0.2522, -0.9845, -0.1861, -0.9355,\n",
       "          -0.3335,  0.8381, -0.4290, -0.3534, -1.5825, -0.4587, -1.5269,\n",
       "          -0.3539,  2.8334, -0.7391, -1.2377, -0.3727, -0.7457,  2.6750,\n",
       "          -0.6269, -0.5286, -0.1489,  2.0557,  1.5251, -0.4694, -0.3569,\n",
       "          -0.5488,  2.6051, -0.5048, -0.3997, -1.7188,  0.3111, -0.2779,\n",
       "          -0.4117, -0.3182]]], device='cuda:0', grad_fn=<AddBackward0>)"
      ]
     },
     "execution_count": 62,
     "metadata": {},
     "output_type": "execute_result"
    }
   ],
   "source": [
    "ttttt"
   ]
  },
  {
   "cell_type": "code",
   "execution_count": 63,
   "metadata": {},
   "outputs": [],
   "source": [
    "t6 = F.relu(ttttt)"
   ]
  },
  {
   "cell_type": "code",
   "execution_count": 64,
   "metadata": {},
   "outputs": [
    {
     "data": {
      "text/plain": [
       "tensor([[[0.9472, 0.0000, 2.8373, 0.0000, 0.0000, 0.0000, 0.0000, 0.0000,\n",
       "          0.0000, 0.0000, 0.0000, 1.2827, 0.0000, 1.5961, 0.0000, 0.0000,\n",
       "          0.0000, 0.0000, 0.0000, 0.0000, 0.0000, 1.4853, 0.0000, 0.0000,\n",
       "          2.1615, 0.0000, 0.0000, 0.0000, 0.0000, 0.0000, 0.0000, 0.0000,\n",
       "          0.0000, 0.0000, 0.2956, 0.0000, 3.4846, 0.0000, 0.0000, 0.0000,\n",
       "          1.5911, 0.0000, 0.0000, 0.0000, 0.0000, 0.0000, 0.0000, 0.0000,\n",
       "          0.0000, 0.0000, 0.0000, 0.0000, 0.0000, 0.0000, 0.0000, 0.0000,\n",
       "          0.0000, 0.0000, 0.0000, 0.0000, 0.0000, 0.0000, 0.0000, 0.0000,\n",
       "          0.0000, 2.4586, 0.0000, 0.0000, 0.0000, 0.0000, 0.0000, 0.6091,\n",
       "          0.0000, 0.0000, 0.0000, 0.0000, 0.0000, 0.0000, 0.0000, 0.0000,\n",
       "          0.0000, 0.0000, 0.0000, 0.0000, 0.0000, 0.0000, 1.5073, 0.0000,\n",
       "          0.0000, 0.0000, 0.0000, 0.0000, 0.0000, 0.0000, 0.0000, 0.0000,\n",
       "          0.0000, 0.0000, 0.0000, 0.8381, 0.0000, 0.0000, 0.0000, 0.0000,\n",
       "          0.0000, 0.0000, 2.8334, 0.0000, 0.0000, 0.0000, 0.0000, 2.6750,\n",
       "          0.0000, 0.0000, 0.0000, 2.0557, 1.5251, 0.0000, 0.0000, 0.0000,\n",
       "          2.6051, 0.0000, 0.0000, 0.0000, 0.3111, 0.0000, 0.0000, 0.0000]]],\n",
       "       device='cuda:0', grad_fn=<ReluBackward0>)"
      ]
     },
     "execution_count": 64,
     "metadata": {},
     "output_type": "execute_result"
    }
   ],
   "source": [
    "t6"
   ]
  },
  {
   "cell_type": "code",
   "execution_count": 65,
   "metadata": {},
   "outputs": [],
   "source": [
    "t7 = policy.fc2(t6)"
   ]
  },
  {
   "cell_type": "code",
   "execution_count": 66,
   "metadata": {},
   "outputs": [
    {
     "data": {
      "text/plain": [
       "tensor([[[-0.5537, -0.2384, -0.0866,  0.0640, -0.4507, -0.1345,  0.6166,\n",
       "          -0.4321,  0.0404, -0.2081, -0.5021, -0.9254, -0.0248,  0.0614,\n",
       "          -0.0861, -0.4142,  0.8226, -0.4406, -0.5877, -0.4019,  0.0302,\n",
       "          -0.0588, -0.2079, -0.1805, -0.0688, -0.1183, -0.4873, -0.6404,\n",
       "          -0.0720,  0.2432, -0.3987,  0.0829,  0.3877, -0.4562,  0.5684,\n",
       "          -0.1071,  0.6868, -0.2628,  0.3660,  0.1629, -0.3742, -0.1439,\n",
       "           0.2832, -0.0708,  0.0309, -0.7496, -0.1010, -0.3267,  0.2455,\n",
       "          -0.2501, -0.0658,  0.1338, -0.3363, -0.2284, -0.7380, -1.1897,\n",
       "           0.1606,  0.0864, -1.1942, -0.2343, -0.0913,  0.0221, -0.2021,\n",
       "          -0.4635, -0.5038, -0.4406, -0.1179, -0.2911, -0.0507, -0.0025,\n",
       "          -0.0663,  0.1625, -0.3638, -0.2089,  0.0634, -0.1564,  0.2005,\n",
       "           0.2522, -0.3469, -0.0719, -0.0292, -0.0821, -0.0422,  0.4942,\n",
       "          -0.0618, -0.2868, -0.5284, -0.4190, -0.2961,  0.0563, -0.6912,\n",
       "           0.4421, -0.1341,  1.2388, -0.0735,  0.9940, -0.0561, -0.1608,\n",
       "          -0.0807, -0.3195, -0.0830,  0.5287,  0.1831, -0.4975, -0.3619,\n",
       "          -0.2975, -0.3194,  0.0677,  0.2822, -0.5918, -0.2182, -0.1569,\n",
       "          -0.2023,  0.1707,  0.5044, -0.7813,  0.5286, -0.1922, -0.1341,\n",
       "          -0.3087, -0.2796, -0.4840,  0.5371, -0.1729,  0.1093, -1.0697,\n",
       "           0.0979, -0.2975]]], device='cuda:0', grad_fn=<AddBackward0>)"
      ]
     },
     "execution_count": 66,
     "metadata": {},
     "output_type": "execute_result"
    }
   ],
   "source": [
    "t7"
   ]
  },
  {
   "cell_type": "code",
   "execution_count": 67,
   "metadata": {},
   "outputs": [
    {
     "data": {
      "text/plain": [
       "tensor([[[0.0000, 0.0000, 0.0000, 0.0640, 0.0000, 0.0000, 0.6166, 0.0000,\n",
       "          0.0404, 0.0000, 0.0000, 0.0000, 0.0000, 0.0614, 0.0000, 0.0000,\n",
       "          0.8226, 0.0000, 0.0000, 0.0000, 0.0302, 0.0000, 0.0000, 0.0000,\n",
       "          0.0000, 0.0000, 0.0000, 0.0000, 0.0000, 0.2432, 0.0000, 0.0829,\n",
       "          0.3877, 0.0000, 0.5684, 0.0000, 0.6868, 0.0000, 0.3660, 0.1629,\n",
       "          0.0000, 0.0000, 0.2832, 0.0000, 0.0309, 0.0000, 0.0000, 0.0000,\n",
       "          0.2455, 0.0000, 0.0000, 0.1338, 0.0000, 0.0000, 0.0000, 0.0000,\n",
       "          0.1606, 0.0864, 0.0000, 0.0000, 0.0000, 0.0221, 0.0000, 0.0000,\n",
       "          0.0000, 0.0000, 0.0000, 0.0000, 0.0000, 0.0000, 0.0000, 0.1625,\n",
       "          0.0000, 0.0000, 0.0634, 0.0000, 0.2005, 0.2522, 0.0000, 0.0000,\n",
       "          0.0000, 0.0000, 0.0000, 0.4942, 0.0000, 0.0000, 0.0000, 0.0000,\n",
       "          0.0000, 0.0563, 0.0000, 0.4421, 0.0000, 1.2388, 0.0000, 0.9940,\n",
       "          0.0000, 0.0000, 0.0000, 0.0000, 0.0000, 0.5287, 0.1831, 0.0000,\n",
       "          0.0000, 0.0000, 0.0000, 0.0677, 0.2822, 0.0000, 0.0000, 0.0000,\n",
       "          0.0000, 0.1707, 0.5044, 0.0000, 0.5286, 0.0000, 0.0000, 0.0000,\n",
       "          0.0000, 0.0000, 0.5371, 0.0000, 0.1093, 0.0000, 0.0979, 0.0000]]],\n",
       "       device='cuda:0', grad_fn=<ReluBackward0>)"
      ]
     },
     "execution_count": 67,
     "metadata": {},
     "output_type": "execute_result"
    }
   ],
   "source": [
    "F.relu(t7)"
   ]
  },
  {
   "cell_type": "code",
   "execution_count": null,
   "metadata": {},
   "outputs": [],
   "source": []
  },
  {
   "cell_type": "code",
   "execution_count": null,
   "metadata": {},
   "outputs": [],
   "source": [
    "import pprint"
   ]
  },
  {
   "cell_type": "code",
   "execution_count": null,
   "metadata": {
    "scrolled": false
   },
   "outputs": [],
   "source": [
    "for i in range(16):\n",
    "    pprint.pprint(pd.DataFrame(tttt[0][i].detach().cpu().numpy()))"
   ]
  },
  {
   "cell_type": "code",
   "execution_count": null,
   "metadata": {},
   "outputs": [],
   "source": [
    "for i in tt[0][3] > 0:\n",
    "    print(i)"
   ]
  }
 ],
 "metadata": {
  "kernelspec": {
   "display_name": "Python 3",
   "language": "python",
   "name": "python3"
  },
  "language_info": {
   "codemirror_mode": {
    "name": "ipython",
    "version": 3
   },
   "file_extension": ".py",
   "mimetype": "text/x-python",
   "name": "python",
   "nbconvert_exporter": "python",
   "pygments_lexer": "ipython3",
   "version": "3.5.2"
  }
 },
 "nbformat": 4,
 "nbformat_minor": 2
}
