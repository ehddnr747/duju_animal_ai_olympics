{
 "cells": [
  {
   "cell_type": "code",
   "execution_count": 1,
   "metadata": {},
   "outputs": [],
   "source": [
    "import numpy as np\n",
    "import operator\n",
    "\n",
    "class ReplayBuffer(object):\n",
    "    def __init__(self, state_dim, action_dim, buffer_size):  # Image state will be handled at ImageBuffer\n",
    "        self.state_dim = state_dim\n",
    "        self.action_dim = action_dim\n",
    "\n",
    "        self.buffer_size = buffer_size\n",
    "        self.count = 0\n",
    "        self.ptr = 0\n",
    "\n",
    "        self.s_buffer = np.zeros([buffer_size, state_dim])\n",
    "        self.a_buffer = np.zeros([buffer_size, action_dim])\n",
    "        self.r_buffer = np.zeros([buffer_size, 1])\n",
    "        self.t_buffer = np.zeros([buffer_size, 1])\n",
    "        self.s2_buffer = np.zeros([buffer_size, state_dim])\n",
    "\n",
    "    def size(self):\n",
    "        return self.count\n",
    "\n",
    "    def add(self, s, a, r, t, s2):\n",
    "        assert s.shape == (self.state_dim,)\n",
    "        assert a.shape == (self.action_dim,)\n",
    "        assert r.shape == (1,)\n",
    "        assert t.shape == (1,)\n",
    "        assert s2.shape == (self.state_dim,)\n",
    "\n",
    "        self.s_buffer[self.ptr] = s\n",
    "        self.a_buffer[self.ptr] = a\n",
    "        self.r_buffer[self.ptr] = r\n",
    "        self.t_buffer[self.ptr] = t\n",
    "        self.s2_buffer[self.ptr] = s2\n",
    "\n",
    "        self.count = min(self.count + 1, self.buffer_size)\n",
    "        self.ptr = (self.ptr + 1) % self.buffer_size\n",
    "\n",
    "    def sample_batch(self, batch_size):\n",
    "        batch_size = min(self.count, batch_size)\n",
    "\n",
    "        sample_idx = np.random.choice(self.count, batch_size, replace=False)\n",
    "\n",
    "        return self.s_buffer[sample_idx], self.a_buffer[sample_idx], self.r_buffer[sample_idx], self.t_buffer[\n",
    "            sample_idx], self.s2_buffer[sample_idx]\n",
    "\n",
    "# For Segment Tree\n",
    "class Segment_Tree(object):\n",
    "    def __init__(self, capacity, operation, init_value):\n",
    "        assert (capacity > 0 and capacity & (capacity - 1) == 0), \"capacity must be positive and a power of 2.\"\n",
    "\n",
    "        self.capacity = capacity\n",
    "        self.operation = operation\n",
    "        self.tree = np.ones(2 * capacity, dtype = np.float32) * init_value\n",
    "\n",
    "    def __setitem__(self, idx, val):\n",
    "        idx += self.capacity\n",
    "        self.tree[idx] = val\n",
    "\n",
    "        idx //= 2\n",
    "        while idx >= 1:\n",
    "            self.tree[idx] = self.operation(self.tree[2 * idx], self.tree[2 * idx + 1])\n",
    "            idx //= 2\n",
    "\n",
    "    def __getitem__(self, idx):\n",
    "        assert 0 <= idx < self.capacity\n",
    "\n",
    "        return self.tree[self.capacity + idx]\n",
    "\n",
    "\n",
    "class SumTree(Segment_Tree):\n",
    "    def __init__(self, capacity):\n",
    "        super(SumTree, self).__init__(capacity=capacity,\n",
    "                                      operation=operator.add,\n",
    "                                      init_value=0.0)\n",
    "\n",
    "    def sum(self):\n",
    "        return self.tree[1]\n",
    "\n",
    "    def retrieve(self, upperbound, count):\n",
    "        assert 0 <= upperbound <= self.sum() + 1e-5, \"upperbound: {}\".format(upperbound)\n",
    "\n",
    "        idx = 1\n",
    "\n",
    "        while idx < self.capacity:\n",
    "            left = 2 * idx\n",
    "            right = left + 1\n",
    "            if self.tree[left] < upperbound:\n",
    "                upperbound -= self.tree[left]\n",
    "                idx = right\n",
    "            else:\n",
    "                idx = left\n",
    "\n",
    "        return min(idx - self.capacity, count - 1)\n",
    "\n",
    "class MinTree(Segment_Tree):\n",
    "    def __init__(self, capacity):\n",
    "        super(MinTree, self).__init__(capacity = capacity,\n",
    "                                     operation = min,\n",
    "                                     init_value = float(\"inf\"))\n",
    "    def min(self):\n",
    "        return self.tree[1]\n",
    "\n",
    "\n",
    "class PERBuffer(ReplayBuffer):\n",
    "    def __init__(self, state_dim, action_dim, buffer_size, alpha, initial_beta, max_step):\n",
    "        super(PERBuffer, self).__init__(state_dim=state_dim,\n",
    "                                        action_dim=action_dim,\n",
    "                                        buffer_size=buffer_size)\n",
    "\n",
    "        assert alpha > 0.0 and initial_beta > 0.0\n",
    "\n",
    "        self.alpha = alpha\n",
    "        self.initial_beta = initial_beta\n",
    "        self.beta = self.initial_beta\n",
    "\n",
    "        self.current_step = 0\n",
    "        self.max_step = max_step\n",
    "\n",
    "        tree_capacity = 1\n",
    "        while tree_capacity < self.buffer_size:\n",
    "            tree_capacity *= 2\n",
    "\n",
    "        self.sumTree = SumTree(tree_capacity)\n",
    "        self.minTree = MinTree(tree_capacity)\n",
    "\n",
    "        self.tree_ptr = 0\n",
    "\n",
    "        self.max_priority = 1.0  # This is containg alpha inside\n",
    "\n",
    "    def store(self, s, a, r, t, s2):\n",
    "        self.add(s, a, r, t, s2)\n",
    "        self.sumTree[self.tree_ptr] = self.max_priority\n",
    "        self.minTree[self.tree_ptr] = self.max_priority\n",
    "        self.tree_ptr = (self.tree_ptr + 1) % self.buffer_size\n",
    "\n",
    "    def update_beta(self):\n",
    "        self.current_step += 1\n",
    "        self.beta = self.initial_beta + (1 - self.initial_beta) * self.current_step / self.max_step\n",
    "\n",
    "    def sample_batch(self, batch_size):\n",
    "\n",
    "        assert self.count >= batch_size\n",
    "\n",
    "        indices = self._sample_proportional(batch_size)\n",
    "\n",
    "        s = self.s_buffer[indices]\n",
    "        a = self.a_buffer[indices]\n",
    "        r = self.r_buffer[indices]\n",
    "        t = self.t_buffer[indices]\n",
    "        s2 = self.s2_buffer[indices]\n",
    "        weights = self._calculate_weights(indices)\n",
    "\n",
    "        return s, a, r, t, s2, indices, weights\n",
    "\n",
    "    def update_priorities(self, indices, td_errors):\n",
    "        assert len(indices) == len(td_errors)\n",
    "\n",
    "        td_errors = td_errors + 1e-5\n",
    "\n",
    "        for idx, td in zip(indices, td_errors):\n",
    "            self.sumTree[idx] = td ** self.alpha\n",
    "            self.minTree[idx] = td ** self.alpha\n",
    "\n",
    "        self.max_priority = max(self.max_priority, max(td_errors) ** self.alpha)\n",
    "\n",
    "    def _sample_proportional(self, batch_size):\n",
    "\n",
    "        indices = []\n",
    "        p_sum = self.sumTree.sum()\n",
    "        upper_bounds = np.random.uniform(0.0, p_sum, batch_size)\n",
    "\n",
    "        for ub in upper_bounds:\n",
    "            indices.append(self.sumTree.retrieve(ub, self.count))\n",
    "\n",
    "        return indices\n",
    "\n",
    "    def _calculate_weights(self, indices):\n",
    "\n",
    "        tree_min = self.minTree.min()\n",
    "\n",
    "        weights = (tree_min / np.array([self.sumTree[idx] for idx in indices])) ** self.beta\n",
    "\n",
    "        return weights"
   ]
  },
  {
   "cell_type": "code",
   "execution_count": 2,
   "metadata": {},
   "outputs": [],
   "source": [
    "buffer = PERBuffer(1,1,100,0.6,0.4,100)"
   ]
  },
  {
   "cell_type": "code",
   "execution_count": 3,
   "metadata": {},
   "outputs": [],
   "source": [
    "for i in range(6):\n",
    "    buffer.store(np.array([i]),\n",
    "                np.array([i]),\n",
    "                np.array([i]),\n",
    "                np.array([i]),\n",
    "                np.array([i]))"
   ]
  },
  {
   "cell_type": "code",
   "execution_count": 5,
   "metadata": {},
   "outputs": [],
   "source": [
    "buffer.update_priorities(np.array(range(6)),np.array([0.01]*6))"
   ]
  },
  {
   "cell_type": "code",
   "execution_count": 5,
   "metadata": {},
   "outputs": [],
   "source": [
    "buffer.sumTree[10] = 1.0"
   ]
  },
  {
   "cell_type": "code",
   "execution_count": 6,
   "metadata": {},
   "outputs": [
    {
     "name": "stdout",
     "output_type": "stream",
     "text": [
      "0.3788015\n",
      "['0.3788015', '0.0']\n",
      "['0.3788015', '0.0', '0.0', '0.0']\n",
      "['0.3788015', '0.0', '0.0', '0.0', '0.0', '0.0', '0.0', '0.0']\n",
      "['0.3788015', '0.0', '0.0', '0.0', '0.0', '0.0', '0.0', '0.0', '0.0', '0.0', '0.0', '0.0', '0.0', '0.0', '0.0', '0.0']\n"
     ]
    }
   ],
   "source": [
    "print(buffer.sumTree.tree[1])\n",
    "print([str(i)[:9] for i in buffer.sumTree.tree[2:4]])\n",
    "print([str(i)[:9] for i in buffer.sumTree.tree[4:8]])\n",
    "print([str(i)[:9] for i in buffer.sumTree.tree[8:16]])\n",
    "print([str(i)[:9] for i in buffer.sumTree.tree[16:32]])"
   ]
  },
  {
   "cell_type": "code",
   "execution_count": 7,
   "metadata": {},
   "outputs": [
    {
     "data": {
      "text/plain": [
       "1.0"
      ]
     },
     "execution_count": 7,
     "metadata": {},
     "output_type": "execute_result"
    }
   ],
   "source": [
    "float(buffer.sumTree[10])"
   ]
  },
  {
   "cell_type": "code",
   "execution_count": 8,
   "metadata": {},
   "outputs": [
    {
     "data": {
      "text/plain": [
       "0.6313358366593076"
      ]
     },
     "execution_count": 8,
     "metadata": {},
     "output_type": "execute_result"
    }
   ],
   "source": [
    "0.6313358366593076"
   ]
  },
  {
   "cell_type": "code",
   "execution_count": 9,
   "metadata": {},
   "outputs": [
    {
     "data": {
      "text/plain": [
       "-1.0000000178710269"
      ]
     },
     "execution_count": 9,
     "metadata": {},
     "output_type": "execute_result"
    }
   ],
   "source": [
    "0.6313358366593076 - buffer.sumTree.tree[1]"
   ]
  },
  {
   "cell_type": "code",
   "execution_count": 10,
   "metadata": {},
   "outputs": [
    {
     "ename": "TypeError",
     "evalue": "retrieve() missing 1 required positional argument: 'count'",
     "output_type": "error",
     "traceback": [
      "\u001b[0;31m---------------------------------------------------------------------------\u001b[0m",
      "\u001b[0;31mTypeError\u001b[0m                                 Traceback (most recent call last)",
      "\u001b[0;32m<ipython-input-10-e2090da790e4>\u001b[0m in \u001b[0;36m<module>\u001b[0;34m\u001b[0m\n\u001b[0;32m----> 1\u001b[0;31m \u001b[0mbuffer\u001b[0m\u001b[0;34m.\u001b[0m\u001b[0msumTree\u001b[0m\u001b[0;34m.\u001b[0m\u001b[0mretrieve\u001b[0m\u001b[0;34m(\u001b[0m\u001b[0;36m0.63133583\u001b[0m\u001b[0;34m)\u001b[0m\u001b[0;34m\u001b[0m\u001b[0m\n\u001b[0m",
      "\u001b[0;31mTypeError\u001b[0m: retrieve() missing 1 required positional argument: 'count'"
     ]
    }
   ],
   "source": [
    "buffer.sumTree.retrieve(0.63133583)"
   ]
  },
  {
   "cell_type": "code",
   "execution_count": null,
   "metadata": {},
   "outputs": [],
   "source": [
    "np.array([0.63133583])[0], buffer.sumTree.tree[1]"
   ]
  },
  {
   "cell_type": "code",
   "execution_count": null,
   "metadata": {},
   "outputs": [],
   "source": [
    "(buffer.sumTree.tree[1] - np.array([0.63133583])[0]) == 0"
   ]
  },
  {
   "cell_type": "code",
   "execution_count": 8,
   "metadata": {},
   "outputs": [],
   "source": [
    "from collections import Counter"
   ]
  },
  {
   "cell_type": "code",
   "execution_count": 9,
   "metadata": {},
   "outputs": [
    {
     "data": {
      "text/plain": [
       "Counter({0: 171, 1: 175, 2: 168, 3: 158, 4: 152, 5: 176})"
      ]
     },
     "execution_count": 9,
     "metadata": {},
     "output_type": "execute_result"
    }
   ],
   "source": [
    "Counter([buffer.sample_batch(1)[5][0] for _ in range(1000)])"
   ]
  },
  {
   "cell_type": "code",
   "execution_count": null,
   "metadata": {},
   "outputs": [],
   "source": [
    "while True:\n",
    "    t = buffer.sample_batch(1)[5][0]\n",
    "    if t >= 10 :\n",
    "        print(t)"
   ]
  },
  {
   "cell_type": "code",
   "execution_count": null,
   "metadata": {},
   "outputs": [],
   "source": [
    "10 in t"
   ]
  }
 ],
 "metadata": {
  "kernelspec": {
   "display_name": "Python 3",
   "language": "python",
   "name": "python3"
  },
  "language_info": {
   "codemirror_mode": {
    "name": "ipython",
    "version": 3
   },
   "file_extension": ".py",
   "mimetype": "text/x-python",
   "name": "python",
   "nbconvert_exporter": "python",
   "pygments_lexer": "ipython3",
   "version": "3.5.2"
  }
 },
 "nbformat": 4,
 "nbformat_minor": 2
}
