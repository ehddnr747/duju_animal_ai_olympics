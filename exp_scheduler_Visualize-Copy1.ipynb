{
 "cells": [
  {
   "cell_type": "code",
   "execution_count": 1,
   "metadata": {},
   "outputs": [],
   "source": [
    "import subprocess\n",
    "from multiprocessing import Pool"
   ]
  },
  {
   "cell_type": "code",
   "execution_count": 2,
   "metadata": {},
   "outputs": [],
   "source": [
    "cmds = []\n",
    "\n",
    "for i in [3]:\n",
    "    cmds.append(\n",
    "            r'python /home/duju/animal_ai_olympics/duju_animal_ai_olympics/rainbow_animal/animal_rainbow_world_visualize_save.py --env='+str(i)\n",
    "        )"
   ]
  },
  {
   "cell_type": "code",
   "execution_count": 3,
   "metadata": {},
   "outputs": [
    {
     "data": {
      "text/plain": [
       "['python /home/duju/animal_ai_olympics/duju_animal_ai_olympics/rainbow_animal/animal_rainbow_world_visualize_save.py --env=3']"
      ]
     },
     "execution_count": 3,
     "metadata": {},
     "output_type": "execute_result"
    }
   ],
   "source": [
    "cmds"
   ]
  },
  {
   "cell_type": "code",
   "execution_count": 4,
   "metadata": {},
   "outputs": [],
   "source": [
    "def spawn(cmd):\n",
    "    print(cmd, \"start\")\n",
    "    pid = subprocess.Popen(cmd,shell=True)\n",
    "    pid.wait()\n",
    "    print(cmd, \"finish\")"
   ]
  },
  {
   "cell_type": "code",
   "execution_count": 5,
   "metadata": {
    "scrolled": false
   },
   "outputs": [
    {
     "name": "stdout",
     "output_type": "stream",
     "text": [
      "python /home/duju/animal_ai_olympics/duju_animal_ai_olympics/rainbow_animal/animal_rainbow_world_visualize_save.py --env=3 start\n",
      "python /home/duju/animal_ai_olympics/duju_animal_ai_olympics/rainbow_animal/animal_rainbow_world_visualize_save.py --env=3 finish\n"
     ]
    },
    {
     "data": {
      "text/plain": [
       "[None]"
      ]
     },
     "execution_count": 5,
     "metadata": {},
     "output_type": "execute_result"
    }
   ],
   "source": [
    "pool = Pool(1)\n",
    "pool.map_async(spawn,cmds,chunksize=1).get(9999999)"
   ]
  }
 ],
 "metadata": {
  "kernelspec": {
   "display_name": "Python 3",
   "language": "python",
   "name": "python3"
  },
  "language_info": {
   "codemirror_mode": {
    "name": "ipython",
    "version": 3
   },
   "file_extension": ".py",
   "mimetype": "text/x-python",
   "name": "python",
   "nbconvert_exporter": "python",
   "pygments_lexer": "ipython3",
   "version": "3.5.2"
  }
 },
 "nbformat": 4,
 "nbformat_minor": 2
}
