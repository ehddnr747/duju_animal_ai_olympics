{
 "cells": [
  {
   "cell_type": "code",
   "execution_count": 10,
   "metadata": {},
   "outputs": [],
   "source": [
    "import subprocess\n",
    "from multiprocessing import Pool"
   ]
  },
  {
   "cell_type": "code",
   "execution_count": 11,
   "metadata": {},
   "outputs": [],
   "source": [
    "cmds = []\n",
    "\n",
    "for i in [6]:\n",
    "    cmds.append(\n",
    "            r'python /home/duju/animal_ai_olympics/duju_animal_ai_olympics/rainbow_animal/animal_rainbow_world_visualize_save.py --env='+str(i)\n",
    "        )"
   ]
  },
  {
   "cell_type": "code",
   "execution_count": 12,
   "metadata": {},
   "outputs": [
    {
     "data": {
      "text/plain": [
       "['python /home/duju/animal_ai_olympics/duju_animal_ai_olympics/rainbow_animal/animal_rainbow_world_visualize_save.py --env=6']"
      ]
     },
     "execution_count": 12,
     "metadata": {},
     "output_type": "execute_result"
    }
   ],
   "source": [
    "cmds"
   ]
  },
  {
   "cell_type": "code",
   "execution_count": 13,
   "metadata": {},
   "outputs": [],
   "source": [
    "def spawn(cmd):\n",
    "    print(cmd, \"start\")\n",
    "    pid = subprocess.Popen(cmd,shell=True)\n",
    "    pid.wait()\n",
    "    print(cmd, \"finish\")"
   ]
  },
  {
   "cell_type": "code",
   "execution_count": 14,
   "metadata": {
    "scrolled": false
   },
   "outputs": [
    {
     "name": "stdout",
     "output_type": "stream",
     "text": [
      "python /home/duju/animal_ai_olympics/duju_animal_ai_olympics/rainbow_animal/animal_rainbow_world_visualize_save.py --env=6 start\n",
      "python /home/duju/animal_ai_olympics/duju_animal_ai_olympics/rainbow_animal/animal_rainbow_world_visualize_save.py --env=6 finish\n"
     ]
    },
    {
     "data": {
      "text/plain": [
       "[None]"
      ]
     },
     "execution_count": 14,
     "metadata": {},
     "output_type": "execute_result"
    }
   ],
   "source": [
    "pool = Pool(1)\n",
    "pool.map_async(spawn,cmds,chunksize=1).get(9999999)"
   ]
  }
 ],
 "metadata": {
  "kernelspec": {
   "display_name": "Python 3",
   "language": "python",
   "name": "python3"
  },
  "language_info": {
   "codemirror_mode": {
    "name": "ipython",
    "version": 3
   },
   "file_extension": ".py",
   "mimetype": "text/x-python",
   "name": "python",
   "nbconvert_exporter": "python",
   "pygments_lexer": "ipython3",
   "version": "3.5.2"
  }
 },
 "nbformat": 4,
 "nbformat_minor": 2
}
