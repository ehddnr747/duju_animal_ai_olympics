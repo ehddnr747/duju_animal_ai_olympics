{
 "cells": [
  {
   "cell_type": "code",
   "execution_count": 6,
   "metadata": {},
   "outputs": [],
   "source": [
    "import subprocess\n",
    "from multiprocessing import Pool"
   ]
  },
  {
   "cell_type": "code",
   "execution_count": 7,
   "metadata": {},
   "outputs": [],
   "source": [
    "cmds = []\n",
    "\n",
    "for i in range(1,8):\n",
    "    cmds.append(\n",
    "            r'python /home/duju/animal_ai_olympics/duju_animal_ai_olympics/rainbow_animal/animal_rainbow_baseline.py --env='+str(i)\n",
    "        )"
   ]
  },
  {
   "cell_type": "code",
   "execution_count": 8,
   "metadata": {},
   "outputs": [
    {
     "data": {
      "text/plain": [
       "['python /home/duju/animal_ai_olympics/duju_animal_ai_olympics/rainbow_animal/animal_rainbow_baseline.py --env=1',\n",
       " 'python /home/duju/animal_ai_olympics/duju_animal_ai_olympics/rainbow_animal/animal_rainbow_baseline.py --env=2',\n",
       " 'python /home/duju/animal_ai_olympics/duju_animal_ai_olympics/rainbow_animal/animal_rainbow_baseline.py --env=3',\n",
       " 'python /home/duju/animal_ai_olympics/duju_animal_ai_olympics/rainbow_animal/animal_rainbow_baseline.py --env=4',\n",
       " 'python /home/duju/animal_ai_olympics/duju_animal_ai_olympics/rainbow_animal/animal_rainbow_baseline.py --env=5',\n",
       " 'python /home/duju/animal_ai_olympics/duju_animal_ai_olympics/rainbow_animal/animal_rainbow_baseline.py --env=6',\n",
       " 'python /home/duju/animal_ai_olympics/duju_animal_ai_olympics/rainbow_animal/animal_rainbow_baseline.py --env=7']"
      ]
     },
     "execution_count": 8,
     "metadata": {},
     "output_type": "execute_result"
    }
   ],
   "source": [
    "cmds"
   ]
  },
  {
   "cell_type": "code",
   "execution_count": 9,
   "metadata": {},
   "outputs": [],
   "source": [
    "def spawn(cmd):\n",
    "    print(cmd, \"start\")\n",
    "    pid = subprocess.Popen(cmd,shell=True)\n",
    "    pid.wait()\n",
    "    print(cmd, \"finish\")"
   ]
  },
  {
   "cell_type": "code",
   "execution_count": 10,
   "metadata": {
    "scrolled": false
   },
   "outputs": [
    {
     "name": "stdout",
     "output_type": "stream",
     "text": [
      "python /home/duju/animal_ai_olympics/duju_animal_ai_olympics/rainbow_animal/animal_rainbow_baseline.py --env=1 start\n",
      "python /home/duju/animal_ai_olympics/duju_animal_ai_olympics/rainbow_animal/animal_rainbow_baseline.py --env=1 finish\n",
      "python /home/duju/animal_ai_olympics/duju_animal_ai_olympics/rainbow_animal/animal_rainbow_baseline.py --env=2 start\n",
      "python /home/duju/animal_ai_olympics/duju_animal_ai_olympics/rainbow_animal/animal_rainbow_baseline.py --env=2 finish\n",
      "python /home/duju/animal_ai_olympics/duju_animal_ai_olympics/rainbow_animal/animal_rainbow_baseline.py --env=3 start\n",
      "python /home/duju/animal_ai_olympics/duju_animal_ai_olympics/rainbow_animal/animal_rainbow_baseline.py --env=3 finish\n",
      "python /home/duju/animal_ai_olympics/duju_animal_ai_olympics/rainbow_animal/animal_rainbow_baseline.py --env=4 start\n",
      "python /home/duju/animal_ai_olympics/duju_animal_ai_olympics/rainbow_animal/animal_rainbow_baseline.py --env=4 finish\n",
      "python /home/duju/animal_ai_olympics/duju_animal_ai_olympics/rainbow_animal/animal_rainbow_baseline.py --env=5 start\n",
      "python /home/duju/animal_ai_olympics/duju_animal_ai_olympics/rainbow_animal/animal_rainbow_baseline.py --env=5 finish\n",
      "python /home/duju/animal_ai_olympics/duju_animal_ai_olympics/rainbow_animal/animal_rainbow_baseline.py --env=6 start\n",
      "python /home/duju/animal_ai_olympics/duju_animal_ai_olympics/rainbow_animal/animal_rainbow_baseline.py --env=6 finish\n",
      "python /home/duju/animal_ai_olympics/duju_animal_ai_olympics/rainbow_animal/animal_rainbow_baseline.py --env=7 start\n",
      "python /home/duju/animal_ai_olympics/duju_animal_ai_olympics/rainbow_animal/animal_rainbow_baseline.py --env=7 finish\n"
     ]
    },
    {
     "data": {
      "text/plain": [
       "[None, None, None, None, None, None, None]"
      ]
     },
     "execution_count": 10,
     "metadata": {},
     "output_type": "execute_result"
    }
   ],
   "source": [
    "pool = Pool(1)\n",
    "pool.map_async(spawn,cmds,chunksize=1).get(9999999)"
   ]
  }
 ],
 "metadata": {
  "kernelspec": {
   "display_name": "Python 3",
   "language": "python",
   "name": "python3"
  },
  "language_info": {
   "codemirror_mode": {
    "name": "ipython",
    "version": 3
   },
   "file_extension": ".py",
   "mimetype": "text/x-python",
   "name": "python",
   "nbconvert_exporter": "python",
   "pygments_lexer": "ipython3",
   "version": "3.5.2"
  }
 },
 "nbformat": 4,
 "nbformat_minor": 2
}
