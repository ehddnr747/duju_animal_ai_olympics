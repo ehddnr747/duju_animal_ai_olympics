{
 "cells": [
  {
   "cell_type": "code",
   "execution_count": 9,
   "metadata": {},
   "outputs": [],
   "source": [
    "import numpy as np"
   ]
  },
  {
   "cell_type": "code",
   "execution_count": 63,
   "metadata": {},
   "outputs": [],
   "source": [
    "class ReplayBuffer(object):\n",
    "    def __init__(self, state_dim, action_dim, buffer_size): # Image state will be handled at ImageBuffer\n",
    "        self.state_dim = state_dim\n",
    "        self.action_dim = action_dim\n",
    "        \n",
    "        self.buffer_size = buffer_size\n",
    "        self.count = 0\n",
    "        self.ptr = 0\n",
    "        \n",
    "        self.s_buffer = np.zeros([buffer_size, state_dim])\n",
    "        self.a_buffer = np.zeros([buffer_size, action_dim])\n",
    "        self.r_buffer = np.zeros([buffer_size, 1])\n",
    "        self.t_buffer = np.zeros([buffer_size, 1])\n",
    "        self.s2_buffer = np.zeros([buffer_size, state_dim])\n",
    "        \n",
    "    \n",
    "    def size(self):\n",
    "        return self.count\n",
    "    \n",
    "    def add(self, s, a, r, t, s2):\n",
    "        assert s.shape == (self.state_dim,)\n",
    "        assert a.shape == (self.action_dim,)\n",
    "        assert r.shape == (1,)\n",
    "        assert t.shape == (1,)\n",
    "        assert s2.shape == (self.state_dim,)\n",
    "        \n",
    "        self.s_buffer[self.ptr] = s\n",
    "        self.a_buffer[self.ptr] = a\n",
    "        self.r_buffer[self.ptr] = r\n",
    "        self.t_buffer[self.ptr] = t\n",
    "        self.s2_buffer[self.ptr] = s2\n",
    "        \n",
    "        self.count = min(self.count + 1, self.buffer_size)\n",
    "        self.ptr = (self.ptr + 1) % self.buffer_size\n",
    "        \n",
    "    def sample_batch(self, batch_size):\n",
    "        batch_size = min(self.count, batch_size)\n",
    "        \n",
    "        sample_idx = np.random.choice(self.count, batch_size, replace=False)\n",
    "        \n",
    "        return self.s_buffer[sample_idx], self.a_buffer[sample_idx], self.r_buffer[sample_idx], self.t_buffer[sample_idx], self.s2_buffer[sample_idx]\n",
    "                \n",
    "        "
   ]
  },
  {
   "cell_type": "code",
   "execution_count": 64,
   "metadata": {},
   "outputs": [],
   "source": [
    "rb = ReplayBuffer(3, 2, 5)"
   ]
  },
  {
   "cell_type": "code",
   "execution_count": 65,
   "metadata": {},
   "outputs": [],
   "source": [
    "rb.add(np.array([1,2,3]),np.array([-1,-2]),np.array([1.0]),np.array([True]),\n",
    "       np.array([10,20,30]))"
   ]
  },
  {
   "cell_type": "code",
   "execution_count": 61,
   "metadata": {},
   "outputs": [],
   "source": [
    "rb.add(np.array([[2,3,4]]),np.array([[-2,-3]]),np.array([[2.0]]),np.array([[True]]),\n",
    "       np.array([[20,30,40]]))"
   ]
  },
  {
   "cell_type": "code",
   "execution_count": 66,
   "metadata": {
    "scrolled": true
   },
   "outputs": [
    {
     "data": {
      "text/plain": [
       "(array([[1., 2., 3.]]),\n",
       " array([[-1., -2.]]),\n",
       " array([[1.]]),\n",
       " array([[1.]]),\n",
       " array([[10., 20., 30.]]))"
      ]
     },
     "execution_count": 66,
     "metadata": {},
     "output_type": "execute_result"
    }
   ],
   "source": [
    "rb.sample_batch(3)"
   ]
  },
  {
   "cell_type": "code",
   "execution_count": 69,
   "metadata": {},
   "outputs": [
    {
     "data": {
      "text/plain": [
       "array([1])"
      ]
     },
     "execution_count": 69,
     "metadata": {},
     "output_type": "execute_result"
    }
   ],
   "source": [
    "np.array([1])"
   ]
  },
  {
   "cell_type": "code",
   "execution_count": 77,
   "metadata": {},
   "outputs": [
    {
     "name": "stdout",
     "output_type": "stream",
     "text": [
      "120\n",
      "252\n"
     ]
    }
   ],
   "source": [
    "x = int(input())\n",
    "\n",
    "def zarisu(x):\n",
    "    count = 0\n",
    "    while x >= 1:\n",
    "        count += 1\n",
    "        x = int(x / 10)\n",
    "    return count\n",
    "\n",
    "zari = zarisu(x)\n",
    "\n",
    "nums = 0\n",
    "for idx in range(1, zari):\n",
    "    nums += idx * (9 * 10**(idx-1))\n",
    "\n",
    "nums += ((x - 10 ** (zari-1) ) + 1) * zari\n",
    "\n",
    "print(nums)"
   ]
  }
 ],
 "metadata": {
  "kernelspec": {
   "display_name": "Python 3",
   "language": "python",
   "name": "python3"
  },
  "language_info": {
   "codemirror_mode": {
    "name": "ipython",
    "version": 3
   },
   "file_extension": ".py",
   "mimetype": "text/x-python",
   "name": "python",
   "nbconvert_exporter": "python",
   "pygments_lexer": "ipython3",
   "version": "3.5.2"
  }
 },
 "nbformat": 4,
 "nbformat_minor": 2
}
