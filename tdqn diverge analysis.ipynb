{
 "cells": [
  {
   "cell_type": "code",
   "execution_count": 1,
   "metadata": {},
   "outputs": [
    {
     "name": "stdout",
     "output_type": "stream",
     "text": [
      "Conv_Discrete_TDQN_first\n",
      "reward_compensate 1\n",
      "skip_frame 2\n",
      "input channel size :  3\n",
      "fc input size :  1536\n",
      "input channel size :  3\n",
      "fc input size :  1536\n",
      "Triple_DQN(\n",
      "  (q1_conv1): Conv2d(3, 32, kernel_size=(5, 5), stride=(2, 2), padding=(2, 2))\n",
      "  (q1_conv2): Conv2d(32, 32, kernel_size=(5, 5), stride=(2, 2), padding=(2, 2))\n",
      "  (q1_conv3): Conv2d(32, 16, kernel_size=(3, 3), stride=(2, 2), padding=(1, 1))\n",
      "  (q1_fc1): Linear(in_features=1536, out_features=256, bias=True)\n",
      "  (q1_fc2): Linear(in_features=256, out_features=2, bias=True)\n",
      "  (q2_conv1): Conv2d(3, 32, kernel_size=(5, 5), stride=(2, 2), padding=(2, 2))\n",
      "  (q2_conv2): Conv2d(32, 32, kernel_size=(5, 5), stride=(2, 2), padding=(2, 2))\n",
      "  (q2_conv3): Conv2d(32, 16, kernel_size=(3, 3), stride=(2, 2), padding=(1, 1))\n",
      "  (q2_fc1): Linear(in_features=1536, out_features=256, bias=True)\n",
      "  (q2_fc2): Linear(in_features=256, out_features=2, bias=True)\n",
      "  (q3_conv1): Conv2d(3, 32, kernel_size=(5, 5), stride=(2, 2), padding=(2, 2))\n",
      "  (q3_conv2): Conv2d(32, 32, kernel_size=(5, 5), stride=(2, 2), padding=(2, 2))\n",
      "  (q3_conv3): Conv2d(32, 16, kernel_size=(3, 3), stride=(2, 2), padding=(1, 1))\n",
      "  (q3_fc1): Linear(in_features=1536, out_features=256, bias=True)\n",
      "  (q3_fc2): Linear(in_features=256, out_features=2, bias=True)\n",
      ")\n"
     ]
    }
   ],
   "source": [
    "import numpy as np\n",
    "import torch\n",
    "import cv2\n",
    "from dm_control import suite\n",
    "\n",
    "import lib_duju.utils as duju_utils\n",
    "\n",
    "from Model.ReplayBuffer import ReplayBuffer\n",
    "from Model.ImageBuffer import ImageBuffer\n",
    "from Model.SAC_base import target_initialize\n",
    "\n",
    "from Model.triple_dqn import Triple_DQN\n",
    "from Model.triple_dqn import train_triple_dqn\n",
    "\n",
    "exp_title = \"Conv_Discrete_TDQN_first\"\n",
    "print(exp_title)\n",
    "\n",
    "train_print_flag = False\n",
    "eval_print_flag = False\n",
    "\n",
    "env = suite.load(domain_name=\"cartpole\",task_name=\"swingup\")\n",
    "\n",
    "action_dim = 2\n",
    "\n",
    "# state related variables\n",
    "step_size = 3\n",
    "channel_size = 1\n",
    "height = 64\n",
    "width = 96\n",
    "skip_frame = 2\n",
    "\n",
    "input_channel_size = step_size * channel_size\n",
    "\n",
    "action_dict = { 0 : -1.0,\n",
    "                1 : 1.0 }\n",
    "\n",
    "reward_compensate = 1\n",
    "\n",
    "print(\"reward_compensate\", reward_compensate)\n",
    "print(\"skip_frame\", skip_frame)\n",
    "\n",
    "lr = 3e-4\n",
    "gamma = 0.99\n",
    "device = torch.device(\"cuda\")\n",
    "max_episode = 10000\n",
    "batch_size = 32\n",
    "buffer_size = 5e5\n",
    "\n",
    "replay_buffer = ReplayBuffer(buffer_size)\n",
    "image_buffer = ImageBuffer(height, width, step_size, channel_size, int(buffer_size * 1.1))\n",
    "eval_image_buffer = ImageBuffer(height, width, step_size, channel_size, 2000)\n",
    "\n",
    "q_main = Triple_DQN(step_size, channel_size, height, width, action_dim, lr, device)\n",
    "q_target = Triple_DQN(step_size, channel_size, height, width, action_dim, lr, device)\n",
    "\n",
    "target_initialize(q_main, q_target)\n",
    "\n",
    "print(q_main)"
   ]
  },
  {
   "cell_type": "code",
   "execution_count": 2,
   "metadata": {},
   "outputs": [],
   "source": [
    "duju_utils.torch_network_load(q_main,\"trained/Conv_Discrete_TDQN_first_q_main_550.torch\")"
   ]
  },
  {
   "cell_type": "code",
   "execution_count": 3,
   "metadata": {},
   "outputs": [
    {
     "name": "stdout",
     "output_type": "stream",
     "text": [
      "1\t144 *** (-10.55882740020752, -11.782700538635254, -8.288985252380371, 0.11882063746452332)\n",
      "2\t"
     ]
    },
    {
     "ename": "KeyboardInterrupt",
     "evalue": "",
     "output_type": "error",
     "traceback": [
      "\u001b[0;31m---------------------------------------------------------------------------\u001b[0m",
      "\u001b[0;31mKeyboardInterrupt\u001b[0m                         Traceback (most recent call last)",
      "\u001b[0;32m<ipython-input-3-5652d6a383c7>\u001b[0m in \u001b[0;36m<module>\u001b[0;34m\u001b[0m\n\u001b[1;32m     52\u001b[0m     \u001b[0;32mfor\u001b[0m \u001b[0m_idx\u001b[0m \u001b[0;32min\u001b[0m \u001b[0mrange\u001b[0m\u001b[0;34m(\u001b[0m\u001b[0mint\u001b[0m\u001b[0;34m(\u001b[0m\u001b[0;36m500\u001b[0m \u001b[0;34m/\u001b[0m \u001b[0mskip_frame\u001b[0m\u001b[0;34m)\u001b[0m\u001b[0;34m)\u001b[0m\u001b[0;34m:\u001b[0m\u001b[0;34m\u001b[0m\u001b[0m\n\u001b[1;32m     53\u001b[0m         \u001b[0;31m#print(_idx)\u001b[0m\u001b[0;34m\u001b[0m\u001b[0;34m\u001b[0m\u001b[0m\n\u001b[0;32m---> 54\u001b[0;31m         \u001b[0mmax_q1\u001b[0m\u001b[0;34m,\u001b[0m \u001b[0mmax_q2\u001b[0m\u001b[0;34m,\u001b[0m \u001b[0mmax_q3\u001b[0m\u001b[0;34m,\u001b[0m \u001b[0mmean_reward\u001b[0m \u001b[0;34m=\u001b[0m \u001b[0mtrain_triple_dqn\u001b[0m\u001b[0;34m(\u001b[0m\u001b[0mq_main\u001b[0m\u001b[0;34m,\u001b[0m \u001b[0mq_target\u001b[0m\u001b[0;34m,\u001b[0m \u001b[0mreplay_buffer\u001b[0m\u001b[0;34m,\u001b[0m \u001b[0mimage_buffer\u001b[0m\u001b[0;34m,\u001b[0m \u001b[0mbatch_size\u001b[0m\u001b[0;34m,\u001b[0m \u001b[0mgamma\u001b[0m\u001b[0;34m)\u001b[0m\u001b[0;34m\u001b[0m\u001b[0m\n\u001b[0m\u001b[1;32m     55\u001b[0m \u001b[0;34m\u001b[0m\u001b[0m\n\u001b[1;32m     56\u001b[0m     \u001b[0mprint\u001b[0m\u001b[0;34m(\u001b[0m\u001b[0mint\u001b[0m\u001b[0;34m(\u001b[0m\u001b[0mep_reward\u001b[0m\u001b[0;34m)\u001b[0m\u001b[0;34m,\u001b[0m \u001b[0;34m\"***\"\u001b[0m\u001b[0;34m,\u001b[0m \u001b[0;34m(\u001b[0m\u001b[0mfloat\u001b[0m\u001b[0;34m(\u001b[0m\u001b[0mmax_q1\u001b[0m\u001b[0;34m)\u001b[0m\u001b[0;34m,\u001b[0m \u001b[0mfloat\u001b[0m\u001b[0;34m(\u001b[0m\u001b[0mmax_q2\u001b[0m\u001b[0;34m)\u001b[0m\u001b[0;34m,\u001b[0m \u001b[0mfloat\u001b[0m\u001b[0;34m(\u001b[0m\u001b[0mmax_q3\u001b[0m\u001b[0;34m)\u001b[0m\u001b[0;34m,\u001b[0m \u001b[0mfloat\u001b[0m\u001b[0;34m(\u001b[0m\u001b[0mmean_reward\u001b[0m\u001b[0;34m)\u001b[0m\u001b[0;34m)\u001b[0m\u001b[0;34m)\u001b[0m\u001b[0;34m\u001b[0m\u001b[0m\n",
      "\u001b[0;32m~/animal_ai_olympics/duju_animal_ai_olympics/Model/triple_dqn.py\u001b[0m in \u001b[0;36mtrain_triple_dqn\u001b[0;34m(Q_main, Q_target, replay_buffer, image_buffer, batch_size, gamma)\u001b[0m\n\u001b[1;32m    147\u001b[0m     \u001b[0;32massert\u001b[0m \u001b[0mr_batch\u001b[0m\u001b[0;34m.\u001b[0m\u001b[0mshape\u001b[0m \u001b[0;34m==\u001b[0m \u001b[0;34m(\u001b[0m\u001b[0mbatch_size\u001b[0m\u001b[0;34m,\u001b[0m \u001b[0;36m1\u001b[0m\u001b[0;34m)\u001b[0m\u001b[0;34m\u001b[0m\u001b[0m\n\u001b[1;32m    148\u001b[0m \u001b[0;34m\u001b[0m\u001b[0m\n\u001b[0;32m--> 149\u001b[0;31m     \u001b[0mq1\u001b[0m\u001b[0;34m,\u001b[0m \u001b[0mq2\u001b[0m\u001b[0;34m,\u001b[0m \u001b[0mq3\u001b[0m \u001b[0;34m=\u001b[0m \u001b[0mQ_main\u001b[0m\u001b[0;34m.\u001b[0m\u001b[0mforward\u001b[0m\u001b[0;34m(\u001b[0m\u001b[0ms_batch\u001b[0m\u001b[0;34m)\u001b[0m\u001b[0;34m\u001b[0m\u001b[0m\n\u001b[0m\u001b[1;32m    150\u001b[0m \u001b[0;34m\u001b[0m\u001b[0m\n\u001b[1;32m    151\u001b[0m     \u001b[0;32massert\u001b[0m \u001b[0mq1\u001b[0m\u001b[0;34m.\u001b[0m\u001b[0mshape\u001b[0m \u001b[0;34m==\u001b[0m \u001b[0;34m(\u001b[0m\u001b[0mbatch_size\u001b[0m\u001b[0;34m,\u001b[0m \u001b[0maction_dim\u001b[0m\u001b[0;34m)\u001b[0m\u001b[0;34m\u001b[0m\u001b[0m\n",
      "\u001b[0;32m~/animal_ai_olympics/duju_animal_ai_olympics/Model/triple_dqn.py\u001b[0m in \u001b[0;36mforward\u001b[0;34m(self, x)\u001b[0m\n\u001b[1;32m     75\u001b[0m \u001b[0;34m\u001b[0m\u001b[0m\n\u001b[1;32m     76\u001b[0m         \u001b[0mx1\u001b[0m \u001b[0;34m=\u001b[0m \u001b[0mF\u001b[0m\u001b[0;34m.\u001b[0m\u001b[0mrelu\u001b[0m\u001b[0;34m(\u001b[0m\u001b[0mself\u001b[0m\u001b[0;34m.\u001b[0m\u001b[0mq1_fc1\u001b[0m\u001b[0;34m(\u001b[0m\u001b[0mx1\u001b[0m\u001b[0;34m)\u001b[0m\u001b[0;34m)\u001b[0m\u001b[0;34m\u001b[0m\u001b[0m\n\u001b[0;32m---> 77\u001b[0;31m         \u001b[0mx1\u001b[0m \u001b[0;34m=\u001b[0m \u001b[0mself\u001b[0m\u001b[0;34m.\u001b[0m\u001b[0mq1_fc2\u001b[0m\u001b[0;34m(\u001b[0m\u001b[0mx1\u001b[0m\u001b[0;34m)\u001b[0m\u001b[0;34m\u001b[0m\u001b[0m\n\u001b[0m\u001b[1;32m     78\u001b[0m \u001b[0;34m\u001b[0m\u001b[0m\n\u001b[1;32m     79\u001b[0m         \u001b[0mx2\u001b[0m \u001b[0;34m=\u001b[0m \u001b[0mF\u001b[0m\u001b[0;34m.\u001b[0m\u001b[0mrelu\u001b[0m\u001b[0;34m(\u001b[0m\u001b[0mself\u001b[0m\u001b[0;34m.\u001b[0m\u001b[0mq2_conv1\u001b[0m\u001b[0;34m(\u001b[0m\u001b[0mx\u001b[0m\u001b[0;34m)\u001b[0m\u001b[0;34m)\u001b[0m\u001b[0;34m\u001b[0m\u001b[0m\n",
      "\u001b[0;32m~/cd2018-2,p3.5/lib/python3.5/site-packages/torch/nn/modules/module.py\u001b[0m in \u001b[0;36m__call__\u001b[0;34m(self, *input, **kwargs)\u001b[0m\n\u001b[1;32m    545\u001b[0m             \u001b[0mresult\u001b[0m \u001b[0;34m=\u001b[0m \u001b[0mself\u001b[0m\u001b[0;34m.\u001b[0m\u001b[0m_slow_forward\u001b[0m\u001b[0;34m(\u001b[0m\u001b[0;34m*\u001b[0m\u001b[0minput\u001b[0m\u001b[0;34m,\u001b[0m \u001b[0;34m**\u001b[0m\u001b[0mkwargs\u001b[0m\u001b[0;34m)\u001b[0m\u001b[0;34m\u001b[0m\u001b[0m\n\u001b[1;32m    546\u001b[0m         \u001b[0;32melse\u001b[0m\u001b[0;34m:\u001b[0m\u001b[0;34m\u001b[0m\u001b[0m\n\u001b[0;32m--> 547\u001b[0;31m             \u001b[0mresult\u001b[0m \u001b[0;34m=\u001b[0m \u001b[0mself\u001b[0m\u001b[0;34m.\u001b[0m\u001b[0mforward\u001b[0m\u001b[0;34m(\u001b[0m\u001b[0;34m*\u001b[0m\u001b[0minput\u001b[0m\u001b[0;34m,\u001b[0m \u001b[0;34m**\u001b[0m\u001b[0mkwargs\u001b[0m\u001b[0;34m)\u001b[0m\u001b[0;34m\u001b[0m\u001b[0m\n\u001b[0m\u001b[1;32m    548\u001b[0m         \u001b[0;32mfor\u001b[0m \u001b[0mhook\u001b[0m \u001b[0;32min\u001b[0m \u001b[0mself\u001b[0m\u001b[0;34m.\u001b[0m\u001b[0m_forward_hooks\u001b[0m\u001b[0;34m.\u001b[0m\u001b[0mvalues\u001b[0m\u001b[0;34m(\u001b[0m\u001b[0;34m)\u001b[0m\u001b[0;34m:\u001b[0m\u001b[0;34m\u001b[0m\u001b[0m\n\u001b[1;32m    549\u001b[0m             \u001b[0mhook_result\u001b[0m \u001b[0;34m=\u001b[0m \u001b[0mhook\u001b[0m\u001b[0;34m(\u001b[0m\u001b[0mself\u001b[0m\u001b[0;34m,\u001b[0m \u001b[0minput\u001b[0m\u001b[0;34m,\u001b[0m \u001b[0mresult\u001b[0m\u001b[0;34m)\u001b[0m\u001b[0;34m\u001b[0m\u001b[0m\n",
      "\u001b[0;32m~/cd2018-2,p3.5/lib/python3.5/site-packages/torch/nn/modules/linear.py\u001b[0m in \u001b[0;36mforward\u001b[0;34m(self, input)\u001b[0m\n\u001b[1;32m     85\u001b[0m \u001b[0;34m\u001b[0m\u001b[0m\n\u001b[1;32m     86\u001b[0m     \u001b[0;32mdef\u001b[0m \u001b[0mforward\u001b[0m\u001b[0;34m(\u001b[0m\u001b[0mself\u001b[0m\u001b[0;34m,\u001b[0m \u001b[0minput\u001b[0m\u001b[0;34m)\u001b[0m\u001b[0;34m:\u001b[0m\u001b[0;34m\u001b[0m\u001b[0m\n\u001b[0;32m---> 87\u001b[0;31m         \u001b[0;32mreturn\u001b[0m \u001b[0mF\u001b[0m\u001b[0;34m.\u001b[0m\u001b[0mlinear\u001b[0m\u001b[0;34m(\u001b[0m\u001b[0minput\u001b[0m\u001b[0;34m,\u001b[0m \u001b[0mself\u001b[0m\u001b[0;34m.\u001b[0m\u001b[0mweight\u001b[0m\u001b[0;34m,\u001b[0m \u001b[0mself\u001b[0m\u001b[0;34m.\u001b[0m\u001b[0mbias\u001b[0m\u001b[0;34m)\u001b[0m\u001b[0;34m\u001b[0m\u001b[0m\n\u001b[0m\u001b[1;32m     88\u001b[0m \u001b[0;34m\u001b[0m\u001b[0m\n\u001b[1;32m     89\u001b[0m     \u001b[0;32mdef\u001b[0m \u001b[0mextra_repr\u001b[0m\u001b[0;34m(\u001b[0m\u001b[0mself\u001b[0m\u001b[0;34m)\u001b[0m\u001b[0;34m:\u001b[0m\u001b[0;34m\u001b[0m\u001b[0m\n",
      "\u001b[0;32m~/cd2018-2,p3.5/lib/python3.5/site-packages/torch/nn/functional.py\u001b[0m in \u001b[0;36mlinear\u001b[0;34m(input, weight, bias)\u001b[0m\n\u001b[1;32m   1367\u001b[0m     \u001b[0;32mif\u001b[0m \u001b[0minput\u001b[0m\u001b[0;34m.\u001b[0m\u001b[0mdim\u001b[0m\u001b[0;34m(\u001b[0m\u001b[0;34m)\u001b[0m \u001b[0;34m==\u001b[0m \u001b[0;36m2\u001b[0m \u001b[0;32mand\u001b[0m \u001b[0mbias\u001b[0m \u001b[0;32mis\u001b[0m \u001b[0;32mnot\u001b[0m \u001b[0;32mNone\u001b[0m\u001b[0;34m:\u001b[0m\u001b[0;34m\u001b[0m\u001b[0m\n\u001b[1;32m   1368\u001b[0m         \u001b[0;31m# fused op is marginally faster\u001b[0m\u001b[0;34m\u001b[0m\u001b[0;34m\u001b[0m\u001b[0m\n\u001b[0;32m-> 1369\u001b[0;31m         \u001b[0mret\u001b[0m \u001b[0;34m=\u001b[0m \u001b[0mtorch\u001b[0m\u001b[0;34m.\u001b[0m\u001b[0maddmm\u001b[0m\u001b[0;34m(\u001b[0m\u001b[0mbias\u001b[0m\u001b[0;34m,\u001b[0m \u001b[0minput\u001b[0m\u001b[0;34m,\u001b[0m \u001b[0mweight\u001b[0m\u001b[0;34m.\u001b[0m\u001b[0mt\u001b[0m\u001b[0;34m(\u001b[0m\u001b[0;34m)\u001b[0m\u001b[0;34m)\u001b[0m\u001b[0;34m\u001b[0m\u001b[0m\n\u001b[0m\u001b[1;32m   1370\u001b[0m     \u001b[0;32melse\u001b[0m\u001b[0;34m:\u001b[0m\u001b[0;34m\u001b[0m\u001b[0m\n\u001b[1;32m   1371\u001b[0m         \u001b[0moutput\u001b[0m \u001b[0;34m=\u001b[0m \u001b[0minput\u001b[0m\u001b[0;34m.\u001b[0m\u001b[0mmatmul\u001b[0m\u001b[0;34m(\u001b[0m\u001b[0mweight\u001b[0m\u001b[0;34m.\u001b[0m\u001b[0mt\u001b[0m\u001b[0;34m(\u001b[0m\u001b[0;34m)\u001b[0m\u001b[0;34m)\u001b[0m\u001b[0;34m\u001b[0m\u001b[0m\n",
      "\u001b[0;31mKeyboardInterrupt\u001b[0m: "
     ]
    }
   ],
   "source": [
    "for epi_i in range(1, max_episode + 1):\n",
    "    print(epi_i, end = \"\\t\")\n",
    "\n",
    "    timestep = env.reset()\n",
    "    ep_reward = 0.0\n",
    "\n",
    "    # timestep, reward, discount, observation\n",
    "    end, _, _, _ = timestep\n",
    "    end = end.last()\n",
    "\n",
    "    frame = env.physics.render(camera_id=0, height = height, width =width)\n",
    "    for _ in range(step_size):\n",
    "        image_buffer.dm_add_gray(frame)\n",
    "    s_idx = image_buffer.get_current_index()\n",
    "    s_frame = image_buffer.get_state(s_idx)\n",
    "\n",
    "    while not end:\n",
    "        a_category = q_main.epsilon_sample(\n",
    "                        torch.FloatTensor(s_frame).to(device).view(1, input_channel_size, height, width),\n",
    "                        0.05\n",
    "                )\n",
    "        a_deploy = action_dict[a_category]\n",
    "\n",
    "        for _ in range(skip_frame):\n",
    "            timestep = env.step(a_deploy)\n",
    "\n",
    "        end, r, _, _ = timestep\n",
    "        end = end.last()\n",
    "        frame = env.physics.render(camera_id=0, height=height, width=width)\n",
    "        image_buffer.dm_add_gray(frame)\n",
    "\n",
    "        s2_idx = image_buffer.get_current_index()\n",
    "        s2_frame = image_buffer.get_state(s2_idx)\n",
    "\n",
    "        replay_buffer.add(  np.array([s_idx]),\n",
    "                          np.array([a_category]),\n",
    "                          np.array([r * reward_compensate]),\n",
    "                          np.array([end]),\n",
    "                          np.array([s2_idx])    )\n",
    "\n",
    "        # frame = env.physics.render(camera_id=0, height=480, width=640)  # [height, width, channel]\n",
    "\n",
    "        if train_print_flag:\n",
    "            cv2.imshow(\"train\", cv2.resize(np.moveaxis(s2_frame,[0,1,2],[2,0,1]),(width*4,height*4)))\n",
    "            cv2.waitKey(1)\n",
    "\n",
    "        s_idx = s2_idx\n",
    "        s_frame = s2_frame\n",
    "\n",
    "        ep_reward += r * skip_frame\n",
    "\n",
    "    for _idx in range(int(500 / skip_frame)):\n",
    "        #print(_idx)\n",
    "        max_q1, max_q2, max_q3, mean_reward = train_triple_dqn(q_main, q_target, replay_buffer, image_buffer, batch_size, gamma)\n",
    "\n",
    "    print(int(ep_reward), \"***\", (float(max_q1), float(max_q2), float(max_q3), float(mean_reward)))\n",
    "\n",
    "    #### Eval ####\n",
    "\n",
    "    timestep = env.reset()\n",
    "    eval_ep_reward = 0.0\n",
    "    eval_action = []\n",
    "\n",
    "    end, _, _, _ = timestep\n",
    "    end = end.last()\n",
    "\n",
    "    frame = env.physics.render(camera_id=0, height=height, width=width)\n",
    "    for _ in range(step_size):\n",
    "        eval_image_buffer.dm_add_gray(frame)\n",
    "    s_idx = eval_image_buffer.get_current_index()\n",
    "    s_frame = eval_image_buffer.get_state(s_idx)\n",
    "\n",
    "    if (epi_i % 25) == 0 :\n",
    "        while not end:\n",
    "            a_category = q_main.epsilon_sample(\n",
    "                        torch.FloatTensor(s_frame).to(device).view(1, input_channel_size, height, width),\n",
    "                        0.0\n",
    "                                                  )\n",
    "            a_deploy = action_dict[a_category]\n",
    "            eval_action.append(a_deploy)\n",
    "\n",
    "            for _ in range(skip_frame):\n",
    "                timestep = env.step(a_deploy)\n",
    "\n",
    "            end, r, _, _ = timestep\n",
    "            end = end.last()\n",
    "            frame = env.physics.render(camera_id=0, height=height, width=width)\n",
    "            eval_image_buffer.dm_add_gray(frame)\n",
    "\n",
    "            s2_idx = eval_image_buffer.get_current_index()\n",
    "            s2_frame = eval_image_buffer.get_state(s2_idx)\n",
    "\n",
    "            s_idx = s2_idx\n",
    "            s_frame = s2_frame\n",
    "\n",
    "            eval_ep_reward += r * skip_frame\n",
    "\n",
    "            # frame = env.physics.render(camera_id=0, height=480, width=640) #[height, width, channel]\n",
    "            if eval_print_flag:\n",
    "                cv2.imshow(\"eval\", cv2.resize(np.moveaxis(s2_frame,[0,1,2],[2,0,1]),(width*8,height*8)))\n",
    "                cv2.waitKey(1)\n",
    "\n",
    "\n",
    "        print(\"Eval! *** \", eval_ep_reward)\n",
    "        #print(eval_action)\n",
    "\n",
    "    if (epi_i % 25) == 0:\n",
    "        print(\"Networks Saved!\")\n",
    "        duju_utils.torch_network_save(q_main,\"../trained/\"+exp_title+\"_q_main_\"+str(epi_i)+\".torch\")\n",
    "        duju_utils.torch_network_save(q_target, \"../trained/\"+exp_title+\"_q_target_\"+str(epi_i)+\".torch\")\n",
    "\n",
    "cv2.destroyAllWindows()"
   ]
  },
  {
   "cell_type": "code",
   "execution_count": 15,
   "metadata": {},
   "outputs": [],
   "source": [
    "f = image_buffer.get_state(image_buffer.get_current_index())"
   ]
  },
  {
   "cell_type": "code",
   "execution_count": 17,
   "metadata": {},
   "outputs": [],
   "source": [
    "import matplotlib.pyplot as plt"
   ]
  },
  {
   "cell_type": "code",
   "execution_count": 20,
   "metadata": {},
   "outputs": [
    {
     "data": {
      "text/plain": [
       "<matplotlib.image.AxesImage at 0x7f8fa8dca860>"
      ]
     },
     "execution_count": 20,
     "metadata": {},
     "output_type": "execute_result"
    },
    {
     "data": {
      "image/png": "[encoded data removed]",
      "text/plain": [
       "<Figure size 432x288 with 1 Axes>"
      ]
     },
     "metadata": {
      "needs_background": "light"
     },
     "output_type": "display_data"
    }
   ],
   "source": [
    "plt.imshow(np.moveaxis(f,[0,1,2],[2,0,1]))"
   ]
  },
  {
   "cell_type": "code",
   "execution_count": 24,
   "metadata": {},
   "outputs": [],
   "source": [
    "c1 = q_main.q1_conv1(torch.FloatTensor(f).view([-1,3,64,96]).to(device))\n",
    "cc1 = torch.relu(c1)\n",
    "\n",
    "c2 = q_main.q1_conv2(cc1)\n",
    "cc2 = torch.relu(c2)\n",
    "\n",
    "c3 = q_main.q1_conv3(cc2)\n",
    "cc3 = torch.relu(c3)\n",
    "\n",
    "i0 = cc3.view([1,-1])\n",
    "\n",
    "f1 = q_main.q1_fc1(i0)\n",
    "ff1 = torch.relu(f1)\n",
    "\n",
    "f2 = q_main.q1_fc2(ff1)"
   ]
  },
  {
   "cell_type": "code",
   "execution_count": 37,
   "metadata": {
    "scrolled": false
   },
   "outputs": [
    {
     "name": "stdout",
     "output_type": "stream",
     "text": [
      "0.11394328, 0.0, 0.0, 0.0, 0.0, 0.0, 0.0, 0.0, 0.0, 0.0, 0.0, 0.0, 0.4136138, 0.0, 0.0, 0.0, 0.0, 0.0, 0.0, 0.0, 0.0, 0.0, 0.0, 0.0, 0.39387375, 0.0, 0.0, 0.0, 0.0, 0.0, 0.0, 0.0, 0.0, 0.0, 0.0, 0.0, 0.3775158, 0.0, 0.0, 0.0, 0.0, 0.0, 0.0, 0.0, 0.0, 0.0, 0.0, 0.0, 0.3734502, 0.0, 0.0, 0.0, 0.0, 0.0, 0.0, 0.0, 0.0, 0.0, 0.0, 0.0, 0.14341074, 0.0, 0.0, 0.0, 0.0, 0.0, 0.0, 0.0, 0.0, 0.0, 6.6156707, 0.42581645, 0.55855083, 0.0, 0.0032163262, 0.024457991, 0.07059203, 0.14246593, 0.0, 0.058732137, 0.086389676, 0.0, 6.8720813, 3.9786782, 0.78339225, 0.21557204, 0.21559104, 0.0, 0.047208965, 0.0, 0.38238052, 0.084318385, 0.0783644, 0.0, 1.5610671, 0.0, 0.68041337, 0.7865776, 0.7977588, 0.7936969, 0.77598155, 0.7311852, 0.7223633, 0.74521613, 0.7776534, 0.76955956, 0.7385453, 0.5650129, 0.05334708, 0.53089994, 0.25164962, 0.31355762, 0.39318275, 0.26649234, 0.26397532, 0.32026356, 0.3375489, 0.34784272, 0.34097272, 0.034319326, 0.0, 0.6739679, 0.47807118, 0.4755587, 0.4615172, 0.50774807, 0.46241578, 0.5006625, 0.5028368, 0.55297095, 0.5028819, 0.095467746, 0.10392703, 0.6616865, 0.53371644, 0.6172545, 0.68747425, 0.65341467, 0.56597763, 0.6324344, 0.5881414, 0.7877196, 0.77568746, 0.25196385, 0.17850466, 0.836115, 0.6010669, 0.593973, 0.59287155, 0.6552525, 0.5640106, 0.7310996, 0.65986896, 1.5961722, 0.0, 0.0, 0.013971359, 0.8463051, 0.909867, 0.9614002, 0.9639869, 0.967632, 0.99720335, 1.0288963, 1.0361432, 1.305133, 0.0, 0.0, 0.26782423, 0.91833854, 1.0635337, 1.1018893, 0.875118, 0.6979654, 0.87400293, 1.0908009, 1.0708331, 1.0391829, 0.0, 0.0, 0.28657076, 0.71919835, 0.77796066, 0.41019475, 0.21124583, 0.26483095, 0.60889703, 0.79277956, 0.68240213, 0.59893006, 0.0, 0.6579021, 0.0, 0.0, 0.0, 0.0, 0.0, 0.0, 0.0, 0.0, 0.0, 0.0, 0.0, 0.058551084, 0.0, 0.0, 0.0, 0.0, 0.0, 0.0, 0.0, 0.0, 0.0, 0.0, 0.0, 0.3817994, 0.0856114, 0.0, 0.0, 0.0, 0.0, 0.0, 0.0, 0.0, 0.0, 0.0, 0.0, 0.6310878, 0.2863257, 0.0, 0.0, 0.0, 0.0, 0.0, 0.0, 0.0, 0.0, 0.0, 0.0, 0.60921615, 0.3388381, 0.5305075, 0.48056594, 0.3622921, 0.222031, 0.34214467, 0.24341908, 0.37607774, 0.2723375, 2.034419, 1.3608298, 3.244906, 0.32375738, 0.53439546, 0.57674605, 0.9453913, 0.5817238, 0.08542146, 0.5276834, 0.83956766, 0.50001043, 1.7812334, 0.0, 0.0, 0.5656119, 0.73545223, 0.9993335, 0.9261469, 0.7272828, 0.6147008, 0.59623104, 0.48506162, 0.55154264, 1.4238116, 0.0, 0.0, 0.6931543, 0.63502324, 1.004943, 1.1942613, 0.95496386, 0.8768171, 0.7340633, 0.6400358, 0.8221471, 1.232893, 0.0, 0.0, 0.0, 0.0, 0.028695308, 0.11528139, 0.09268567, 0.0629766, 0.04942199, 0.14566395, 0.1484599, 0.06837315, 0.03217218, 0.118943006, 0.28138554, 0.0, 0.0, 0.0, 0.0, 0.0, 0.0, 0.0, 0.0, 0.0, 0.0, 0.40959638, 0.25165248, 0.0, 0.0, 0.0026223809, 0.13779077, 0.0, 0.060277633, 0.0, 0.009098746, 0.0, 0.0, 0.5364924, 0.25173056, 0.04417357, 0.0, 0.0, 0.0, 0.0, 0.0, 0.0, 0.0, 0.04724317, 0.4701634, 0.3014642, 0.08851567, 0.7097695, 0.8097578, 0.78550303, 0.8232879, 0.8231442, 0.7734438, 0.8254895, 0.77468634, 0.9436831, 1.9928514, 2.869371, 0.4239487, 0.7353699, 1.0293158, 1.1439246, 0.94854105, 0.6351858, 0.8479364, 1.2635051, 1.0113775, 1.6763794, 2.8351, 3.2723396, 0.0, 0.6605059, 0.9010523, 1.1217138, 0.74544495, 0.94610584, 0.67959285, 0.67828035, 0.87847954, 1.230136, 4.9286036, 0.0, 0.5472841, 0.65887284, 0.58617836, 0.72159624, 0.57523173, 0.45032966, 0.53130335, 0.50344986, 0.62042695, 0.32188076, 0.9928827, 0.0, 0.0, 0.0, 0.0, 0.0, 0.0, 0.0, 0.0, 0.0, 0.0, 0.0, 0.0, 0.0, 0.0, 0.0, 0.0, 0.0, 0.0, 0.0, 0.0, 0.0, 0.0, 0.0, 0.0, 0.0, 0.0, 0.0, 0.0, 0.0, 0.0, 0.0, 0.0, 0.0, 0.0, 0.0, 0.0, 0.0, 0.0, 0.0, 0.0, 0.0, 0.0, 0.0, 0.0, 0.0, 0.0, 0.0, 0.0, 0.0, 0.0, 0.0, 0.0, 0.0, 0.0, 0.0, 0.0, 0.0, 0.0, 0.0, 0.0, 0.0, 0.0, 0.0, 0.0, 0.0, 0.0, 0.0, 0.0, 0.0, 0.0, 0.0, 0.0, 0.0, 0.0, 0.0, 0.0, 0.0, 0.0, 0.0, 0.0, 0.0, 0.0, 0.0, 0.0, 0.0, 0.0, 0.0, 0.0, 0.0, 0.0, 0.0, 0.0, 0.0, 0.0, 0.0, 0.0, 0.0, 0.0, 0.20155406, 0.12587285, 0.19821584, 0.18359822, 0.15109196, 0.1720596, 0.26157153, 0.22186437, 0.19607592, 0.1928052, 0.0, 0.0, 0.0, 0.0, 0.0, 0.0, 0.0, 0.0, 0.0, 0.0, 0.0, 0.0, 0.0, 0.0, 0.0, 0.0, 0.0, 0.0, 0.0, 0.0, 0.0, 0.0, 0.0, 0.0, 0.0, 0.0, 0.0, 0.0, 0.0, 0.0, 0.0, 0.0, 0.0, 0.0, 0.0, 0.0, 0.0, 0.0, 0.0, 0.0, 0.0, 0.0, 0.0, 0.0, 0.0, 0.0, 0.23445469, 0.0, 5.0772057, 0.0, 0.0, 0.0, 0.0, 0.0, 0.0, 0.0, 0.0, 0.0, 0.0, 0.0, 0.0, 0.0, 0.0, 0.0, 0.0, 0.0, 0.0, 0.0, 0.0, 0.0, 0.0, 0.0, 0.0, 0.0, 0.0, 0.17966518, 0.0, 0.4410767, 0.12832257, 0.3593852, 0.0, 0.0, 0.0, 0.0, 0.0, 0.0, 0.0, 0.0, 0.0, 0.0, 0.0, 0.0, 0.0, 0.0, 0.0, 0.0, 0.060808897, 0.31597635, 0.9128983, 0.67776453, 0.7775357, 0.67480576, 0.7356591, 0.7941359, 0.75182235, 0.7095766, 0.7397131, 0.7645805, 0.59655714, 0.09098387, 0.6107925, 0.7872604, 0.75620115, 0.70306313, 0.8422955, 0.78812945, 0.8149948, 0.74110854, 0.6313598, 0.7804699, 0.53527796, 0.0, 0.5699235, 0.67362094, 0.8326342, 0.6919638, 0.69943285, 0.73980165, 0.8345294, 0.80756116, 0.7456827, 1.4599811, 0.4793994, 0.0, 0.10502106, 0.27500317, 0.30305523, 0.41312507, 0.3822429, 0.37956163, 0.35933098, 0.36957422, 0.3695039, 0.0, 2.7959218, 0.0, 0.20149574, 0.15652016, 0.15307176, 0.32948014, 0.3010934, 0.22686088, 0.17172498, 0.276625, 0.2786396, 8.501821, 11.15454, 0.028071374, 0.0, 0.0, 0.0, 0.0, 0.0, 0.0, 0.024883822, 0.0, 0.42379573, 11.284476, 19.449368, 0.0, 0.015358359, 0.0, 0.0, 0.12965655, 0.33862713, 0.56373084, 0.2792233, 0.14451995, 0.0, 1.325451, 3.6161976, 0.0, 0.2000577, 0.2294214, 0.3159489, 0.3818395, 0.27250075, 0.29642713, 0.40909696, 0.316419, 0.32526657, 0.19784878, 0.303364, 0.0, 0.0, 0.0, 0.0, 0.0, 0.0, 0.0, 0.0, 0.0, 0.0, 0.0, 0.7973042, 0.0, 0.2916288, 0.0, 0.028724685, 0.058986053, 0.0, 0.0, 0.0, 0.16742426, 0.12978987, 0.0, 1.1278002, 0.0, 0.0, 0.0, 0.0, 0.0, 0.0, 0.0, 0.0, 0.0, 0.0948468, 0.0, 1.7000412, 0.046762154, 0.77143264, 0.5995687, 0.5009549, 0.25235343, 0.4243843, 0.27732372, 0.382119, 0.46156025, 1.451384, 0.0, 0.7751732, 0.08112011, 0.56803817, 0.41522196, 0.71251947, 0.45084614, 0.11772654, 0.5195832, 0.6226515, 0.486225, 0.8947385, 0.0, 0.0, 0.57305104, 0.5396512, 0.51519626, 0.622236, 0.18435372, 0.13024558, 0.43341798, 0.35494995, 0.3425438, 0.205303, 0.0, 0.0, 0.42629385, 0.3736238, 0.5500383, 0.68134683, 0.82240736, 0.7398551, 0.3177474, 0.29654282, 0.49504095, 0.74674267, 0.0, 1.8500797, 0.0, 0.13219857, 0.36219424, 0.46836564, 0.37284005, 0.34881094, 0.3980604, 0.47143587, 0.40647063, 0.40092018, 0.32543477, 0.44509372, 0.0, 0.058908664, 0.25927967, 0.28704655, 0.2806385, 0.25260347, 0.2640495, 0.28138837, 0.27086705, 0.21302778, 0.25298843, 0.7428462, 0.0, 0.24692243, 0.16448325, 0.33625463, 0.33483997, 0.2712522, 0.31895083, 0.2907786, 0.35939088, 0.35417417, 0.35434443, 0.77473336, 0.0, 0.15277547, 0.24580327, 0.13946193, 0.16444838, 0.17720488, 0.2046969, 0.15034065, 0.15894708, 0.6271814, 0.9447583, 1.0350345, 0.0, 0.88314515, 0.7609141, 0.8056504, 0.8054219, 0.8458749, 0.78606087, 0.8818981, 0.83536685, 1.470607, 3.5001643, 5.783245, 0.39123228, 0.7721616, 0.7183363, 0.7421566, 0.7682335, 0.65308475, 0.65508217, 0.86481565, 0.7981891, 1.9579868, 0.0, 9.919154, 0.0, 0.6744528, 0.5735917, 0.62405956, 0.72711873, 0.75076133, 0.45462444, 0.30760166, 0.49255547, 0.73853576, 0.0, 0.0, 0.0, 0.23397788, 0.33910298, 0.7119128, 0.4076034, 0.32778138, 0.07610939, 0.4308379, 0.44290397, 0.5210748, 0.0, 2.3388753, 0.16548927, 0.882051, 0.6970478, 0.51097244, 0.54446733, 0.58067465, 0.5880424, 0.48862314, 0.53197134, 0.5194031, 0.63267034, 0.08918677, 0.69618666, 1.3095566, 1.0509512, 0.929759, 0.90422857, 1.0231355, 1.0011669, 0.87411296, 0.9009985, 1.0042926, 1.0333891, 0.35485673, 0.45839334, 0.67088896, 0.7979587, 0.76485133, 0.7226394, 0.7517371, 0.729948, 0.9224901, 0.72958004, 0.705135, 0.7384903, 0.20477216, 0.23748626, 0.77813816, 0.90665996, 0.9719337, 1.0425082, 1.0776536, 1.073671, 1.1444098, 1.0842999, 1.209796, 2.0844612, 0.85939765, 0.29469943, 0.22717993, 0.73450327, 0.8500953, 1.0229679, 0.9049064, 1.0216373, 0.94254124, 0.93732715, 0.0, 3.3248098, 3.0231767, 0.24688597, 0.0052223206, 0.4580983, 0.16258214, 0.30020583, 0.5977865, 0.23847546, 0.303096, 0.3181808, 0.0, 19.197939, 12.04371, 0.05372064, 0.0, 0.06481248, 0.004828945, 0.20220713, 0.26582235, 0.31884015, 0.22680818, 0.0, 0.0, 15.119875, 13.6987, 0.28419816, 0.0, 0.0, 0.0, 0.0, 0.0, 0.45657837, 0.0, 0.0, 0.0, 1.8515663, 0.18700843, 0.2228006, 0.3835793, 0.2351666, 0.28595823, 0.322312, 0.22682415, 0.2533857, 0.21641476, 0.27867073, 0.2260844, 0.21519105, 0.39032578, 0.31645977, 0.91081125, 0.9569586, 0.9420869, 1.000186, 0.950391, 1.006434, 1.0707173, 1.1035343, 1.0379671, 0.89141184, 1.1788368, 0.385553, 0.65002704, 0.7404096, 0.56178623, 0.6844059, 0.74824995, 0.7650343, 0.776156, 0.6972045, 0.7499205, 0.7630793, 0.7971097, 0.4021737, 0.19497736, 0.23781745, 0.23720743, 0.25449046, 0.29420316, 0.26085204, 0.29738644, 0.18093607, 0.25900358, 1.0253569, 1.1967092, 0.3659231, 0.0, 0.0, 0.0, 0.0, 0.0, 0.0, 0.0, 0.0, 0.0, 0.0, 3.5465016, 0.48457187, 0.0, 0.0, 0.0, 0.0, 0.0, 0.0, 0.0, 0.0, 0.9518068, 0.49640626, 20.139044, 0.35403234, 0.0, 0.0, 0.0, 0.0, 0.0, 0.0, 0.0, 0.07793634, 1.1780096, 2.609102, 20.089611, 0.34813762, 0.20326276, 0.08929754, 0.0, 0.0, 0.0019268021, 0.30134884, 0.57615304, 0.3048953, 0.0, 0.0, 2.6532178, 0.43126515, 0.0, 0.0, 0.02258343, 0.039968275, 0.0, 0.0, 0.11072476, 0.010862781, 0.020837493, 0.0, 0.35479516, 0.11760427, 0.0, 0.0, 0.0, 0.0, 0.0, 0.0, 0.0, 0.0, 0.0, 0.0, 0.79908305, 0.2605334, 0.06582305, 0.0, 0.0, 0.021647373, 0.0, 0.0, 0.0, 0.0, 0.0, 0.0, 1.1403639, 0.4032303, 0.0, 0.0, 0.0, 0.0, 0.0, 0.0, 0.0, 0.0, 0.0, 0.0, 1.0598954, 0.30174887, 0.58478546, 0.73069775, 0.5619776, 0.56224966, 0.7248107, 0.6354278, 0.7812738, 0.7380988, 1.1569103, 0.0, 3.6342413, 0.21563558, 0.3293021, 0.57539, 0.8618677, 0.8540324, 0.40678817, 0.8095455, 0.9874003, 0.6257524, 1.1629238, 0.0, 0.0, 0.06283521, 0.4415914, 0.8317489, 0.7901651, 0.52670556, 0.5994173, 0.7741636, 0.54642415, 0.6007935, 0.32967854, 0.0, 0.0, 0.6839092, 0.4032834, 0.53752375, 0.78169596, 0.78963107, 0.67939126, 0.54157376, 0.61304766, 0.7136131, 0.67008936, 0.47673503, 1.6670613, 0.0, 0.0, 0.0, 0.0, 0.0, 0.0, 0.0, 0.0, 0.0, 0.0, 0.0, 0.0, 0.033459656, 0.0, 0.0, 0.0, 0.0, 0.0, 0.0, 0.0, 0.0, 0.0, 0.0, 0.37388077, 0.1652616, 0.0, 0.0, 0.0, 0.0, 0.0, 0.0, 0.0, 0.0, 0.0, 0.0, 0.499378, 0.27297324, 0.0, 0.0, 0.0, 0.0, 0.0, 0.0, 0.0, 0.0, 0.0, 0.0, 0.74290967, 0.26153997, 0.25415957, 0.13860418, 0.11017071, 0.0, 0.06570163, 0.0, 0.047052816, 0.041412532, 0.61295444, 0.0, 4.356241, 0.3820973, 0.22524247, 0.07338537, 0.41158152, 0.22744156, 0.0, 0.0149942925, 0.36332294, 0.21761402, 0.20250848, 0.0, 0.0, 0.58821577, 0.546312, 0.59646684, 0.780777, 0.6153247, 0.43226948, 0.18210074, 0.43969682, 0.4642869, 0.6625221, 0.0, 0.0, 0.6153598, 0.34309924, 0.38160565, 0.5793635, 0.62816894, 0.33432162, 0.3756951, 0.162433, 0.39046574, 0.32017604, 0.6262202, 2.1593318, 0.13643178, 0.29372555, 0.31991905, 0.3914466, 0.42271745, 0.3146792, 0.38498116, 0.43623745, 0.39440268, 0.3676226, 0.26798195, 0.6357046, 0.0, 0.21601447, 0.16466308, 0.3233774, 0.31851864, 0.15214154, 0.27515107, 0.27313057, 0.34596798, 0.31216675, 0.1710591, 0.96571356, 0.0, 0.41658688, 0.30408245, 0.35280898, 0.3460958, 0.33178166, 0.34440354, 0.32112718, 0.38284975, 0.36878207, 0.3019172, 0.9568368, 0.0, 0.1244936, 0.20594242, 0.18346176, 0.11089826, 0.063321054, 0.073866665, 0.21307163, 0.12871888, 0.0, 0.1989662, 1.3561828, 0.0, 0.0, 0.016213074, 0.0, 0.0, 0.0, 0.0, 0.0, 0.0, 0.10319272, 0.0, 1.757446, 0.095794454, 0.19421229, 0.12503907, 0.22868499, 0.002360627, 0.0, 0.11244716, 0.28748596, 0.04731372, 0.19729456, 0.0, 0.0, 0.1245545, 0.72779244, 0.5396842, 0.56981534, 0.31680578, 0.24919355, 0.2934652, 0.4364239, 0.5138938, 0.2867915, 0.0, 0.0, 0.3856775, 0.7850825, 1.0267404, 0.96415716, 1.3428731, 1.0408905, 0.9794669, 0.7684391, 0.9476256, 1.0401585, 0.42625934, 2.2642515, 0.0, 0.0, 0.0, 0.0, 0.0, 0.0, 0.0, 0.0, 0.0, 0.0, 0.0, 0.0, 0.0, 0.0, 0.0, 0.0, 0.0, 0.0, 0.0, 0.0, 0.0, 0.0, 0.0, 0.0, 0.0, 0.0, 0.0, 0.0, 0.0, 0.0, 0.0, 0.0, 0.0, 0.0, 0.0, 0.0, 0.0, 0.0, 0.0, 0.0, 0.0, 0.0, 0.0, 0.0, 0.0, 0.0, 0.0, 0.0, 0.0, 0.0, 0.0, 0.0, 0.0, 0.0, 0.0, 0.0, 0.0, 0.0, 0.0, 0.0, 0.0, 0.0, 0.0, 0.0, 0.0, 0.0, 0.0, 0.0, 0.0, 0.0, 0.0, 0.0, 0.0, 0.0, 0.0, 0.0, 0.0, 0.0, 0.0, 0.0, 0.0, 0.0, 0.0, 0.0, 0.0, 0.0, 0.0, 0.0, 0.0, 0.0, 0.0, 0.0, 0.0, 0.0, 0.0, 0.0, 0.0, 0.0, 0.0, 0.0, 0.0, 0.0, 0.0, 0.0, 0.0, 0.0, 0.0, 0.0, 0.24457335, 0.0, 0.0, 0.07149008, 0.0, 0.053451408, 0.07232061, 0.1074588, 0.072341904, 0.0, 0.07057431, 0.0, 0.30027366, 0.0, 0.0, 0.0, 0.0, 0.0, 0.0, 0.0, 0.0, 0.0, 0.06278704, 0.0, 0.12780811, 0.0, 0.0, 0.0, 0.0, 0.0, 0.0, 0.0, 0.0, 0.0, 0.85039955, 0.0, 0.18780786, 0.011745598, 0.0, 0.0, 0.0, 0.0, 0.0, 0.0, 0.0, 0.036855686, 1.8395598, 0.0, 0.6732009, 0.14389552, 0.020896804, 0.16290297, 0.008415163, 0.0, 0.0, 0.22540149, 0.21803325, 0.85639435, 5.695723, 8.074033, 0.37903315, 0.3089342, 0.0894185, 0.52153575, 0.11183287, 0.12002638, 0.0, 0.067998394, 0.17338581, 0.7544495, 5.466558, 7.899295, 0.0, 0.0, 0.0044382773, 0.13123767, 0.1607474, 0.0, 0.0, 0.0, 0.11683656, 0.01313391, 1.7728026, 0.8220689, "
     ]
    }
   ],
   "source": [
    "for i in i0.detach().cpu().numpy()[0]:\n",
    "    print(i, end=\", \")"
   ]
  },
  {
   "cell_type": "code",
   "execution_count": 30,
   "metadata": {},
   "outputs": [
    {
     "data": {
      "text/plain": [
       "tensor([[ -6.9884,  -6.6903,  -6.1592,  -9.2073,  -8.3062,  -5.2525,  -9.5563,\n",
       "         -35.5211,   9.2574,  -3.2335,  -2.5600,  -4.3773,  -4.4034,  -9.0450,\n",
       "         -26.0083,  -2.8001, -17.0871, -11.9424,  -4.8523, -10.6324, -20.3270,\n",
       "          -5.5952,  -8.3332,  -3.8467,   6.4158,  -9.8118, -15.4842, -15.8885,\n",
       "          -5.3106, -10.5861,  -7.7398, -11.2963,  -6.7310,  -6.0029,  -4.6876,\n",
       "         -10.5564, -26.2895,  -4.9914,  -4.8675, -19.6386, -33.3371, -30.5157,\n",
       "         -33.4973, -28.4299, -10.2745,  -3.2784, -18.7631,  -5.0383,  10.1023,\n",
       "         -18.4750,   3.3397, -11.2331, -15.8266, -13.1094,  -5.4432, -13.2679,\n",
       "         -18.9594, -21.7198,  -5.9816, -19.0302, -18.8994,  -4.7641,  -3.1982,\n",
       "         -12.8597,  -8.3545,  -6.0375,  -2.5419, -12.0210,  -3.7569,  -5.9155,\n",
       "          -7.3411, -27.2588,  -3.9971, -25.9953, -22.1309,  -5.7095,  -8.3597,\n",
       "         -14.3174, -20.3755,  -6.1703,  -5.8600,  -7.5355,  -7.4667, -10.4496,\n",
       "          -3.8395,  -4.6244,  -4.6330, -15.6728, -21.5035,  -5.6352,  -3.9150,\n",
       "          13.7163, -27.4756,  -5.2086,  -6.4546, -32.0349, -24.4329,  -4.3667,\n",
       "          -6.8288,  -7.1691,   6.8348,  13.3754,  -8.3503,  -5.6386, -13.0180,\n",
       "         -16.9497,  -7.9809,  -6.2676,  -4.8117, -12.4965, -10.0892,  -4.4840,\n",
       "          -4.2478,  -0.9147,  -4.2052, -13.6830, -13.8359, -20.7882,  -5.8752,\n",
       "          -4.8650, -15.8669, -16.5772,  15.4451, -16.3253,  -5.8477,  -4.5026,\n",
       "          -5.7682, -15.5586,  -4.4223,  -4.7865, -13.9254, -11.1915,   1.6278,\n",
       "          -9.5712,  -6.2625,  -5.9138,  -3.5227,  -4.0440,  -3.6619,  -6.8265,\n",
       "         -15.5213,   3.7178,  -9.5056,  -6.1756,  -6.5041,  -6.4678,  -5.7014,\n",
       "          -6.3653,  -4.3084, -24.0727, -18.9098, -15.6007, -12.8063, -14.5768,\n",
       "         -10.2332,  19.0247,  -6.3075, -21.3239,  -8.6104,  -5.7033,  -5.8000,\n",
       "          -5.1417,  -4.9602, -13.6063,  -6.7555, -19.4859,  -7.1060,  -4.5599,\n",
       "          -5.2868,  -7.4860,  -5.1113, -32.7454,  -5.9502,  -4.3998,  -6.4710,\n",
       "          -1.6419,  -5.4074,  -6.2986, -28.8167, -10.8239,  -8.8990,  -7.4067,\n",
       "         -11.3087,  -6.0974,  -5.6337,  -3.8510,  -4.6540, -15.6641,  -8.3711,\n",
       "          -7.4287,  -5.2844, -11.8833,  -4.3710, -21.3625, -15.3475,  -5.0304,\n",
       "         -23.3995,  -4.9419,   1.7281,   2.3050,  -5.3084,  -1.0579, -26.0109,\n",
       "          -5.1793,  -3.9393,  -8.7260,  -7.2885, -12.8957, -11.3427, -13.3119,\n",
       "          -4.7927, -11.7684, -11.9408,  -5.6238,  19.9966, -10.9061, -19.6885,\n",
       "           4.8970, -11.8120, -15.5893, -34.6720,  -6.9448, -13.3345, -12.6011,\n",
       "          -4.5253, -16.5189, -39.2551,  21.2753,  -5.6535,  -5.9646,  -7.2106,\n",
       "          -5.7007,  -6.4230,  -4.6897,  -4.9263,  -5.1139,  -4.8039,  -4.6604,\n",
       "         -12.8069, -25.4934,  -5.4962, -34.2859, -10.6128,  -7.7322,  -2.4859,\n",
       "          -7.0727,  -6.0133, -35.1862,   0.9060,  -8.1276,  -5.8657,  -5.5802,\n",
       "          -6.4910,  -4.9100,  -8.3278,  -6.0017]], device='cuda:0',\n",
       "       grad_fn=<AddmmBackward>)"
      ]
     },
     "execution_count": 30,
     "metadata": {},
     "output_type": "execute_result"
    }
   ],
   "source": [
    "f1"
   ]
  },
  {
   "cell_type": "code",
   "execution_count": 29,
   "metadata": {},
   "outputs": [
    {
     "data": {
      "text/plain": [
       "tensor([[ 0.0000,  0.0000,  0.0000,  0.0000,  0.0000,  0.0000,  0.0000,  0.0000,\n",
       "          9.2574,  0.0000,  0.0000,  0.0000,  0.0000,  0.0000,  0.0000,  0.0000,\n",
       "          0.0000,  0.0000,  0.0000,  0.0000,  0.0000,  0.0000,  0.0000,  0.0000,\n",
       "          6.4158,  0.0000,  0.0000,  0.0000,  0.0000,  0.0000,  0.0000,  0.0000,\n",
       "          0.0000,  0.0000,  0.0000,  0.0000,  0.0000,  0.0000,  0.0000,  0.0000,\n",
       "          0.0000,  0.0000,  0.0000,  0.0000,  0.0000,  0.0000,  0.0000,  0.0000,\n",
       "         10.1023,  0.0000,  3.3397,  0.0000,  0.0000,  0.0000,  0.0000,  0.0000,\n",
       "          0.0000,  0.0000,  0.0000,  0.0000,  0.0000,  0.0000,  0.0000,  0.0000,\n",
       "          0.0000,  0.0000,  0.0000,  0.0000,  0.0000,  0.0000,  0.0000,  0.0000,\n",
       "          0.0000,  0.0000,  0.0000,  0.0000,  0.0000,  0.0000,  0.0000,  0.0000,\n",
       "          0.0000,  0.0000,  0.0000,  0.0000,  0.0000,  0.0000,  0.0000,  0.0000,\n",
       "          0.0000,  0.0000,  0.0000, 13.7163,  0.0000,  0.0000,  0.0000,  0.0000,\n",
       "          0.0000,  0.0000,  0.0000,  0.0000,  6.8348, 13.3754,  0.0000,  0.0000,\n",
       "          0.0000,  0.0000,  0.0000,  0.0000,  0.0000,  0.0000,  0.0000,  0.0000,\n",
       "          0.0000,  0.0000,  0.0000,  0.0000,  0.0000,  0.0000,  0.0000,  0.0000,\n",
       "          0.0000,  0.0000, 15.4451,  0.0000,  0.0000,  0.0000,  0.0000,  0.0000,\n",
       "          0.0000,  0.0000,  0.0000,  0.0000,  1.6278,  0.0000,  0.0000,  0.0000,\n",
       "          0.0000,  0.0000,  0.0000,  0.0000,  0.0000,  3.7178,  0.0000,  0.0000,\n",
       "          0.0000,  0.0000,  0.0000,  0.0000,  0.0000,  0.0000,  0.0000,  0.0000,\n",
       "          0.0000,  0.0000,  0.0000, 19.0247,  0.0000,  0.0000,  0.0000,  0.0000,\n",
       "          0.0000,  0.0000,  0.0000,  0.0000,  0.0000,  0.0000,  0.0000,  0.0000,\n",
       "          0.0000,  0.0000,  0.0000,  0.0000,  0.0000,  0.0000,  0.0000,  0.0000,\n",
       "          0.0000,  0.0000,  0.0000,  0.0000,  0.0000,  0.0000,  0.0000,  0.0000,\n",
       "          0.0000,  0.0000,  0.0000,  0.0000,  0.0000,  0.0000,  0.0000,  0.0000,\n",
       "          0.0000,  0.0000,  0.0000,  0.0000,  0.0000,  0.0000,  1.7281,  2.3050,\n",
       "          0.0000,  0.0000,  0.0000,  0.0000,  0.0000,  0.0000,  0.0000,  0.0000,\n",
       "          0.0000,  0.0000,  0.0000,  0.0000,  0.0000,  0.0000, 19.9966,  0.0000,\n",
       "          0.0000,  4.8970,  0.0000,  0.0000,  0.0000,  0.0000,  0.0000,  0.0000,\n",
       "          0.0000,  0.0000,  0.0000, 21.2753,  0.0000,  0.0000,  0.0000,  0.0000,\n",
       "          0.0000,  0.0000,  0.0000,  0.0000,  0.0000,  0.0000,  0.0000,  0.0000,\n",
       "          0.0000,  0.0000,  0.0000,  0.0000,  0.0000,  0.0000,  0.0000,  0.0000,\n",
       "          0.9060,  0.0000,  0.0000,  0.0000,  0.0000,  0.0000,  0.0000,  0.0000]],\n",
       "       device='cuda:0', grad_fn=<ReluBackward0>)"
      ]
     },
     "execution_count": 29,
     "metadata": {},
     "output_type": "execute_result"
    }
   ],
   "source": [
    "ff1"
   ]
  },
  {
   "cell_type": "code",
   "execution_count": 28,
   "metadata": {},
   "outputs": [
    {
     "data": {
      "text/plain": [
       "tensor([[-9.0490, -9.2739]], device='cuda:0', grad_fn=<AddmmBackward>)"
      ]
     },
     "execution_count": 28,
     "metadata": {},
     "output_type": "execute_result"
    }
   ],
   "source": [
    "f2"
   ]
  }
 ],
 "metadata": {
  "kernelspec": {
   "display_name": "Python 3",
   "language": "python",
   "name": "python3"
  },
  "language_info": {
   "codemirror_mode": {
    "name": "ipython",
    "version": 3
   },
   "file_extension": ".py",
   "mimetype": "text/x-python",
   "name": "python",
   "nbconvert_exporter": "python",
   "pygments_lexer": "ipython3",
   "version": "3.5.2"
  }
 },
 "nbformat": 4,
 "nbformat_minor": 2
}
