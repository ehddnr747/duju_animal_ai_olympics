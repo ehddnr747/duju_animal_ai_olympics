{
 "cells": [
  {
   "cell_type": "code",
   "execution_count": 1,
   "metadata": {},
   "outputs": [],
   "source": [
    "import torch"
   ]
  },
  {
   "cell_type": "code",
   "execution_count": null,
   "metadata": {},
   "outputs": [],
   "source": [
    "# Q1\n",
    "self.q1_conv1 = nn.Conv2d(in_channels=self.input_channel_size, out_channels=32,\n",
    "                          kernel_size=4, stride=2, padding=0).to(device)  # [32, 41, 41]\n",
    "self.q1_conv2 = nn.Conv2d(in_channels=32, out_channels=32,\n",
    "                          kernel_size=5, stride=2, padding=2).to(device)  # [32, 21, 21]\n",
    "self.q1_conv3 = nn.Conv2d(in_channels=32, out_channels=32,\n",
    "                          kernel_size=7, stride=7, padding=0).to(device)  # [32, 3, 3]\n",
    "# self.q1_conv4 = nn.Conv2d(in_channels=64, out_channels=128,\n",
    "#                           kernel_size=3, stride=1, padding=0).to(device)  # [128, 1, 1]"
   ]
  }
 ],
 "metadata": {
  "kernelspec": {
   "display_name": "Python 3",
   "language": "python",
   "name": "python3"
  },
  "language_info": {
   "codemirror_mode": {
    "name": "ipython",
    "version": 3
   },
   "file_extension": ".py",
   "mimetype": "text/x-python",
   "name": "python",
   "nbconvert_exporter": "python",
   "pygments_lexer": "ipython3",
   "version": "3.5.2"
  }
 },
 "nbformat": 4,
 "nbformat_minor": 2
}
