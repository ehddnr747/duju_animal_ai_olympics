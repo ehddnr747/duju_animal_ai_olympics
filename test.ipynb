{
 "cells": [
  {
   "cell_type": "code",
   "execution_count": 285,
   "metadata": {},
   "outputs": [],
   "source": [
    "import numpy as np\n",
    "\n",
    "class ImageBuffer(object):\n",
    "\n",
    "    # idx starts from 1. The first image will have idx 1.\n",
    "    # When the buffer get full with batch size 100, then there will be 100 iamges and the current idx will be 100.\n",
    "\n",
    "    def __init__(self, height, width, stepsize, channel_size, buffer_size):\n",
    "        self.height = height\n",
    "        self.width = width\n",
    "        self.stepsize = stepsize\n",
    "        self.channel_size = channel_size\n",
    "        self.step_channelsize = stepsize * channel_size\n",
    "\n",
    "        self.buffer = []\n",
    "        self.buffer_size = buffer_size\n",
    "        self.count = 0\n",
    "\n",
    "        assert self.stepsize <= self.buffer_size\n",
    "\n",
    "        self.start_adjust = (self.stepsize - 1)\n",
    "        self.full_count = 0\n",
    "\n",
    "        for _ in range(stepsize):\n",
    "            self.buffer.append(np.zeros([channel_size,height,width]))\n",
    "\n",
    "\n",
    "    # [height, width, channel]\n",
    "    def dm_add(self, frame):\n",
    "        frame = np.moveaxis(frame, [0, 1, 2], [1, 2, 0])\n",
    "        if self.count < self.buffer_size:\n",
    "            self.count += 1\n",
    "            self.buffer.append(frame)\n",
    "        else:\n",
    "            self.buffer.pop(0)\n",
    "            self.buffer.append(frame)\n",
    "            self.full_count += 1\n",
    "\n",
    "    def get_state(self, idx):\n",
    "        assert idx > 0 and idx <= self.count + self.full_count\n",
    "\n",
    "        if self.count < self.buffer_size:\n",
    "            temp_idx = idx + self.start_adjust\n",
    "        else:\n",
    "            temp_idx = idx + self.start_adjust - self.full_count\n",
    "\n",
    "        assert temp_idx > self.start_adjust\n",
    "\n",
    "        return_array = np.concatenate(self.buffer[temp_idx - self.start_adjust: temp_idx + 1], axis=0)\n",
    "\n",
    "        print(return_array.shape)\n",
    "\n",
    "        assert return_array.shape == (self.step_channelsize, self.height, self.width)\n",
    "\n",
    "        return return_array\n",
    "        #[stepsize, height, width]\n",
    "\n",
    "    def get_state_and_next(self, idx):\n",
    "        assert idx > 0 and idx < self.count + self.full_count\n",
    "        return self.get_state(idx), self.get_state(idx+1)"
   ]
  },
  {
   "cell_type": "code",
   "execution_count": 286,
   "metadata": {},
   "outputs": [],
   "source": [
    "base = np.ones([48,64,3])"
   ]
  },
  {
   "cell_type": "code",
   "execution_count": 312,
   "metadata": {},
   "outputs": [],
   "source": [
    "a = ImageBuffer(48, 64, 10, 3, 10)"
   ]
  },
  {
   "cell_type": "code",
   "execution_count": 313,
   "metadata": {},
   "outputs": [],
   "source": [
    "for i in range(1,11):\n",
    "    a.dm_add(base*i)"
   ]
  },
  {
   "cell_type": "code",
   "execution_count": 319,
   "metadata": {},
   "outputs": [],
   "source": [
    "a.dm_add(base*11)"
   ]
  },
  {
   "cell_type": "code",
   "execution_count": 326,
   "metadata": {},
   "outputs": [
    {
     "ename": "AssertionError",
     "evalue": "",
     "output_type": "error",
     "traceback": [
      "\u001b[0;31m---------------------------------------------------------------------------\u001b[0m",
      "\u001b[0;31mAssertionError\u001b[0m                            Traceback (most recent call last)",
      "\u001b[0;32m<ipython-input-326-690467d66195>\u001b[0m in \u001b[0;36m<module>\u001b[0;34m\u001b[0m\n\u001b[0;32m----> 1\u001b[0;31m \u001b[0ma\u001b[0m\u001b[0;34m.\u001b[0m\u001b[0mget_state\u001b[0m\u001b[0;34m(\u001b[0m\u001b[0;36m1\u001b[0m\u001b[0;34m)\u001b[0m\u001b[0;34m[\u001b[0m\u001b[0;34m-\u001b[0m\u001b[0;36m6\u001b[0m\u001b[0;34m]\u001b[0m\u001b[0;34m\u001b[0m\u001b[0m\n\u001b[0m",
      "\u001b[0;32m<ipython-input-285-dada92684e19>\u001b[0m in \u001b[0;36mget_state\u001b[0;34m(self, idx)\u001b[0m\n\u001b[1;32m     45\u001b[0m             \u001b[0mtemp_idx\u001b[0m \u001b[0;34m=\u001b[0m \u001b[0midx\u001b[0m \u001b[0;34m+\u001b[0m \u001b[0mself\u001b[0m\u001b[0;34m.\u001b[0m\u001b[0mstart_adjust\u001b[0m \u001b[0;34m-\u001b[0m \u001b[0mself\u001b[0m\u001b[0;34m.\u001b[0m\u001b[0mfull_count\u001b[0m\u001b[0;34m\u001b[0m\u001b[0m\n\u001b[1;32m     46\u001b[0m \u001b[0;34m\u001b[0m\u001b[0m\n\u001b[0;32m---> 47\u001b[0;31m         \u001b[0;32massert\u001b[0m \u001b[0mtemp_idx\u001b[0m \u001b[0;34m>\u001b[0m \u001b[0mself\u001b[0m\u001b[0;34m.\u001b[0m\u001b[0mstart_adjust\u001b[0m\u001b[0;34m\u001b[0m\u001b[0m\n\u001b[0m\u001b[1;32m     48\u001b[0m \u001b[0;34m\u001b[0m\u001b[0m\n\u001b[1;32m     49\u001b[0m         \u001b[0mreturn_array\u001b[0m \u001b[0;34m=\u001b[0m \u001b[0mnp\u001b[0m\u001b[0;34m.\u001b[0m\u001b[0mconcatenate\u001b[0m\u001b[0;34m(\u001b[0m\u001b[0mself\u001b[0m\u001b[0;34m.\u001b[0m\u001b[0mbuffer\u001b[0m\u001b[0;34m[\u001b[0m\u001b[0mtemp_idx\u001b[0m \u001b[0;34m-\u001b[0m \u001b[0mself\u001b[0m\u001b[0;34m.\u001b[0m\u001b[0mstart_adjust\u001b[0m\u001b[0;34m:\u001b[0m \u001b[0mtemp_idx\u001b[0m \u001b[0;34m+\u001b[0m \u001b[0;36m1\u001b[0m\u001b[0;34m]\u001b[0m\u001b[0;34m,\u001b[0m \u001b[0maxis\u001b[0m\u001b[0;34m=\u001b[0m\u001b[0;36m0\u001b[0m\u001b[0;34m)\u001b[0m\u001b[0;34m\u001b[0m\u001b[0m\n",
      "\u001b[0;31mAssertionError\u001b[0m: "
     ]
    }
   ],
   "source": [
    "a.get_state(1)[-6]"
   ]
  },
  {
   "cell_type": "code",
   "execution_count": 330,
   "metadata": {},
   "outputs": [],
   "source": [
    "buffer_size = 2e5"
   ]
  },
  {
   "cell_type": "code",
   "execution_count": null,
   "metadata": {},
   "outputs": [],
   "source": []
  },
  {
   "cell_type": "code",
   "execution_count": 331,
   "metadata": {},
   "outputs": [
    {
     "data": {
      "text/plain": [
       "202000.0"
      ]
     },
     "execution_count": 331,
     "metadata": {},
     "output_type": "execute_result"
    }
   ],
   "source": [
    "buffer_size*1.01"
   ]
  },
  {
   "cell_type": "code",
   "execution_count": 240,
   "metadata": {},
   "outputs": [],
   "source": [
    "for i in range(1,8):\n",
    "    a.dm_add(i)"
   ]
  },
  {
   "cell_type": "code",
   "execution_count": 242,
   "metadata": {},
   "outputs": [
    {
     "data": {
      "text/plain": [
       "array([0, 0, 0, 1, 2, 3, 4, 5, 6, 7])"
      ]
     },
     "execution_count": 242,
     "metadata": {},
     "output_type": "execute_result"
    }
   ],
   "source": [
    "a.get_state(7)"
   ]
  },
  {
   "cell_type": "code",
   "execution_count": 209,
   "metadata": {},
   "outputs": [
    {
     "name": "stdout",
     "output_type": "stream",
     "text": [
      "[0 0 1]\n",
      "1\n",
      "0\n"
     ]
    }
   ],
   "source": [
    "a.dm_add(1)\n",
    "\n",
    "print(a.get_state(1))\n",
    "\n",
    "print (a.count)\n",
    "print (a.full_count)"
   ]
  },
  {
   "cell_type": "code",
   "execution_count": 210,
   "metadata": {},
   "outputs": [
    {
     "name": "stdout",
     "output_type": "stream",
     "text": [
      "[0 1 2]\n",
      "2\n",
      "0\n"
     ]
    }
   ],
   "source": [
    "a.dm_add(2)\n",
    "\n",
    "print(a.get_state(2))\n",
    "\n",
    "print (a.count)\n",
    "print (a.full_count)"
   ]
  },
  {
   "cell_type": "code",
   "execution_count": 211,
   "metadata": {},
   "outputs": [
    {
     "name": "stdout",
     "output_type": "stream",
     "text": [
      "[1 2 3]\n",
      "3\n",
      "0\n"
     ]
    }
   ],
   "source": [
    "a.dm_add(3)\n",
    "\n",
    "print(a.get_state(3))\n",
    "\n",
    "print (a.count)\n",
    "print (a.full_count)"
   ]
  },
  {
   "cell_type": "code",
   "execution_count": 212,
   "metadata": {},
   "outputs": [
    {
     "name": "stdout",
     "output_type": "stream",
     "text": [
      "[2 3 4]\n",
      "3\n",
      "1\n"
     ]
    }
   ],
   "source": [
    "a.dm_add(4)\n",
    "\n",
    "print(a.get_state(4))\n",
    "\n",
    "print (a.count)\n",
    "print (a.full_count)"
   ]
  },
  {
   "cell_type": "code",
   "execution_count": 213,
   "metadata": {},
   "outputs": [
    {
     "name": "stdout",
     "output_type": "stream",
     "text": [
      "[3 4 5]\n",
      "3\n",
      "2\n"
     ]
    }
   ],
   "source": [
    "a.dm_add(5)\n",
    "\n",
    "print(a.get_state(5))\n",
    "\n",
    "print (a.count)\n",
    "print (a.full_count)"
   ]
  },
  {
   "cell_type": "code",
   "execution_count": 214,
   "metadata": {},
   "outputs": [
    {
     "name": "stdout",
     "output_type": "stream",
     "text": [
      "[4 5 6]\n",
      "3\n",
      "3\n"
     ]
    }
   ],
   "source": [
    "a.dm_add(6)\n",
    "\n",
    "print(a.get_state(6))\n",
    "\n",
    "print (a.count)\n",
    "print (a.full_count)"
   ]
  },
  {
   "cell_type": "code",
   "execution_count": 218,
   "metadata": {},
   "outputs": [
    {
     "name": "stdout",
     "output_type": "stream",
     "text": [
      "[4 5 6]\n"
     ]
    }
   ],
   "source": [
    "print(a.get_state(6))"
   ]
  },
  {
   "cell_type": "code",
   "execution_count": 206,
   "metadata": {},
   "outputs": [
    {
     "data": {
      "text/plain": [
       "[1, 2, 3, 4, 5, 6]"
      ]
     },
     "execution_count": 206,
     "metadata": {},
     "output_type": "execute_result"
    }
   ],
   "source": [
    "a.buffer"
   ]
  },
  {
   "cell_type": "code",
   "execution_count": 1,
   "metadata": {},
   "outputs": [],
   "source": [
    "from dm_control import suite\n",
    "import numpy as np"
   ]
  },
  {
   "cell_type": "code",
   "execution_count": 2,
   "metadata": {},
   "outputs": [],
   "source": [
    "import matplotlib.pyplot as plt"
   ]
  },
  {
   "cell_type": "code",
   "execution_count": 3,
   "metadata": {},
   "outputs": [],
   "source": [
    "env = suite.load(domain_name=\"cartpole\",task_name=\"swingup\")"
   ]
  },
  {
   "cell_type": "code",
   "execution_count": 9,
   "metadata": {},
   "outputs": [],
   "source": [
    "frame = env.physics.render(camera_id=0, width=64, height=48)"
   ]
  },
  {
   "cell_type": "code",
   "execution_count": 10,
   "metadata": {},
   "outputs": [
    {
     "data": {
      "text/plain": [
       "(48, 64, 3)"
      ]
     },
     "execution_count": 10,
     "metadata": {},
     "output_type": "execute_result"
    }
   ],
   "source": [
    "frame.shape"
   ]
  },
  {
   "cell_type": "code",
   "execution_count": 11,
   "metadata": {},
   "outputs": [
    {
     "data": {
      "text/plain": [
       "(3, 48, 64)"
      ]
     },
     "execution_count": 11,
     "metadata": {},
     "output_type": "execute_result"
    }
   ],
   "source": [
    "np.moveaxis(frame,[0,1,2],[1,2,0]).shape"
   ]
  },
  {
   "cell_type": "code",
   "execution_count": 12,
   "metadata": {},
   "outputs": [
    {
     "data": {
      "text/plain": [
       "<matplotlib.image.AxesImage at 0x7f1b5f48b0b8>"
      ]
     },
     "execution_count": 12,
     "metadata": {},
     "output_type": "execute_result"
    },
    {
     "data": {
      "image/png": "[encoded data removed]",
      "text/plain": [
       "<Figure size 432x288 with 1 Axes>"
      ]
     },
     "metadata": {
      "needs_background": "light"
     },
     "output_type": "display_data"
    }
   ],
   "source": [
    "plt.imshow(frame)"
   ]
  },
  {
   "cell_type": "code",
   "execution_count": 56,
   "metadata": {},
   "outputs": [],
   "source": [
    "conv1 = torch.nn.Conv2d(in_channels = 3, out_channels= 256,\n",
    "                                     kernel_size= 3, stride= 2, padding= 1)\n",
    "conv2 = torch.nn.Conv2d(in_channels=256, out_channels=128,\n",
    "                                     kernel_size=3, stride=2, padding=1)\n",
    "conv3 = torch.nn.Conv2d(in_channels=128, out_channels=64,\n",
    "                                     kernel_size=3, stride=2, padding=1)\n",
    "conv4 = torch.nn.Conv2d(in_channels=64, out_channels=32,\n",
    "                                     kernel_size=3, stride=2, padding=1)"
   ]
  },
  {
   "cell_type": "code",
   "execution_count": 57,
   "metadata": {},
   "outputs": [],
   "source": [
    "frame = frame / 255 - 0.5"
   ]
  },
  {
   "cell_type": "code",
   "execution_count": 58,
   "metadata": {},
   "outputs": [],
   "source": [
    "cv1 = conv1(torch.FloatTensor(frame).view([1,3,48,64]))"
   ]
  },
  {
   "cell_type": "code",
   "execution_count": 59,
   "metadata": {},
   "outputs": [
    {
     "data": {
      "text/plain": [
       "torch.Size([1, 256, 24, 32])"
      ]
     },
     "execution_count": 59,
     "metadata": {},
     "output_type": "execute_result"
    }
   ],
   "source": [
    "cv1.shape"
   ]
  },
  {
   "cell_type": "code",
   "execution_count": 60,
   "metadata": {},
   "outputs": [
    {
     "data": {
      "text/plain": [
       "torch.Size([1, 128, 12, 16])"
      ]
     },
     "execution_count": 60,
     "metadata": {},
     "output_type": "execute_result"
    }
   ],
   "source": [
    "cv2 = conv2(cv1)\n",
    "\n",
    "cv2.shape"
   ]
  },
  {
   "cell_type": "code",
   "execution_count": 61,
   "metadata": {},
   "outputs": [
    {
     "data": {
      "text/plain": [
       "torch.Size([1, 64, 6, 8])"
      ]
     },
     "execution_count": 61,
     "metadata": {},
     "output_type": "execute_result"
    }
   ],
   "source": [
    "cv3 = conv3(cv2)\n",
    "\n",
    "cv3.shape"
   ]
  },
  {
   "cell_type": "code",
   "execution_count": 62,
   "metadata": {},
   "outputs": [
    {
     "data": {
      "text/plain": [
       "torch.Size([1, 32, 3, 4])"
      ]
     },
     "execution_count": 62,
     "metadata": {},
     "output_type": "execute_result"
    }
   ],
   "source": [
    "cv4 = conv4(cv3)\n",
    "\n",
    "cv4.shape"
   ]
  },
  {
   "cell_type": "code",
   "execution_count": 63,
   "metadata": {},
   "outputs": [
    {
     "data": {
      "text/plain": [
       "torch.Size([1, 384])"
      ]
     },
     "execution_count": 63,
     "metadata": {},
     "output_type": "execute_result"
    }
   ],
   "source": [
    "fc1 = cv4.view([1,-1])\n",
    "fc1.shape"
   ]
  },
  {
   "cell_type": "code",
   "execution_count": null,
   "metadata": {},
   "outputs": [],
   "source": []
  },
  {
   "cell_type": "code",
   "execution_count": 18,
   "metadata": {},
   "outputs": [],
   "source": [
    "import numpy as np"
   ]
  },
  {
   "cell_type": "code",
   "execution_count": 19,
   "metadata": {},
   "outputs": [],
   "source": [
    "import torch\n",
    "import torch.nn as nn\n",
    "import torch.nn.functional as F\n",
    "import torch.optim as optim\n",
    "from torch.distributions import Normal\n",
    "\n",
    "class VanillaSACPolicy(nn.Module):\n",
    "    def __init__(self, state_dim, action_dim, lr, device):\n",
    "        super(VanillaSACPolicy, self).__init__()\n",
    "\n",
    "        self.state_dim = state_dim\n",
    "        self.action_dim = action_dim\n",
    "        self.actor_lr = lr\n",
    "        self.device = device\n",
    "\n",
    "\n",
    "        self.fc1 = nn.Linear(state_dim, 256).to(device)\n",
    "        self.fc2 = nn.Linear(256, 256).to(device)\n",
    "        self.mu = nn.Linear(256, action_dim).to(device)\n",
    "        self.log_std = nn.Linear(256, action_dim).to(device)\n",
    "\n",
    "        nn.init.uniform_(tensor=self.mu.weight, a = -3e-3, b=3e-3)\n",
    "        nn.init.uniform_(tensor=self.mu.bias, a=-3e-3, b=3e-3)\n",
    "\n",
    "        nn.init.uniform_(tensor=self.log_std.weight, a=-3e-3, b=3e-3)\n",
    "        nn.init.uniform_(tensor=self.log_std.bias, a=-3e-3, b=3e-3)\n",
    "\n",
    "        self.optimizer = optim.Adam(self.parameters(),lr)\n",
    "\n",
    "\n",
    "    def forward(self, x):\n",
    "        x = F.relu(self.fc1(x))\n",
    "        x = F.relu(self.fc2(x))\n",
    "        \n",
    "        mu = F.relu(self.mu(x))\n",
    "        log_std = F.relu(self.log_std(x))\n",
    "        \n",
    "\n",
    "        # It should return mu, log_std\n",
    "\n",
    "        return mu, log_std\n",
    "\n",
    "    def sample_with_logp(self, x):\n",
    "        mu, log_std = self.forward(x)\n",
    "        std = torch.exp(log_std)\n",
    "\n",
    "        normal = Normal(mu, std)\n",
    "        x_t = normal.rsample()\n",
    "        logp = normal.log_prob(x_t)\n",
    "\n",
    "        y_t = torch.tanh(x_t)\n",
    "        logp -= torch.log(1 - torch.pow(y_t, 2) + 1e-6)\n",
    "        \n",
    "        return y_t, logp\n",
    "    \n",
    "    def sample(self, x):\n",
    "        mu, log_std = self.forward(x)\n",
    "        std = torch.exp(log_std)\n",
    "        \n",
    "        normal = Normal(mu, std)\n",
    "        \n",
    "        return normal.sample()"
   ]
  },
  {
   "cell_type": "code",
   "execution_count": 22,
   "metadata": {},
   "outputs": [],
   "source": [
    "x,y = torch.FloatTensor([[1,2],[3,4]])"
   ]
  },
  {
   "cell_type": "code",
   "execution_count": 23,
   "metadata": {},
   "outputs": [
    {
     "data": {
      "text/plain": [
       "tensor([1., 2.])"
      ]
     },
     "execution_count": 23,
     "metadata": {},
     "output_type": "execute_result"
    }
   ],
   "source": [
    "x"
   ]
  },
  {
   "cell_type": "code",
   "execution_count": 24,
   "metadata": {},
   "outputs": [
    {
     "data": {
      "text/plain": [
       "tensor([3., 4.])"
      ]
     },
     "execution_count": 24,
     "metadata": {},
     "output_type": "execute_result"
    }
   ],
   "source": [
    "y"
   ]
  },
  {
   "cell_type": "code",
   "execution_count": 2,
   "metadata": {},
   "outputs": [],
   "source": [
    "t = VanillaSACPolicy(1,1,1e-4,torch.device(\"cuda\"))"
   ]
  },
  {
   "cell_type": "code",
   "execution_count": 3,
   "metadata": {},
   "outputs": [],
   "source": [
    "mu, log_std = t.forward(torch.FloatTensor([0.0]).to(torch.device(\"cuda\")))"
   ]
  },
  {
   "cell_type": "code",
   "execution_count": 12,
   "metadata": {},
   "outputs": [],
   "source": [
    "k = t.sample_with_logp(torch.FloatTensor([0.0]).to(torch.device(\"cuda\")))"
   ]
  },
  {
   "cell_type": "code",
   "execution_count": 13,
   "metadata": {},
   "outputs": [
    {
     "data": {
      "text/plain": [
       "(tensor([0.9147], device='cuda:0', grad_fn=<TanhBackward>),\n",
       " tensor([-0.3063], device='cuda:0', grad_fn=<SubBackward0>))"
      ]
     },
     "execution_count": 13,
     "metadata": {},
     "output_type": "execute_result"
    }
   ],
   "source": [
    "k"
   ]
  },
  {
   "cell_type": "code",
   "execution_count": null,
   "metadata": {},
   "outputs": [],
   "source": [
    "kk = torch.sum(k)"
   ]
  },
  {
   "cell_type": "code",
   "execution_count": null,
   "metadata": {},
   "outputs": [],
   "source": [
    "kk.backward()"
   ]
  },
  {
   "cell_type": "code",
   "execution_count": null,
   "metadata": {
    "scrolled": false
   },
   "outputs": [],
   "source": [
    "t.fc3.weight.grad[0][:20]"
   ]
  },
  {
   "cell_type": "code",
   "execution_count": null,
   "metadata": {},
   "outputs": [],
   "source": [
    "with torch.no_grad():\n",
    "    a = t.forward(torch.FloatTensor([1.0]).to(torch.device(\"cuda\")))\n",
    "    aa = torch.mean(a)\n",
    "    aa.backward()"
   ]
  },
  {
   "cell_type": "code",
   "execution_count": null,
   "metadata": {},
   "outputs": [],
   "source": [
    "a = t.forward(torch.FloatTensor([1.0]).to(torch.device(\"cuda\")))\n",
    "aa = torch.mean(a)\n",
    "aa.backward()"
   ]
  },
  {
   "cell_type": "code",
   "execution_count": null,
   "metadata": {
    "scrolled": false
   },
   "outputs": [],
   "source": [
    "t.fc3.weight.grad[0][:20]"
   ]
  },
  {
   "cell_type": "code",
   "execution_count": null,
   "metadata": {},
   "outputs": [],
   "source": [
    "a = t.forward(torch.FloatTensor([1.0]).to(torch.device(\"cuda\")))\n",
    "aa = torch.mean(a, dim=2,keepdim=True)"
   ]
  },
  {
   "cell_type": "code",
   "execution_count": null,
   "metadata": {},
   "outputs": [],
   "source": [
    "aa.shape"
   ]
  },
  {
   "cell_type": "code",
   "execution_count": null,
   "metadata": {},
   "outputs": [],
   "source": [
    "a.shape"
   ]
  },
  {
   "cell_type": "code",
   "execution_count": null,
   "metadata": {},
   "outputs": [],
   "source": [
    "aa.grad_fn"
   ]
  },
  {
   "cell_type": "code",
   "execution_count": null,
   "metadata": {},
   "outputs": [],
   "source": [
    "k = aa.detach()"
   ]
  },
  {
   "cell_type": "code",
   "execution_count": null,
   "metadata": {},
   "outputs": [],
   "source": [
    "k.grad_fn"
   ]
  },
  {
   "cell_type": "code",
   "execution_count": 5,
   "metadata": {},
   "outputs": [
    {
     "data": {
      "text/plain": [
       "tensor([[0.1811],\n",
       "        [0.7346],\n",
       "        [0.4839],\n",
       "        [0.1855],\n",
       "        [0.6389],\n",
       "        [0.5600],\n",
       "        [0.8725],\n",
       "        [0.0774],\n",
       "        [0.1786],\n",
       "        [0.0405],\n",
       "        [0.1197],\n",
       "        [0.6140],\n",
       "        [0.3378],\n",
       "        [0.2630],\n",
       "        [0.4949],\n",
       "        [0.6667],\n",
       "        [0.1536],\n",
       "        [0.5285],\n",
       "        [0.5524],\n",
       "        [0.6668],\n",
       "        [0.5157],\n",
       "        [0.2751],\n",
       "        [0.0645],\n",
       "        [0.5010],\n",
       "        [0.5977],\n",
       "        [0.4375],\n",
       "        [0.1291],\n",
       "        [0.3220],\n",
       "        [0.1322],\n",
       "        [0.1771],\n",
       "        [0.4315],\n",
       "        [0.4381],\n",
       "        [0.0357],\n",
       "        [0.2574],\n",
       "        [0.1699],\n",
       "        [0.0811],\n",
       "        [0.1572],\n",
       "        [0.1574],\n",
       "        [0.0391],\n",
       "        [0.6168],\n",
       "        [0.4212],\n",
       "        [0.5758],\n",
       "        [0.4226],\n",
       "        [0.6369],\n",
       "        [0.3919],\n",
       "        [0.0097],\n",
       "        [0.7571],\n",
       "        [0.6575],\n",
       "        [0.0659],\n",
       "        [0.5496],\n",
       "        [0.7785],\n",
       "        [0.7828],\n",
       "        [0.3180],\n",
       "        [0.7035],\n",
       "        [0.5237],\n",
       "        [0.4617],\n",
       "        [0.4235],\n",
       "        [0.3497],\n",
       "        [0.6671],\n",
       "        [0.3716],\n",
       "        [0.6685],\n",
       "        [0.5585],\n",
       "        [0.3414],\n",
       "        [0.2161],\n",
       "        [0.0314],\n",
       "        [0.9102],\n",
       "        [0.8681],\n",
       "        [0.0378],\n",
       "        [0.2908],\n",
       "        [0.3129],\n",
       "        [0.0400],\n",
       "        [0.3555],\n",
       "        [0.3237],\n",
       "        [0.2166],\n",
       "        [0.5393],\n",
       "        [0.5922],\n",
       "        [0.4543],\n",
       "        [0.0515],\n",
       "        [0.1856],\n",
       "        [0.1360],\n",
       "        [0.0206],\n",
       "        [0.3624],\n",
       "        [0.3674],\n",
       "        [0.6105],\n",
       "        [0.3199],\n",
       "        [0.9782],\n",
       "        [0.5669],\n",
       "        [0.2683],\n",
       "        [0.1874],\n",
       "        [0.1035],\n",
       "        [0.3240],\n",
       "        [0.6064],\n",
       "        [0.3516],\n",
       "        [0.2439],\n",
       "        [0.2526],\n",
       "        [0.4045],\n",
       "        [0.2873],\n",
       "        [0.0405],\n",
       "        [0.0052],\n",
       "        [0.2308],\n",
       "        [0.1633],\n",
       "        [0.4516],\n",
       "        [0.3558],\n",
       "        [0.6107],\n",
       "        [0.2415],\n",
       "        [0.1167],\n",
       "        [0.2132],\n",
       "        [0.2543],\n",
       "        [0.2426],\n",
       "        [0.2769],\n",
       "        [0.0290],\n",
       "        [0.7457],\n",
       "        [0.9285],\n",
       "        [0.3327],\n",
       "        [0.1736],\n",
       "        [0.2748],\n",
       "        [0.0330],\n",
       "        [0.8701],\n",
       "        [0.0262],\n",
       "        [0.0041],\n",
       "        [0.1788],\n",
       "        [0.1676],\n",
       "        [0.1958],\n",
       "        [0.1239],\n",
       "        [0.4578],\n",
       "        [0.5399],\n",
       "        [0.0478],\n",
       "        [0.6192]])"
      ]
     },
     "execution_count": 5,
     "metadata": {},
     "output_type": "execute_result"
    }
   ],
   "source": [
    "torch.min(torch.rand([128,2]),dim=1,keepdim=True)[0]"
   ]
  }
 ],
 "metadata": {
  "kernelspec": {
   "display_name": "Python 3",
   "language": "python",
   "name": "python3"
  },
  "language_info": {
   "codemirror_mode": {
    "name": "ipython",
    "version": 3
   },
   "file_extension": ".py",
   "mimetype": "text/x-python",
   "name": "python",
   "nbconvert_exporter": "python",
   "pygments_lexer": "ipython3",
   "version": "3.5.2"
  }
 },
 "nbformat": 4,
 "nbformat_minor": 2
}
