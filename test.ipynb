{
 "cells": [
  {
   "cell_type": "code",
   "execution_count": 1,
   "metadata": {},
   "outputs": [],
   "source": [
    "import numpy as np\n",
    "\n",
    "class ImageBuffer(object):\n",
    "\n",
    "    # idx starts from 1. The first image will have idx 1.\n",
    "    # When the buffer get full with batch size 100, then there will be 100 iamges and the current idx will be 100.\n",
    "\n",
    "    def __init__(self, height, width, stepsize, channel_size, buffer_size):\n",
    "        self.height = height\n",
    "        self.width = width\n",
    "        self.stepsize = stepsize\n",
    "        self.channel_size = channel_size\n",
    "        self.step_channelsize = stepsize * channel_size\n",
    "\n",
    "        self.buffer = []\n",
    "        self.buffer_size = buffer_size\n",
    "        self.count = 0\n",
    "\n",
    "        assert self.stepsize <= self.buffer_size\n",
    "\n",
    "        self.start_adjust = (self.stepsize - 1)\n",
    "        self.full_count = 0\n",
    "\n",
    "        for _ in range(stepsize):\n",
    "            self.buffer.append(np.zeros([channel_size,height,width]))\n",
    "\n",
    "\n",
    "    # [height, width, channel]\n",
    "    def dm_add(self, frame):\n",
    "        frame = np.moveaxis(frame, [0, 1, 2], [1, 2, 0])\n",
    "        if self.count < self.buffer_size:\n",
    "            self.count += 1\n",
    "            self.buffer.append(frame)\n",
    "        else:\n",
    "            self.buffer.pop(0)\n",
    "            self.buffer.append(frame)\n",
    "            self.full_count += 1\n",
    "\n",
    "    def get_state(self, idx):\n",
    "        assert idx > 0 and idx <= self.count + self.full_count\n",
    "\n",
    "        if self.count < self.buffer_size:\n",
    "            temp_idx = idx + self.start_adjust\n",
    "        else:\n",
    "            temp_idx = idx + self.start_adjust - self.full_count\n",
    "\n",
    "        assert temp_idx > self.start_adjust\n",
    "\n",
    "        return_array = np.concatenate(self.buffer[temp_idx - self.start_adjust: temp_idx + 1], axis=0)\n",
    "\n",
    "        print(return_array.shape)\n",
    "\n",
    "        assert return_array.shape == (self.step_channelsize, self.height, self.width)\n",
    "\n",
    "        return return_array\n",
    "        #[stepsize, height, width]\n",
    "\n",
    "    def get_state_and_next(self, idx):\n",
    "        assert idx > 0 and idx < self.count + self.full_count\n",
    "        return self.get_state(idx), self.get_state(idx+1)"
   ]
  },
  {
   "cell_type": "code",
   "execution_count": 2,
   "metadata": {},
   "outputs": [],
   "source": [
    "base = np.ones([48,64,3])"
   ]
  },
  {
   "cell_type": "code",
   "execution_count": 3,
   "metadata": {},
   "outputs": [],
   "source": [
    "a = ImageBuffer(48, 64, 10, 3, 10)"
   ]
  },
  {
   "cell_type": "code",
   "execution_count": 4,
   "metadata": {},
   "outputs": [],
   "source": [
    "for i in range(1,11):\n",
    "    a.dm_add(base*i)"
   ]
  },
  {
   "cell_type": "code",
   "execution_count": 5,
   "metadata": {},
   "outputs": [],
   "source": [
    "a.dm_add(base*11)"
   ]
  },
  {
   "cell_type": "code",
   "execution_count": 6,
   "metadata": {},
   "outputs": [
    {
     "ename": "AssertionError",
     "evalue": "",
     "output_type": "error",
     "traceback": [
      "\u001b[0;31m---------------------------------------------------------------------------\u001b[0m",
      "\u001b[0;31mAssertionError\u001b[0m                            Traceback (most recent call last)",
      "\u001b[0;32m<ipython-input-6-690467d66195>\u001b[0m in \u001b[0;36m<module>\u001b[0;34m\u001b[0m\n\u001b[0;32m----> 1\u001b[0;31m \u001b[0ma\u001b[0m\u001b[0;34m.\u001b[0m\u001b[0mget_state\u001b[0m\u001b[0;34m(\u001b[0m\u001b[0;36m1\u001b[0m\u001b[0;34m)\u001b[0m\u001b[0;34m[\u001b[0m\u001b[0;34m-\u001b[0m\u001b[0;36m6\u001b[0m\u001b[0;34m]\u001b[0m\u001b[0;34m\u001b[0m\u001b[0m\n\u001b[0m",
      "\u001b[0;32m<ipython-input-1-dada92684e19>\u001b[0m in \u001b[0;36mget_state\u001b[0;34m(self, idx)\u001b[0m\n\u001b[1;32m     45\u001b[0m             \u001b[0mtemp_idx\u001b[0m \u001b[0;34m=\u001b[0m \u001b[0midx\u001b[0m \u001b[0;34m+\u001b[0m \u001b[0mself\u001b[0m\u001b[0;34m.\u001b[0m\u001b[0mstart_adjust\u001b[0m \u001b[0;34m-\u001b[0m \u001b[0mself\u001b[0m\u001b[0;34m.\u001b[0m\u001b[0mfull_count\u001b[0m\u001b[0;34m\u001b[0m\u001b[0m\n\u001b[1;32m     46\u001b[0m \u001b[0;34m\u001b[0m\u001b[0m\n\u001b[0;32m---> 47\u001b[0;31m         \u001b[0;32massert\u001b[0m \u001b[0mtemp_idx\u001b[0m \u001b[0;34m>\u001b[0m \u001b[0mself\u001b[0m\u001b[0;34m.\u001b[0m\u001b[0mstart_adjust\u001b[0m\u001b[0;34m\u001b[0m\u001b[0m\n\u001b[0m\u001b[1;32m     48\u001b[0m \u001b[0;34m\u001b[0m\u001b[0m\n\u001b[1;32m     49\u001b[0m         \u001b[0mreturn_array\u001b[0m \u001b[0;34m=\u001b[0m \u001b[0mnp\u001b[0m\u001b[0;34m.\u001b[0m\u001b[0mconcatenate\u001b[0m\u001b[0;34m(\u001b[0m\u001b[0mself\u001b[0m\u001b[0;34m.\u001b[0m\u001b[0mbuffer\u001b[0m\u001b[0;34m[\u001b[0m\u001b[0mtemp_idx\u001b[0m \u001b[0;34m-\u001b[0m \u001b[0mself\u001b[0m\u001b[0;34m.\u001b[0m\u001b[0mstart_adjust\u001b[0m\u001b[0;34m:\u001b[0m \u001b[0mtemp_idx\u001b[0m \u001b[0;34m+\u001b[0m \u001b[0;36m1\u001b[0m\u001b[0;34m]\u001b[0m\u001b[0;34m,\u001b[0m \u001b[0maxis\u001b[0m\u001b[0;34m=\u001b[0m\u001b[0;36m0\u001b[0m\u001b[0;34m)\u001b[0m\u001b[0;34m\u001b[0m\u001b[0m\n",
      "\u001b[0;31mAssertionError\u001b[0m: "
     ]
    }
   ],
   "source": [
    "a.get_state(1)[-6]"
   ]
  },
  {
   "cell_type": "code",
   "execution_count": null,
   "metadata": {},
   "outputs": [],
   "source": [
    "buffer_size = 2e5"
   ]
  },
  {
   "cell_type": "code",
   "execution_count": null,
   "metadata": {},
   "outputs": [],
   "source": []
  },
  {
   "cell_type": "code",
   "execution_count": null,
   "metadata": {},
   "outputs": [],
   "source": [
    "buffer_size*1.01"
   ]
  },
  {
   "cell_type": "code",
   "execution_count": null,
   "metadata": {},
   "outputs": [],
   "source": [
    "for i in range(1,8):\n",
    "    a.dm_add(i)"
   ]
  },
  {
   "cell_type": "code",
   "execution_count": null,
   "metadata": {},
   "outputs": [],
   "source": [
    "a.get_state(7)"
   ]
  },
  {
   "cell_type": "code",
   "execution_count": null,
   "metadata": {},
   "outputs": [],
   "source": [
    "a.dm_add(1)\n",
    "\n",
    "print(a.get_state(1))\n",
    "\n",
    "print (a.count)\n",
    "print (a.full_count)"
   ]
  },
  {
   "cell_type": "code",
   "execution_count": null,
   "metadata": {},
   "outputs": [],
   "source": [
    "a.dm_add(2)\n",
    "\n",
    "print(a.get_state(2))\n",
    "\n",
    "print (a.count)\n",
    "print (a.full_count)"
   ]
  },
  {
   "cell_type": "code",
   "execution_count": null,
   "metadata": {},
   "outputs": [],
   "source": [
    "a.dm_add(3)\n",
    "\n",
    "print(a.get_state(3))\n",
    "\n",
    "print (a.count)\n",
    "print (a.full_count)"
   ]
  },
  {
   "cell_type": "code",
   "execution_count": null,
   "metadata": {},
   "outputs": [],
   "source": [
    "a.dm_add(4)\n",
    "\n",
    "print(a.get_state(4))\n",
    "\n",
    "print (a.count)\n",
    "print (a.full_count)"
   ]
  },
  {
   "cell_type": "code",
   "execution_count": null,
   "metadata": {},
   "outputs": [],
   "source": [
    "a.dm_add(5)\n",
    "\n",
    "print(a.get_state(5))\n",
    "\n",
    "print (a.count)\n",
    "print (a.full_count)"
   ]
  },
  {
   "cell_type": "code",
   "execution_count": null,
   "metadata": {},
   "outputs": [],
   "source": [
    "a.dm_add(6)\n",
    "\n",
    "print(a.get_state(6))\n",
    "\n",
    "print (a.count)\n",
    "print (a.full_count)"
   ]
  },
  {
   "cell_type": "code",
   "execution_count": null,
   "metadata": {},
   "outputs": [],
   "source": [
    "print(a.get_state(6))"
   ]
  },
  {
   "cell_type": "code",
   "execution_count": null,
   "metadata": {},
   "outputs": [],
   "source": [
    "a.buffer"
   ]
  },
  {
   "cell_type": "code",
   "execution_count": null,
   "metadata": {},
   "outputs": [],
   "source": [
    "from dm_control import suite\n",
    "import numpy as np"
   ]
  },
  {
   "cell_type": "code",
   "execution_count": null,
   "metadata": {},
   "outputs": [],
   "source": [
    "import matplotlib.pyplot as plt"
   ]
  },
  {
   "cell_type": "code",
   "execution_count": null,
   "metadata": {},
   "outputs": [],
   "source": [
    "env = suite.load(domain_name=\"cartpole\",task_name=\"swingup\")"
   ]
  },
  {
   "cell_type": "code",
   "execution_count": null,
   "metadata": {},
   "outputs": [],
   "source": [
    "env.reset()"
   ]
  },
  {
   "cell_type": "code",
   "execution_count": null,
   "metadata": {},
   "outputs": [],
   "source": [
    "frame = env.physics.render(camera_id=0, width=640, height=480)\n",
    "\n",
    "frame.shape\n",
    "\n",
    "np.moveaxis(frame,[0,1,2],[1,2,0]).shape\n",
    "\n",
    "plt.imshow(frame)"
   ]
  },
  {
   "cell_type": "code",
   "execution_count": null,
   "metadata": {},
   "outputs": [],
   "source": [
    "env.step(1.0)\n",
    "\n",
    "frame = env.physics.render(camera_id=0, width=640, height=480)\n",
    "\n",
    "frame.shape\n",
    "\n",
    "np.moveaxis(frame,[0,1,2],[1,2,0]).shape\n",
    "\n",
    "plt.imshow(frame)"
   ]
  },
  {
   "cell_type": "code",
   "execution_count": null,
   "metadata": {},
   "outputs": [],
   "source": [
    "env.step(1.0)\n",
    "\n",
    "frame = env.physics.render(camera_id=0, width=640, height=480)\n",
    "\n",
    "frame.shape\n",
    "\n",
    "np.moveaxis(frame,[0,1,2],[1,2,0]).shape\n",
    "\n",
    "plt.imshow(frame)"
   ]
  },
  {
   "cell_type": "code",
   "execution_count": null,
   "metadata": {},
   "outputs": [],
   "source": [
    "for _ in range(10):\n",
    "    env.step(1.0)\n",
    "\n",
    "    frame = env.physics.render(camera_id=0, width=64, height=48)\n",
    "\n",
    "    frame.shape\n",
    "\n",
    "    np.moveaxis(frame,[0,1,2],[1,2,0]).shape\n",
    "\n",
    "plt.imshow(frame)"
   ]
  },
  {
   "cell_type": "code",
   "execution_count": null,
   "metadata": {},
   "outputs": [],
   "source": [
    "env.step(1.0)\n",
    "\n",
    "frame = env.physics.render(camera_id=0, width=640, height=480)\n",
    "\n",
    "frame.shape\n",
    "\n",
    "np.moveaxis(frame,[0,1,2],[1,2,0]).shape\n",
    "\n",
    "plt.imshow(frame)"
   ]
  },
  {
   "cell_type": "code",
   "execution_count": null,
   "metadata": {},
   "outputs": [],
   "source": [
    "env.step(1.0)\n",
    "\n",
    "frame = env.physics.render(camera_id=0, width=640, height=480)\n",
    "\n",
    "frame.shape\n",
    "\n",
    "np.moveaxis(frame,[0,1,2],[1,2,0]).shape\n",
    "\n",
    "plt.imshow(frame)"
   ]
  },
  {
   "cell_type": "code",
   "execution_count": null,
   "metadata": {},
   "outputs": [],
   "source": [
    "plt.imshow(frame)"
   ]
  },
  {
   "cell_type": "code",
   "execution_count": null,
   "metadata": {},
   "outputs": [],
   "source": [
    "conv1 = torch.nn.Conv2d(in_channels = 3, out_channels= 256,\n",
    "                                     kernel_size= 3, stride= 2, padding= 1)\n",
    "conv2 = torch.nn.Conv2d(in_channels=256, out_channels=128,\n",
    "                                     kernel_size=3, stride=2, padding=1)\n",
    "conv3 = torch.nn.Conv2d(in_channels=128, out_channels=64,\n",
    "                                     kernel_size=3, stride=2, padding=1)\n",
    "conv4 = torch.nn.Conv2d(in_channels=64, out_channels=32,\n",
    "                                     kernel_size=3, stride=2, padding=1)"
   ]
  },
  {
   "cell_type": "code",
   "execution_count": null,
   "metadata": {},
   "outputs": [],
   "source": [
    "frame = frame / 255 - 0.5"
   ]
  },
  {
   "cell_type": "code",
   "execution_count": null,
   "metadata": {},
   "outputs": [],
   "source": [
    "cv1 = conv1(torch.FloatTensor(frame).view([1,3,48,64]))"
   ]
  },
  {
   "cell_type": "code",
   "execution_count": null,
   "metadata": {},
   "outputs": [],
   "source": [
    "cv1.shape"
   ]
  },
  {
   "cell_type": "code",
   "execution_count": null,
   "metadata": {},
   "outputs": [],
   "source": [
    "cv2 = conv2(cv1)\n",
    "\n",
    "cv2.shape"
   ]
  },
  {
   "cell_type": "code",
   "execution_count": null,
   "metadata": {},
   "outputs": [],
   "source": [
    "cv3 = conv3(cv2)\n",
    "\n",
    "cv3.shape"
   ]
  },
  {
   "cell_type": "code",
   "execution_count": null,
   "metadata": {},
   "outputs": [],
   "source": [
    "cv4 = conv4(cv3)\n",
    "\n",
    "cv4.shape"
   ]
  },
  {
   "cell_type": "code",
   "execution_count": null,
   "metadata": {},
   "outputs": [],
   "source": [
    "fc1 = cv4.view([1,-1])\n",
    "fc1.shape"
   ]
  },
  {
   "cell_type": "code",
   "execution_count": null,
   "metadata": {},
   "outputs": [],
   "source": []
  },
  {
   "cell_type": "code",
   "execution_count": null,
   "metadata": {},
   "outputs": [],
   "source": [
    "import numpy as np"
   ]
  },
  {
   "cell_type": "code",
   "execution_count": null,
   "metadata": {},
   "outputs": [],
   "source": [
    "import torch\n",
    "import torch.nn as nn\n",
    "import torch.nn.functional as F\n",
    "import torch.optim as optim\n",
    "from torch.distributions import Normal\n",
    "\n",
    "class VanillaSACPolicy(nn.Module):\n",
    "    def __init__(self, state_dim, action_dim, lr, device):\n",
    "        super(VanillaSACPolicy, self).__init__()\n",
    "\n",
    "        self.state_dim = state_dim\n",
    "        self.action_dim = action_dim\n",
    "        self.actor_lr = lr\n",
    "        self.device = device\n",
    "\n",
    "\n",
    "        self.fc1 = nn.Linear(state_dim, 256).to(device)\n",
    "        self.fc2 = nn.Linear(256, 256).to(device)\n",
    "        self.mu = nn.Linear(256, action_dim).to(device)\n",
    "        self.log_std = nn.Linear(256, action_dim).to(device)\n",
    "\n",
    "        nn.init.uniform_(tensor=self.mu.weight, a = -3e-3, b=3e-3)\n",
    "        nn.init.uniform_(tensor=self.mu.bias, a=-3e-3, b=3e-3)\n",
    "\n",
    "        nn.init.uniform_(tensor=self.log_std.weight, a=-3e-3, b=3e-3)\n",
    "        nn.init.uniform_(tensor=self.log_std.bias, a=-3e-3, b=3e-3)\n",
    "\n",
    "        self.optimizer = optim.Adam(self.parameters(),lr)\n",
    "\n",
    "\n",
    "    def forward(self, x):\n",
    "        x = F.relu(self.fc1(x))\n",
    "        x = F.relu(self.fc2(x))\n",
    "        \n",
    "        mu = F.relu(self.mu(x))\n",
    "        log_std = F.relu(self.log_std(x))\n",
    "        \n",
    "\n",
    "        # It should return mu, log_std\n",
    "\n",
    "        return mu, log_std\n",
    "\n",
    "    def sample_with_logp(self, x):\n",
    "        mu, log_std = self.forward(x)\n",
    "        std = torch.exp(log_std)\n",
    "\n",
    "        normal = Normal(mu, std)\n",
    "        x_t = normal.rsample()\n",
    "        logp = normal.log_prob(x_t)\n",
    "\n",
    "        y_t = torch.tanh(x_t)\n",
    "        logp -= torch.log(1 - torch.pow(y_t, 2) + 1e-6)\n",
    "        \n",
    "        return y_t, logp\n",
    "    \n",
    "    def sample(self, x):\n",
    "        mu, log_std = self.forward(x)\n",
    "        std = torch.exp(log_std)\n",
    "        \n",
    "        normal = Normal(mu, std)\n",
    "        \n",
    "        return normal.sample()"
   ]
  },
  {
   "cell_type": "code",
   "execution_count": null,
   "metadata": {},
   "outputs": [],
   "source": [
    "x,y = torch.FloatTensor([[1,2],[3,4]])"
   ]
  },
  {
   "cell_type": "code",
   "execution_count": null,
   "metadata": {},
   "outputs": [],
   "source": [
    "x"
   ]
  },
  {
   "cell_type": "code",
   "execution_count": null,
   "metadata": {},
   "outputs": [],
   "source": [
    "y"
   ]
  },
  {
   "cell_type": "code",
   "execution_count": null,
   "metadata": {},
   "outputs": [],
   "source": [
    "t = VanillaSACPolicy(1,1,1e-4,torch.device(\"cuda\"))"
   ]
  },
  {
   "cell_type": "code",
   "execution_count": null,
   "metadata": {},
   "outputs": [],
   "source": [
    "mu, log_std = t.forward(torch.FloatTensor([0.0]).to(torch.device(\"cuda\")))"
   ]
  },
  {
   "cell_type": "code",
   "execution_count": null,
   "metadata": {},
   "outputs": [],
   "source": [
    "k = t.sample_with_logp(torch.FloatTensor([0.0]).to(torch.device(\"cuda\")))"
   ]
  },
  {
   "cell_type": "code",
   "execution_count": null,
   "metadata": {},
   "outputs": [],
   "source": [
    "k"
   ]
  },
  {
   "cell_type": "code",
   "execution_count": null,
   "metadata": {},
   "outputs": [],
   "source": [
    "kk = torch.sum(k)"
   ]
  },
  {
   "cell_type": "code",
   "execution_count": null,
   "metadata": {},
   "outputs": [],
   "source": [
    "kk.backward()"
   ]
  },
  {
   "cell_type": "code",
   "execution_count": null,
   "metadata": {
    "scrolled": false
   },
   "outputs": [],
   "source": [
    "t.fc3.weight.grad[0][:20]"
   ]
  },
  {
   "cell_type": "code",
   "execution_count": null,
   "metadata": {},
   "outputs": [],
   "source": [
    "with torch.no_grad():\n",
    "    a = t.forward(torch.FloatTensor([1.0]).to(torch.device(\"cuda\")))\n",
    "    aa = torch.mean(a)\n",
    "    aa.backward()"
   ]
  },
  {
   "cell_type": "code",
   "execution_count": null,
   "metadata": {},
   "outputs": [],
   "source": [
    "a = t.forward(torch.FloatTensor([1.0]).to(torch.device(\"cuda\")))\n",
    "aa = torch.mean(a)\n",
    "aa.backward()"
   ]
  },
  {
   "cell_type": "code",
   "execution_count": null,
   "metadata": {
    "scrolled": false
   },
   "outputs": [],
   "source": [
    "t.fc3.weight.grad[0][:20]"
   ]
  },
  {
   "cell_type": "code",
   "execution_count": null,
   "metadata": {},
   "outputs": [],
   "source": [
    "a = t.forward(torch.FloatTensor([1.0]).to(torch.device(\"cuda\")))\n",
    "aa = torch.mean(a, dim=2,keepdim=True)"
   ]
  },
  {
   "cell_type": "code",
   "execution_count": null,
   "metadata": {},
   "outputs": [],
   "source": [
    "aa.shape"
   ]
  },
  {
   "cell_type": "code",
   "execution_count": null,
   "metadata": {},
   "outputs": [],
   "source": [
    "a.shape"
   ]
  },
  {
   "cell_type": "code",
   "execution_count": null,
   "metadata": {},
   "outputs": [],
   "source": [
    "aa.grad_fn"
   ]
  },
  {
   "cell_type": "code",
   "execution_count": null,
   "metadata": {},
   "outputs": [],
   "source": [
    "k = aa.detach()"
   ]
  },
  {
   "cell_type": "code",
   "execution_count": null,
   "metadata": {},
   "outputs": [],
   "source": [
    "k.grad_fn"
   ]
  },
  {
   "cell_type": "code",
   "execution_count": null,
   "metadata": {},
   "outputs": [],
   "source": [
    "torch.min(torch.rand([128,2]),dim=1,keepdim=True)[0]"
   ]
  },
  {
   "cell_type": "code",
   "execution_count": null,
   "metadata": {},
   "outputs": [],
   "source": []
  },
  {
   "cell_type": "code",
   "execution_count": null,
   "metadata": {},
   "outputs": [],
   "source": []
  },
  {
   "cell_type": "code",
   "execution_count": null,
   "metadata": {},
   "outputs": [],
   "source": []
  },
  {
   "cell_type": "code",
   "execution_count": null,
   "metadata": {},
   "outputs": [],
   "source": [
    "import torch\n",
    "import torch.nn as nn\n",
    "import torch.nn.functional as F\n",
    "import torch.optim as optim\n",
    "\n",
    "class VanillaSACQNet(nn.Module):\n",
    "    def __init__(self, state_dim, action_dim, lr, device):\n",
    "        super(VanillaSACQNet, self).__init__()\n",
    "\n",
    "        self.state_dim = state_dim\n",
    "        self.action_dim = action_dim\n",
    "        self.actor_lr = lr\n",
    "        self.device = device\n",
    "\n",
    "        # Q1 architecture\n",
    "        self.fc1 = nn.Linear(state_dim + action_dim, 256).to(device)\n",
    "        self.fc2 = nn.Linear(256,256).to(device)\n",
    "        self.fc3 = nn.Linear(256,1).to(device)\n",
    "\n",
    "        nn.init.uniform_(tensor=self.fc3.weight, a = -3e-3, b=3e-3)\n",
    "        nn.init.uniform_(tensor=self.fc3.bias, a=-3e-3, b=3e-3)\n",
    "\n",
    "        # Q2 architecture\n",
    "        self.fc4 = nn.Linear(state_dim + action_dim, 256).to(device)\n",
    "        self.fc5 = nn.Linear(256, 256).to(device)\n",
    "        self.fc6 = nn.Linear(256, 1).to(device)\n",
    "\n",
    "        nn.init.uniform_(tensor=self.fc6.weight, a=-3e-3, b=3e-3)\n",
    "        nn.init.uniform_(tensor=self.fc6.bias, a=-3e-3, b=3e-3)\n",
    "\n",
    "        self.optimizer = optim.Adam(self.parameters(),lr)\n",
    "\n",
    "\n",
    "    def forward(self, s, a):\n",
    "        x = torch.cat([s,a],dim=1) # [batch, s+a]\n",
    "\n",
    "        x1 = F.relu(self.fc1(x))\n",
    "        x1 = F.relu(self.fc2(x1))\n",
    "        x1 = self.fc3(x1)\n",
    "\n",
    "        x2 = F.relu(self.fc4(x))\n",
    "        x2 = F.relu(self.fc5(x2))\n",
    "        x2 = self.fc6(x2)\n",
    "\n",
    "        return x1, x2\n",
    "\n",
    "class ConvSACQNet(nn.Module):\n",
    "    def __init__(self, step_channelsize, height, width, action_dim, lr, device):\n",
    "        super(ConvSACQNet, self).__init__()\n",
    "\n",
    "        self.step_channelsize = step_channelsize\n",
    "        self.height = height\n",
    "        self.width = width\n",
    "        self.out_channels = 16\n",
    "\n",
    "        self.conv_flatten_size = int(height * width * self.out_channels / (16 ** 2))\n",
    "\n",
    "        self.action_dim = action_dim\n",
    "        self.actor_lr = lr\n",
    "        self.device = device\n",
    "\n",
    "        # Q1 architecture\n",
    "        self.conv1 = torch.nn.Conv2d(in_channels=self.step_channelsize, out_channels=64,\n",
    "                                kernel_size=7, stride=4, padding=3).to(device)\n",
    "        self.conv2 = torch.nn.Conv2d(in_channels=64, out_channels=self.out_channels,\n",
    "                                kernel_size=7, stride=4, padding=3).to(device)\n",
    "\n",
    "        self.fc1 = nn.Linear(self.conv_flatten_size + self.action_dim, 128).to(device)\n",
    "        self.fc2 = nn.Linear(128, 1).to(device)\n",
    "\n",
    "        nn.init.uniform_(tensor=self.fc2.weight, a = -3e-3, b=3e-3)\n",
    "        nn.init.uniform_(tensor=self.fc2.bias, a=-3e-3, b=3e-3)\n",
    "\n",
    "        # Q2 architecture\n",
    "        self.conv3 = torch.nn.Conv2d(in_channels=self.step_channelsize, out_channels=64,\n",
    "                                     kernel_size=7, stride=4, padding=3).to(device)\n",
    "        self.conv4 = torch.nn.Conv2d(in_channels=64, out_channels=self.out_channels,\n",
    "                                     kernel_size=7, stride=4, padding=3).to(device)\n",
    "\n",
    "        self.fc3 = nn.Linear(self.conv_flatten_size + self.action_dim, 128).to(device)\n",
    "        self.fc4 = nn.Linear(128, 1).to(device)\n",
    "\n",
    "        nn.init.uniform_(tensor=self.fc4.weight, a=-3e-3, b=3e-3)\n",
    "        nn.init.uniform_(tensor=self.fc4.bias, a=-3e-3, b=3e-3)\n",
    "\n",
    "        self.optimizer = optim.Adam(self.parameters(),lr)\n",
    "\n",
    "    def forward(self, s, a):\n",
    "\n",
    "        x1 = F.relu(self.conv1(s))\n",
    "        x1 = F.relu(self.conv2(x1))\n",
    "\n",
    "        x1 = x1.view(-1, self.conv_flatten_size)\n",
    "        x1 = torch.cat([x1, a], dim=1)  # [batch, s+a]\n",
    "\n",
    "        x1 = F.relu(self.fc1(x1))\n",
    "        x1 = self.fc2(x1)\n",
    "\n",
    "        x2 = F.relu(self.conv3(s))\n",
    "        x2 = F.relu(self.conv4(x2))\n",
    "\n",
    "        x2 = x2.view(-1, self.conv_flatten_size)\n",
    "        x2 = torch.cat([x2, a], dim=1)  # [batch, s+a]\n",
    "\n",
    "        x2 = F.relu(self.fc3(x2))\n",
    "        x2 = self.fc4(x2)\n",
    "\n",
    "        return x1, x2"
   ]
  },
  {
   "cell_type": "code",
   "execution_count": null,
   "metadata": {},
   "outputs": [],
   "source": [
    "QNet = ConvSACQNet(15, 48, 64,1, 1e-3,torch.device(\"cuda\"))"
   ]
  },
  {
   "cell_type": "code",
   "execution_count": null,
   "metadata": {},
   "outputs": [],
   "source": [
    "QNet.state_dict().keys()"
   ]
  },
  {
   "cell_type": "code",
   "execution_count": null,
   "metadata": {},
   "outputs": [],
   "source": [
    "QNet.optimizer.state_dict()"
   ]
  },
  {
   "cell_type": "code",
   "execution_count": null,
   "metadata": {},
   "outputs": [],
   "source": [
    "def torch_network_save(net, path):\n",
    "    optimizer = net.optimizer.state_dict()\n",
    "    parameters = net.state_dict()\n",
    "\n",
    "    torch.save(\n",
    "        {\n",
    "            'model_state_dict' : parameters,\n",
    "            'optimizer_state_dict' : optimizer\n",
    "        }, path)\n",
    "\n",
    "def torch_network_load(net, path, device=torch.device(\"cuda\")):\n",
    "    load_dict = torch.load(path,device)\n",
    "    parameters = load_dict[\"model_state_dict\"]\n",
    "    optimizer = load_dict[\"optimizer_state_dict\"]\n",
    "\n",
    "    net.load_state_dict(parameters)\n",
    "    net.optimizer.load_state_dict(optimizer)"
   ]
  },
  {
   "cell_type": "code",
   "execution_count": null,
   "metadata": {},
   "outputs": [],
   "source": [
    "torch_network_save(QNet,\"./test.torch\")"
   ]
  },
  {
   "cell_type": "code",
   "execution_count": 7,
   "metadata": {},
   "outputs": [
    {
     "ename": "NameError",
     "evalue": "name 'QNet' is not defined",
     "output_type": "error",
     "traceback": [
      "\u001b[0;31m---------------------------------------------------------------------------\u001b[0m",
      "\u001b[0;31mNameError\u001b[0m                                 Traceback (most recent call last)",
      "\u001b[0;32m<ipython-input-7-31337e57676d>\u001b[0m in \u001b[0;36m<module>\u001b[0;34m\u001b[0m\n\u001b[0;32m----> 1\u001b[0;31m \u001b[0mQNet\u001b[0m\u001b[0;34m.\u001b[0m\u001b[0mfc2\u001b[0m\u001b[0;34m.\u001b[0m\u001b[0mweight\u001b[0m\u001b[0;34m[\u001b[0m\u001b[0;36m0\u001b[0m\u001b[0;34m]\u001b[0m\u001b[0;34m[\u001b[0m\u001b[0;34m:\u001b[0m\u001b[0;36m10\u001b[0m\u001b[0;34m]\u001b[0m\u001b[0;34m\u001b[0m\u001b[0m\n\u001b[0m",
      "\u001b[0;31mNameError\u001b[0m: name 'QNet' is not defined"
     ]
    }
   ],
   "source": [
    "QNet.fc2.weight[0][:10]"
   ]
  },
  {
   "cell_type": "code",
   "execution_count": null,
   "metadata": {},
   "outputs": [],
   "source": [
    "QNet2 = ConvSACQNet(15, 48, 64,1, 1e-3,torch.device(\"cuda\"))"
   ]
  },
  {
   "cell_type": "code",
   "execution_count": null,
   "metadata": {
    "scrolled": true
   },
   "outputs": [],
   "source": [
    "QNet2.fc2.weight[0][:10]"
   ]
  },
  {
   "cell_type": "code",
   "execution_count": null,
   "metadata": {},
   "outputs": [],
   "source": [
    "torch_network_load(QNet2,\"./test.torch\")"
   ]
  },
  {
   "cell_type": "code",
   "execution_count": null,
   "metadata": {
    "scrolled": true
   },
   "outputs": [],
   "source": [
    "QNet2.fc2.weight[0][:10]"
   ]
  },
  {
   "cell_type": "code",
   "execution_count": null,
   "metadata": {},
   "outputs": [],
   "source": [
    "import torch\n",
    "import torch.nn as nn\n",
    "import torch.nn.functional as F\n",
    "import torch.optim as optim\n",
    "from torch.distributions import Normal\n",
    "\n",
    "class VanillaSACPolicy(nn.Module):\n",
    "    def __init__(self, state_dim, action_dim, lr, device):\n",
    "        super(VanillaSACPolicy, self).__init__()\n",
    "\n",
    "        self.state_dim = state_dim\n",
    "        self.action_dim = action_dim\n",
    "        self.actor_lr = lr\n",
    "        self.device = device\n",
    "\n",
    "\n",
    "        self.fc1 = nn.Linear(state_dim, 256).to(device)\n",
    "        self.fc2 = nn.Linear(256, 256).to(device)\n",
    "        self.mu = nn.Linear(256, action_dim).to(device)\n",
    "        self.log_std = nn.Linear(256, action_dim).to(device)\n",
    "\n",
    "        nn.init.uniform_(tensor=self.mu.weight, a = -3e-3, b=3e-3)\n",
    "        nn.init.uniform_(tensor=self.mu.bias, a=-3e-3, b=3e-3)\n",
    "\n",
    "        nn.init.uniform_(tensor=self.log_std.weight, a=-3e-3, b=3e-3)\n",
    "        nn.init.uniform_(tensor=self.log_std.bias, a=-3e-3, b=3e-3)\n",
    "\n",
    "        self.optimizer = optim.Adam(self.parameters(),lr)\n",
    "\n",
    "\n",
    "    def forward(self, x):\n",
    "        x = F.relu(self.fc1(x))\n",
    "        x = F.relu(self.fc2(x))\n",
    "\n",
    "        mu = self.mu(x)\n",
    "        log_std = self.log_std(x)\n",
    "\n",
    "        # It should return mu, log_std\n",
    "\n",
    "        return mu, log_std\n",
    "\n",
    "    def sample_with_logp(self, x):\n",
    "        mu, log_std = self.forward(x)\n",
    "        std = torch.exp(log_std)\n",
    "\n",
    "        normal = Normal(mu, std)\n",
    "        x_t = normal.rsample()\n",
    "        logp = normal.log_prob(x_t)\n",
    "\n",
    "        y_t = torch.tanh(x_t)\n",
    "        logp -= torch.log(1 - torch.pow(y_t, 2) + 1e-6)\n",
    "\n",
    "        return y_t, logp\n",
    "\n",
    "    def sample(self, x):\n",
    "\n",
    "        with torch.no_grad():\n",
    "            mu, log_std = self.forward(x)\n",
    "            std = torch.exp(log_std)\n",
    "\n",
    "            normal = Normal(mu, std)\n",
    "\n",
    "            return torch.tanh(normal.sample())\n",
    "\n",
    "    def mean_action(self, x):\n",
    "        with torch.no_grad():\n",
    "            mu, _log_std = self.forward(x)\n",
    "            return torch.tanh(mu)\n",
    "\n",
    "\n",
    "\n",
    "\n",
    "\n",
    "\n",
    "class ConvSACPolicy(nn.Module):\n",
    "    def __init__(self, step_channelsize, height, width, action_dim, lr, device):\n",
    "        super(ConvSACPolicy, self).__init__()\n",
    "\n",
    "        self.step_channelsize = step_channelsize\n",
    "        self.height = height\n",
    "        self.width = width\n",
    "        self.out_channels = 16\n",
    "\n",
    "        self.conv_flatten_size = int(height * width * self.out_channels / (16 ** 2))\n",
    "\n",
    "        self.action_dim = action_dim\n",
    "        self.actor_lr = lr\n",
    "        self.device = device\n",
    "\n",
    "        self.conv1 = torch.nn.Conv2d(in_channels=self.step_channelsize, out_channels=64,\n",
    "                                kernel_size=7, stride=4, padding=3).to(device)\n",
    "        self.conv2 = torch.nn.Conv2d(in_channels=64, out_channels=self.out_channels,\n",
    "                                kernel_size=7, stride=4, padding=3).to(device)\n",
    "\n",
    "        self.mu = nn.Linear(self.conv_flatten_size, action_dim).to(device)\n",
    "        self.log_std = nn.Linear(self.conv_flatten_size, action_dim).to(device)\n",
    "\n",
    "        nn.init.uniform_(tensor=self.mu.weight, a = -3e-3, b=3e-3)\n",
    "        nn.init.uniform_(tensor=self.mu.bias, a=-3e-3, b=3e-3)\n",
    "\n",
    "        nn.init.uniform_(tensor=self.log_std.weight, a=-3e-3, b=3e-3)\n",
    "        nn.init.uniform_(tensor=self.log_std.bias, a=-3e-3, b=3e-3)\n",
    "\n",
    "        self.optimizer = optim.Adam(self.parameters(),lr)\n",
    "\n",
    "\n",
    "    def forward(self, x):\n",
    "        x = F.relu(self.conv1(x))\n",
    "        x = F.relu(self.conv2(x))\n",
    "\n",
    "        x = x.view(-1,self.conv_flatten_size)\n",
    "        print(x)\n",
    "\n",
    "        mu = self.mu(x)\n",
    "        log_std = self.log_std(x)\n",
    "\n",
    "        # It should return mu, log_std\n",
    "\n",
    "        return mu, log_std\n",
    "\n",
    "    def sample_with_logp(self, x):\n",
    "        mu, log_std = self.forward(x)\n",
    "        std = torch.exp(log_std)\n",
    "\n",
    "        normal = Normal(mu, std)\n",
    "        x_t = normal.rsample()\n",
    "        logp = normal.log_prob(x_t)\n",
    "\n",
    "        y_t = torch.tanh(x_t)\n",
    "        logp -= torch.log(1 - torch.pow(y_t, 2) + 1e-6)\n",
    "\n",
    "        return y_t, logp\n",
    "\n",
    "    def sample(self, x):\n",
    "\n",
    "        with torch.no_grad():\n",
    "            mu, log_std = self.forward(x)\n",
    "            std = torch.exp(log_std)\n",
    "\n",
    "            normal = Normal(mu, std)\n",
    "\n",
    "            return torch.tanh(normal.sample())\n",
    "\n",
    "    def mean_action(self, x):\n",
    "        with torch.no_grad():\n",
    "            mu, _log_std = self.forward(x)\n",
    "            return torch.tanh(mu)\n",
    "\n",
    "\n"
   ]
  },
  {
   "cell_type": "code",
   "execution_count": null,
   "metadata": {},
   "outputs": [],
   "source": [
    "F.celu"
   ]
  },
  {
   "cell_type": "code",
   "execution_count": null,
   "metadata": {},
   "outputs": [],
   "source": [
    "stepsize = 10\n",
    "channelsize = 3\n",
    "\n",
    "step_channelsize = stepsize * channelsize\n",
    "\n",
    "height = 48\n",
    "width = 64\n",
    "\n",
    "action_dim = env.action_spec().shape[-1]\n",
    "\n",
    "lr = 1e-3\n",
    "device = torch.device(\"cuda\")"
   ]
  },
  {
   "cell_type": "code",
   "execution_count": null,
   "metadata": {},
   "outputs": [],
   "source": [
    "policy = ConvSACPolicy(step_channelsize, height, width, action_dim, lr, device)"
   ]
  },
  {
   "cell_type": "code",
   "execution_count": null,
   "metadata": {},
   "outputs": [],
   "source": [
    "torch_network_load(policy,\"trained/ConvSACPI-DEBUG_1.torch\")"
   ]
  },
  {
   "cell_type": "code",
   "execution_count": null,
   "metadata": {},
   "outputs": [],
   "source": [
    "env.reset()"
   ]
  },
  {
   "cell_type": "code",
   "execution_count": null,
   "metadata": {},
   "outputs": [],
   "source": [
    "frame = env.physics.render(camera_id=0, width=64, height=48)\n",
    "frame = np.moveaxis(frame,[0,1,2],[1,2,0])"
   ]
  },
  {
   "cell_type": "code",
   "execution_count": null,
   "metadata": {},
   "outputs": [],
   "source": [
    "tt = np.concatenate([np.zeros([27,48,64]),frame],axis=0)"
   ]
  },
  {
   "cell_type": "code",
   "execution_count": null,
   "metadata": {},
   "outputs": [],
   "source": [
    "tt.shape"
   ]
  },
  {
   "cell_type": "code",
   "execution_count": null,
   "metadata": {},
   "outputs": [],
   "source": [
    "plt.imshow(np.moveaxis(frame,[1,2,0],[0,1,2]))"
   ]
  },
  {
   "cell_type": "code",
   "execution_count": null,
   "metadata": {},
   "outputs": [],
   "source": [
    "ttt= np.random.randn(30,48,64)"
   ]
  },
  {
   "cell_type": "code",
   "execution_count": null,
   "metadata": {},
   "outputs": [],
   "source": [
    "ttt.shape"
   ]
  },
  {
   "cell_type": "code",
   "execution_count": null,
   "metadata": {},
   "outputs": [],
   "source": [
    "policy.forward(torch.FloatTensor(ttt).to(device).view(-1,step_channelsize,height,width))"
   ]
  },
  {
   "cell_type": "code",
   "execution_count": 8,
   "metadata": {},
   "outputs": [
    {
     "data": {
      "text/plain": [
       "192.0"
      ]
     },
     "execution_count": 8,
     "metadata": {},
     "output_type": "execute_result"
    }
   ],
   "source": [
    "64 * 48 / 16"
   ]
  }
 ],
 "metadata": {
  "kernelspec": {
   "display_name": "Python 3",
   "language": "python",
   "name": "python3"
  },
  "language_info": {
   "codemirror_mode": {
    "name": "ipython",
    "version": 3
   },
   "file_extension": ".py",
   "mimetype": "text/x-python",
   "name": "python",
   "nbconvert_exporter": "python",
   "pygments_lexer": "ipython3",
   "version": "3.5.2"
  }
 },
 "nbformat": 4,
 "nbformat_minor": 2
}
